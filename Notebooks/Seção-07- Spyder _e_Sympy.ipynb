{
 "cells": [
  {
   "cell_type": "markdown",
   "metadata": {},
   "source": [
    "# TECHMIMO\n",
    "\n",
    "\n",
    "Autor: Rafael Pereira da Silva\n",
    "\n",
    "Seguem alguns recados para ajudá-los e para contribuir com o curso:\n",
    "\n",
    "- Fiquem à vontade para me contatar pelo Linkdin, costumo responder por lá também: https://www.linkedin.com/in/rafael-pereira-da-silva-23890799/\n",
    "\n",
    "- Fiquem a vontade para compartilharem o certificado do curso no Linkedin. Eu costumo curtir e comentar para dar mais credibilidade\n",
    "\n",
    "- Vocês podem usar esses notebooks para resolver os exercícios e desafios\n",
    "\n",
    "- Não se esqueçam de avaliar o curso e dar feedback, eu costumo criar conteúdos baseado nas demandas de vocês\n",
    "- Se tiverem gostando do curso, recomendem aos amigos, pois isso também ajuda a impulsionar e a crescer a comunidade\n",
    "-  Bons estudos e grande abraços!\n"
   ]
  },
  {
   "cell_type": "markdown",
   "metadata": {},
   "source": [
    "## Sobre o Material\n",
    "\n",
    "Este material é parte do curso **Python para Engenheiros e Cientistas** e está sobre a licença MIT.\n",
    "Caso você tenha interesse em conhecer o curso, acesso o link abaixo.\n",
    "\n",
    "\n",
    "https://www.udemy.com/course/python-para-engenheiros-e-cientistas/?referralCode=FA25B2C024FF2D3F8232\n",
    "\n",
    "\n",
    "Algumas aulas, exercícios e desafios estarão sem códigos propositalmente para que o aluno possa preencher.\n"
   ]
  },
  {
   "cell_type": "markdown",
   "metadata": {},
   "source": [
    "# Seção 7 - Spyder e Sympy"
   ]
  },
  {
   "cell_type": "markdown",
   "metadata": {},
   "source": [
    "## 7.1 Introdução ao Spyder a ao SymPy\n",
    "\n",
    "### O que é Spyder\n",
    "Sypyder é um ambiente similar a *softwares* como Matlab ou Mathematica. Ele contém funcionalidades interessantes para quem desenvolve trabalhos científicos. Para mais informações veja:  https://www.spyder-ide.org/\n",
    "\n",
    "\n",
    "Algumas de suas funcionalidades são:\n",
    "- Editor\n",
    "- Ipython Console\n",
    "- Explorador de variáveis\n",
    "- Para outras funcionalidades acesse: https://docs.spyder-ide.org/overview.html\n",
    "\n",
    "### O que é SymPy\n",
    "SymPy é uma biblioteca para trabalhar com matemática simbólica. \n",
    "\n",
    "Algumas funcionalidades são:\n",
    "- Trabalhar com matrizes\n",
    "- Realizar cálculo de derivadas, integrais, etc.\n",
    "- Utilizar *solvers*\n",
    "- Para outras funcionalidades acesse: https://docs.sympy.org/latest/index.html"
   ]
  },
  {
   "cell_type": "markdown",
   "metadata": {},
   "source": [
    "## 7.2 Símbolos\n",
    "- Função **symbols(** *string_de_símbolo* **)**\n",
    "- Função **init_printing()**\n",
    "- Método **subs(** *símbolos* , *valores* **)**\n",
    "- Função **simplify**(*equação*)\n",
    "- Operações booleanas funcionam com símbolos\n",
    "- Para outras maneiras de simplificar, acesse: https://docs.sympy.org/latest/tutorial/simplification.html"
   ]
  },
  {
   "cell_type": "code",
   "execution_count": 9,
   "metadata": {},
   "outputs": [
    {
     "data": {
      "text/plain": [
       "x**2"
      ]
     },
     "execution_count": 9,
     "metadata": {},
     "output_type": "execute_result"
    }
   ],
   "source": [
    "import sympy as sp\n",
    "\n",
    "x = sp.symbols('x')\n",
    "\n",
    "x*x"
   ]
  },
  {
   "cell_type": "code",
   "execution_count": 13,
   "metadata": {},
   "outputs": [
    {
     "data": {
      "image/png": "[encoded data removed]",
      "text/latex": [
       "$$x^{2} + x y + y^{2}$$"
      ],
      "text/plain": [
       " 2          2\n",
       "x  + x⋅y + y "
      ]
     },
     "execution_count": 13,
     "metadata": {},
     "output_type": "execute_result"
    }
   ],
   "source": [
    "sp.init_printing()\n",
    "\n",
    "Lista_simbolos = ['y','x']\n",
    "y,x = sp.symbols(Lista_simbolos)\n",
    "\n",
    "f_x_y = x**2 + y**2 + x*y\n",
    "f_x_y\n"
   ]
  },
  {
   "cell_type": "code",
   "execution_count": 14,
   "metadata": {},
   "outputs": [
    {
     "data": {
      "image/png": "[encoded data removed]",
      "text/latex": [
       "$$7$$"
      ],
      "text/plain": [
       "7"
      ]
     },
     "execution_count": 14,
     "metadata": {},
     "output_type": "execute_result"
    }
   ],
   "source": [
    "resposta = f_x_y.subs(x,1).subs(y,2)\n",
    "resposta"
   ]
  },
  {
   "cell_type": "code",
   "execution_count": 16,
   "metadata": {},
   "outputs": [
    {
     "data": {
      "image/png": "[encoded data removed]",
      "text/latex": [
       "$$x^{2} + 4 x y + 3 y^{2}$$"
      ],
      "text/plain": [
       " 2              2\n",
       "x  + 4⋅x⋅y + 3⋅y "
      ]
     },
     "execution_count": 16,
     "metadata": {},
     "output_type": "execute_result"
    }
   ],
   "source": [
    "f_xy = (x+y)**2 + y**2 + 2*x*y + y**2\n",
    "sp.simplify(f_xy)\n"
   ]
  },
  {
   "cell_type": "code",
   "execution_count": 22,
   "metadata": {
    "scrolled": true
   },
   "outputs": [
    {
     "data": {
      "image/png": "[encoded data removed]",
      "text/latex": [
       "$$x \\leq y$$"
      ],
      "text/plain": [
       "x ≤ y"
      ]
     },
     "execution_count": 22,
     "metadata": {},
     "output_type": "execute_result"
    }
   ],
   "source": [
    "x <= y\n",
    "\n"
   ]
  },
  {
   "cell_type": "code",
   "execution_count": null,
   "metadata": {
    "collapsed": true
   },
   "outputs": [],
   "source": []
  },
  {
   "cell_type": "markdown",
   "metadata": {},
   "source": [
    "## 7.3 - Matrizes\n",
    "- Função **Matrix([])**\n",
    "- Propriedade **.shape**\n",
    "- Matrizes úteis **eye(** *tamanho*), **zeros(** *i,j*), **ones(** *i,j*), \n",
    "- **diag(** *lista*), no caso do diag pode ser usado \\* antes da lista ou o argumento unpack=True\n",
    "- Operações comuns: **+,-,* **\n",
    "- Para inverter a matriz, basta elevar a -1\n",
    "- Para transpor use o método **.T**\n",
    "- Para achar o determinante use o método **.det()**\n",
    "- Para mais informações acesse: https://docs.sympy.org/latest/tutorial/matrices.html\n"
   ]
  },
  {
   "cell_type": "code",
   "execution_count": 83,
   "metadata": {},
   "outputs": [
    {
     "data": {
      "image/png": "[encoded data removed]",
      "text/latex": [
       "$$\\left ( 2, \\quad 3\\right )$$"
      ],
      "text/plain": [
       "(2, 3)"
      ]
     },
     "execution_count": 83,
     "metadata": {},
     "output_type": "execute_result"
    }
   ],
   "source": [
    "import sympy as sp\n",
    "sp.init_printing()\n",
    "\n",
    "A = sp.Matrix([[1,2,3],[4,5,6]])\n",
    "A.shape"
   ]
  },
  {
   "cell_type": "code",
   "execution_count": 89,
   "metadata": {},
   "outputs": [
    {
     "data": {
      "text/plain": [
       "False"
      ]
     },
     "execution_count": 89,
     "metadata": {},
     "output_type": "execute_result"
    }
   ],
   "source": [
    "B = sp.Matrix([[1,2,3]])\n",
    "C = sp.Matrix([[1],[2],[3]])\n",
    "D = sp.Matrix([1,2,3])\n",
    "\n",
    "B == D\n"
   ]
  },
  {
   "cell_type": "code",
   "execution_count": 102,
   "metadata": {},
   "outputs": [
    {
     "data": {
      "image/png": "[encoded data removed]",
      "text/latex": [
       "$$504$$"
      ],
      "text/plain": [
       "504"
      ]
     },
     "execution_count": 102,
     "metadata": {},
     "output_type": "execute_result"
    }
   ],
   "source": [
    "I = sp.zeros(3)\n",
    "\n",
    "\n",
    "Lista_E = [7,8,9]\n",
    "E = sp.diag(*Lista_E)\n",
    "\n",
    "E.det()\n"
   ]
  },
  {
   "cell_type": "code",
   "execution_count": 106,
   "metadata": {},
   "outputs": [
    {
     "data": {
      "image/png": "[encoded data removed]",
      "text/latex": [
       "$$\\left[\\begin{matrix}x_{1} + 2 x_{2} + 3 x_{3} - 11\\\\4 x_{1} + 5 x_{2} + 6 x_{3} - 22\\\\7 x_{1} + 8 x_{2} + 9 x_{3} - 33\\end{matrix}\\right]$$"
      ],
      "text/plain": [
       "⎡ x₁ + 2⋅x₂ + 3⋅x₃ - 11 ⎤\n",
       "⎢                       ⎥\n",
       "⎢4⋅x₁ + 5⋅x₂ + 6⋅x₃ - 22⎥\n",
       "⎢                       ⎥\n",
       "⎣7⋅x₁ + 8⋅x₂ + 9⋅x₃ - 33⎦"
      ]
     },
     "execution_count": 106,
     "metadata": {},
     "output_type": "execute_result"
    }
   ],
   "source": [
    "## Sistema linear\n",
    "x1,x2,x3 = sp.symbols(['x1','x2','x3'])\n",
    "\n",
    "X = sp.Matrix([x1,x2,x3])\n",
    "E = sp.Matrix([[1,2,3],[4,5,6],[7,8,9]])\n",
    "R = sp.Matrix([11,22,33])\n",
    "\n",
    "## EX = R\n",
    "\n",
    "E*X - R\n"
   ]
  },
  {
   "cell_type": "code",
   "execution_count": null,
   "metadata": {
    "collapsed": true
   },
   "outputs": [],
   "source": []
  },
  {
   "cell_type": "code",
   "execution_count": null,
   "metadata": {
    "collapsed": true
   },
   "outputs": [],
   "source": []
  },
  {
   "cell_type": "code",
   "execution_count": null,
   "metadata": {
    "collapsed": true
   },
   "outputs": [],
   "source": []
  },
  {
   "cell_type": "code",
   "execution_count": null,
   "metadata": {
    "collapsed": true
   },
   "outputs": [],
   "source": []
  },
  {
   "cell_type": "markdown",
   "metadata": {},
   "source": [
    "## 7.4 - Funções do cálculo\n",
    "- Derivada **diff(** *função*,*variável* **)**\n",
    "- Integral **integrate(** *função*,(*variável*,*início*,*fim* )**)**\n",
    "- Outras funções disponíveis são: limites, expansão de séries, diferenças finitas.\n",
    "- Para mais informações acesse: https://docs.sympy.org/latest/tutorial/calculus.html"
   ]
  },
  {
   "cell_type": "code",
   "execution_count": 2,
   "metadata": {},
   "outputs": [],
   "source": [
    "# A ser preenchido pelo aluno (assista a aula)"
   ]
  },
  {
   "cell_type": "code",
   "execution_count": null,
   "metadata": {
    "collapsed": true
   },
   "outputs": [],
   "source": []
  },
  {
   "cell_type": "code",
   "execution_count": null,
   "metadata": {
    "collapsed": true
   },
   "outputs": [],
   "source": []
  },
  {
   "cell_type": "markdown",
   "metadata": {
    "collapsed": true
   },
   "source": [
    "## 7.5 Solvers\n",
    "- **solveset**( *eq*, *args* **)** ou **solve**\n",
    "- **dsolve**( *eq*, *args* **)**, **Function('fx')** e **Derivative(** *fx*,*args* **)**\n",
    "- Acesse: https://docs.sympy.org/latest/tutorial/solvers.html\n",
    "- Acesse: https://docs.sympy.org/latest/modules/solvers/solveset.html#sympy.solvers.solveset.nonlinsolve\n"
   ]
  },
  {
   "cell_type": "code",
   "execution_count": 3,
   "metadata": {},
   "outputs": [],
   "source": [
    "# A ser preenchido pelo aluno (assista a aula)"
   ]
  },
  {
   "cell_type": "code",
   "execution_count": null,
   "metadata": {
    "collapsed": true
   },
   "outputs": [],
   "source": []
  },
  {
   "cell_type": "code",
   "execution_count": null,
   "metadata": {
    "collapsed": true
   },
   "outputs": [],
   "source": []
  },
  {
   "cell_type": "markdown",
   "metadata": {},
   "source": [
    "## 7.6 Exercício 1\n",
    "Dadas as matrizes A,B, C e D, calcule, para cada uma, o determinante, a matriz transposta e a matriz inversa.\n",
    "\n",
    "$$ A=\n",
    " \\begin{bmatrix}\n",
    "   1 & 2 \\\\\\\\\n",
    "   4 & 5\n",
    "  \\end{bmatrix}\n",
    "$$\n",
    "\n",
    "$$ B=\n",
    " \\begin{bmatrix}\n",
    "   cos(\\pi/4) & -sen(\\pi/4) \\\\\\\\\n",
    "   sen(\\pi/4) & cos(\\pi/4)\n",
    "  \\end{bmatrix}\n",
    "$$\n",
    "\n",
    "$$ C=\n",
    " \\begin{bmatrix}\n",
    "   2 & -2 \\\\\\\\\n",
    "   -2 & 5\n",
    "  \\end{bmatrix}\n",
    "$$\n",
    "\n",
    "$$\n",
    "D=\n",
    " \\begin{bmatrix}\n",
    "   2 & 2 \\\\\\\\\n",
    "   4 & 4\n",
    "  \\end{bmatrix}\n",
    "$$\n",
    "\n",
    "\n",
    "Notas:\n",
    "- A tem determinante diferente de zero\n",
    "- B é uma matriz orgonal, sua inversa é igual a sua transposta, e seu det deve ser + ou -1\n",
    "- C é uma matriz simétrica, ela é igual a sua transposta\n",
    "- D possui determinante igual a zero, portanto não é inversível"
   ]
  },
  {
   "cell_type": "code",
   "execution_count": 4,
   "metadata": {},
   "outputs": [],
   "source": [
    "# A ser resolvido pelo aluno (assista a aula)"
   ]
  },
  {
   "cell_type": "code",
   "execution_count": null,
   "metadata": {},
   "outputs": [],
   "source": []
  },
  {
   "cell_type": "code",
   "execution_count": null,
   "metadata": {
    "collapsed": true
   },
   "outputs": [],
   "source": []
  },
  {
   "cell_type": "markdown",
   "metadata": {},
   "source": [
    "## 7.7 Exercício 2\n",
    "Dadas as funções, calcule sua derivada de primeira ordem e sua primitiva (integral sem limites de integração).\n",
    "$$ A(x) = e^x $$\n",
    "\n",
    "$$ B(x) = x^3 $$\n",
    "\n",
    "$$ C(x) = 1/x $$\n",
    "\n",
    "Nota: O sympy não acrescenta constantes para integrais indefinidas, elas devem ser acrescentadas manualmente.\n"
   ]
  },
  {
   "cell_type": "code",
   "execution_count": 5,
   "metadata": {},
   "outputs": [],
   "source": [
    "# A ser resolvido pelo aluno (assista a aula)"
   ]
  },
  {
   "cell_type": "code",
   "execution_count": null,
   "metadata": {},
   "outputs": [],
   "source": []
  },
  {
   "cell_type": "code",
   "execution_count": null,
   "metadata": {},
   "outputs": [],
   "source": []
  },
  {
   "cell_type": "markdown",
   "metadata": {},
   "source": [
    "## 7.8 Exercício 3\n",
    "Calcule a integral dupla:\n",
    "$$ A(x,y) = \\iint_{A}dx.dy   $$\n",
    "\n",
    "Considere: $ 0 \\le x \\le 3 $ e $ 0 \\le y \\le 4 $\n",
    "\n",
    "\n"
   ]
  },
  {
   "cell_type": "code",
   "execution_count": 6,
   "metadata": {},
   "outputs": [],
   "source": [
    "# A ser resolvido pelo aluno (assista a aula)"
   ]
  },
  {
   "cell_type": "code",
   "execution_count": null,
   "metadata": {
    "collapsed": true
   },
   "outputs": [],
   "source": []
  },
  {
   "cell_type": "markdown",
   "metadata": {},
   "source": [
    "## 7.9 Exercício 4\n",
    "Ache as raízes das equações:\n",
    "\n",
    "$$ A(x) = x^3 + 5x^2  $$\n",
    "\n",
    "$$ B(x) = x^2 + 9 $$\n",
    "\n",
    "$$ C(x) = sen(x) $$\n",
    "\n",
    "$$ D(x) = x^2 + cos(x) $$\n",
    "\n",
    "\n"
   ]
  },
  {
   "cell_type": "code",
   "execution_count": 7,
   "metadata": {},
   "outputs": [],
   "source": [
    "# A ser resolvido pelo aluno (assista a aula)"
   ]
  },
  {
   "cell_type": "markdown",
   "metadata": {},
   "source": [
    "## 7.10 Exercício 5\n",
    "Dadas as matrizes, resolva o sistema de equação $[A].\\{X\\} = \\{B\\}$\n",
    "\n",
    "$$ A=\n",
    " \\begin{bmatrix}\n",
    "   1 & 1 & 1 \\\\\\\\\n",
    "   1 & 2 & 2 \\\\\\\\\n",
    "   2 & 1 & 3 \n",
    "\\end{bmatrix}\n",
    "$$\n",
    "\n",
    "$$ X=\n",
    " \\begin{bmatrix}\n",
    "   x_1 \\\\\\\\\n",
    "   x_2 \\\\\\\\\n",
    "   x_3 \n",
    "\\end{bmatrix}\n",
    "$$\n",
    "\n",
    "$$ B=\n",
    " \\begin{bmatrix}\n",
    "   6 \\\\\\\\\n",
    "   9 \\\\\\\\\n",
    "   11 \n",
    "\\end{bmatrix}\n",
    "$$\n",
    "\n",
    "\n"
   ]
  },
  {
   "cell_type": "code",
   "execution_count": 8,
   "metadata": {},
   "outputs": [],
   "source": [
    "# A ser resolvido pelo aluno (assista a aula)"
   ]
  },
  {
   "cell_type": "markdown",
   "metadata": {},
   "source": [
    "## 7.11 Exercício 6\n",
    "Resolva as EDOs:\n",
    "$$ A)\\ \\ \\frac{dy}{dx} = \\frac{x^2}{y} $$\n",
    "\n",
    "$$ B)\\ \\ m\\ddot{x}(t) + c\\dot{x}(t) + kx(t)=0; \\ \\ com\\ x(0) = x_0 \\ e\\  \\dot{x}(0) = v_0   $$\n",
    "\n",
    "\n"
   ]
  },
  {
   "cell_type": "code",
   "execution_count": null,
   "metadata": {
    "collapsed": true
   },
   "outputs": [],
   "source": [
    "# A ser resolvido pelo aluno (assista a aula)"
   ]
  },
  {
   "cell_type": "code",
   "execution_count": null,
   "metadata": {
    "collapsed": true
   },
   "outputs": [],
   "source": []
  },
  {
   "cell_type": "markdown",
   "metadata": {},
   "source": [
    "## 7.12 Desafio 1\n",
    "Calcule a área da superfície de uma semi-esfera baseada em sua equação: \n",
    "$x^2+y^2+z^2=100$\n",
    "\n",
    "**Equação paramétrica da esfera:**\n",
    "$$\n",
    "  \\sigma (\\theta , \\phi) =\n",
    "  \\begin{cases}\n",
    "  x = r.sen(\\phi).cos(\\theta) \\\\\\\\\n",
    "  y = r.sen(\\phi).sen(\\theta) \\\\\\\\\n",
    "  z = r.cos(\\phi)\n",
    "\\end{cases}\n",
    "$$\n",
    "\n",
    "**A área de $\\sigma$ pode ser calculada como:**\n",
    "\n",
    "$$ A_\\sigma = \\iint_{K} \\Big|\\Big| \\frac{\\partial\\sigma}{\\partial\\theta}  \\land  \\frac{\\partial\\sigma}{\\partial\\phi} \\Big|\\Big| d\\theta d\\phi  $$\n",
    "\n",
    "Considere a semi-esfera: $ 0 \\le \\phi \\le \\pi/2 $ e $ 0 \\le \\theta \\le 2\\pi $\n",
    "\n",
    "Referências:\n",
    "- GUIDORIZZI, Hamilton Luiz. Um curso de cálculo volume 3. 5a edição, LTC, 2002.\n",
    "- https://www.ime.unicamp.br/~valle/Teaching/MA211/Aula23.pdf\n",
    "- https://socratic.org/questions/58e321437c014904021733e9"
   ]
  },
  {
   "cell_type": "code",
   "execution_count": null,
   "metadata": {},
   "outputs": [],
   "source": [
    "# A ser resolvido pelo aluno (assista a aula)"
   ]
  },
  {
   "cell_type": "markdown",
   "metadata": {},
   "source": [
    "## 7.13 - Desafio 2 - Longarina de uma aeronave\n",
    "Projete uma longarina considerndo as tensões devido ao momento fletor. Considere uma asa de aeronave que opera com as seguintes características:\n",
    "- Dimensões geométricas: $b = 2m$;\n",
    "- Peso máximo de decolagem é $W=100N$\n",
    "- Fator de carga $n_{max} = 2,3$\n",
    "- Longarina de alumínio com $E = 70.10^9 Pa$ e $sigma_{admissível} = 500.10^6 Pa$\n",
    "\n",
    "A força de sustentação (distribuição elíptica) na asa pode ser calculada por meio das fórmulas:\n",
    "\n",
    "$$\n",
    "  \\begin{cases}\n",
    "L = n_{max}.W \\\\\\\\\n",
    "L(y)_E=\\frac{4.L}{b.\\pi}\\sqrt{1 - \\Big(\\frac{2.y}{b}\\Big)^2}\n",
    "\\end{cases}\n",
    "$$\n",
    "\n",
    "Equações da linha elástica (nas coordenadas da figura):\n",
    "\n",
    "$$\n",
    "  \\begin{cases}\n",
    "E.I \\frac{d^4v}{dy^4} = - L(y) \\\\\\\\\n",
    "E.I \\frac{d^3v}{dy^3} = V(y) \\\\\\\\\n",
    "E.I \\frac{d^2v}{dy^2} = M(y) \n",
    "\\end{cases}\n",
    "$$\n",
    "\n",
    "Tensão devido ao momento fletor:\n",
    " $$\n",
    "  \\begin{cases}\n",
    "\\sigma_{f} = \\frac{M(y).c}{I} \\\\\\\\\n",
    "I = \\frac{d_1.h^3}{12}\n",
    "\\end{cases} $$\n",
    "\n",
    "- Para facilitar, podemos considerar -1 < y < 1 e utilizar o trecho 0 < y < 1. \n",
    "- Considere M(1) = 0 e V(1) = 0\n",
    "\n",
    "\n",
    "\n",
    "\n",
    "\n",
    "Referências:\n",
    "- RODRIGUES, Luiz Eduardo Miranda José. Engenharia Aeronáutica. Cengage Learning, 2014.\n",
    "- HIBBELER, R. C. Resistência dos Materiais. 5a ed. São Paulo: Pearson Prentice Hall, 2004.\n"
   ]
  },
  {
   "cell_type": "code",
   "execution_count": 9,
   "metadata": {},
   "outputs": [],
   "source": [
    "# A ser resolvido pelo aluno (assista a aula)"
   ]
  },
  {
   "cell_type": "markdown",
   "metadata": {},
   "source": [
    "## 7.14 Desafio 3 - Impacto de um veículo passando em um tronco\n",
    "Calcule o fator de carga do impacto de um veículo passando em um tronco. Dados:\n",
    "- $ m = 200kg $\n",
    "- $ k = 1.10^4 N/m$\n",
    "- $ c = 5.10^2 N.s/m $\n",
    "- $ v = 30 km/h $\n",
    "\n",
    "Equação de movimento:\n",
    "$$ m \\ddot{x} + c(\\dot{x} - \\dot{y}) + k(x - y) = 0 $$\n",
    "\n",
    "Força transmitida ao carro:\n",
    "$$ F(t) = k(x-y) + c(\\dot{x} - \\dot{y}) $$\n",
    "\n",
    "Modelo do tronco:\n",
    "\n",
    "$$ y(t) =  Y.sen(\\omega_b.t) $$\n",
    "\n",
    "\n",
    "\n",
    "\n",
    "Referência:\n",
    "- INMAN, Daniel J. Engineering Vibration. New Jersey: Pearson Prentice Hell: 2008. pg 131, 136\n",
    "\n",
    "\n",
    "\n"
   ]
  },
  {
   "cell_type": "code",
   "execution_count": 10,
   "metadata": {},
   "outputs": [],
   "source": [
    "# A ser resolvido pelo aluno (assista a aula)"
   ]
  },
  {
   "cell_type": "code",
   "execution_count": null,
   "metadata": {},
   "outputs": [],
   "source": []
  },
  {
   "cell_type": "code",
   "execution_count": null,
   "metadata": {},
   "outputs": [],
   "source": []
  }
 ],
 "metadata": {
  "kernelspec": {
   "display_name": "Python 3",
   "language": "python",
   "name": "python3"
  },
  "language_info": {
   "codemirror_mode": {
    "name": "ipython",
    "version": 3
   },
   "file_extension": ".py",
   "mimetype": "text/x-python",
   "name": "python",
   "nbconvert_exporter": "python",
   "pygments_lexer": "ipython3",
   "version": "3.8.3"
  }
 },
 "nbformat": 4,
 "nbformat_minor": 2
}
