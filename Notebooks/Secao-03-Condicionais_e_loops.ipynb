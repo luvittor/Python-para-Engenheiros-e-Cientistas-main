{
 "cells": [
  {
   "cell_type": "markdown",
   "metadata": {},
   "source": [
    "# TECHMIMO\n",
    "\n",
    "\n",
    "Autor: Rafael Pereira da Silva\n",
    "\n",
    "Seguem alguns recados para ajudá-los e para contribuir com o curso:\n",
    "\n",
    "- Fiquem à vontade para me contatar pelo Linkdin, costumo responder por lá também: https://www.linkedin.com/in/rafael-pereira-da-silva-23890799/\n",
    "\n",
    "- Fiquem a vontade para compartilharem o certificado do curso no Linkedin. Eu costumo curtir e comentar para dar mais credibilidade\n",
    "\n",
    "- Vocês podem usar esses notebooks para resolver os exercícios e desafios\n",
    "\n",
    "- Não se esqueçam de avaliar o curso e dar feedback, eu costumo criar conteúdos baseado nas demandas de vocês\n",
    "- Se tiverem gostando do curso, recomendem aos amigos, pois isso também ajuda a impulsionar e a crescer a comunidade\n",
    "-  Bons estudos e grande abraços!\n"
   ]
  },
  {
   "cell_type": "markdown",
   "metadata": {},
   "source": [
    "## Sobre o Material\n",
    "\n",
    "Este material é parte do curso **Python para Engenheiros e Cientistas** e está sobre a licença MIT.\n",
    "Caso você tenha interesse em conhecer o curso, acesso o link abaixo.\n",
    "\n",
    "\n",
    "https://www.udemy.com/course/python-para-engenheiros-e-cientistas/?referralCode=FA25B2C024FF2D3F8232\n",
    "\n",
    "\n",
    "Algumas aulas, exercícios e desafios estarão sem códigos propositalmente para que o aluno possa preencher.\n"
   ]
  },
  {
   "cell_type": "markdown",
   "metadata": {},
   "source": [
    "# Seção 3 - Condionais e loops\n",
    "\n",
    "Palavras chave: *Control flow* ou *Control structures*\n",
    "\n",
    "Essa aula é inspirada em: https://docs.python.org/3/tutorial/controlflow.html"
   ]
  },
  {
   "cell_type": "markdown",
   "metadata": {
    "collapsed": true
   },
   "source": [
    "## 3.1 Condicional *if*\n",
    "\n",
    "### Construções\n",
    "- **if** condição**:**\n",
    "- **elif** condição**:**\n",
    "- **else:**\n",
    "\n",
    "### Operações booleanas\n",
    "Além dos comparadores, também podemos fazer operações booleanas. Elas são úteis em estruturas condicionais. Duas delas são: **or** e **and**.\n",
    "\n",
    "\n",
    "Acesse: https://docs.python.org/3/library/stdtypes.html#"
   ]
  },
  {
   "cell_type": "code",
   "execution_count": 4,
   "metadata": {},
   "outputs": [
    {
     "name": "stdout",
     "output_type": "stream",
     "text": [
      "nenhuma alternativa\n"
     ]
    }
   ],
   "source": [
    "x = 0\n",
    "\n",
    "if x > 0:\n",
    "    print('positivo')\n",
    "elif x < 0:\n",
    "    print('negativo')\n",
    "else:\n",
    "    print('nenhuma alternativa')"
   ]
  },
  {
   "cell_type": "code",
   "execution_count": 5,
   "metadata": {},
   "outputs": [
    {
     "name": "stdout",
     "output_type": "stream",
     "text": [
      "Matemática\n"
     ]
    }
   ],
   "source": [
    "x = 'Matemática'\n",
    "\n",
    "if x == 'Matemática':\n",
    "    print(x)"
   ]
  },
  {
   "cell_type": "code",
   "execution_count": 6,
   "metadata": {},
   "outputs": [
    {
     "name": "stdout",
     "output_type": "stream",
     "text": [
      "5\n"
     ]
    }
   ],
   "source": [
    "x = 5\n",
    "\n",
    "if type(x) is not str:\n",
    "    print(x)\n"
   ]
  },
  {
   "cell_type": "code",
   "execution_count": 7,
   "metadata": {
    "scrolled": true
   },
   "outputs": [
    {
     "name": "stdout",
     "output_type": "stream",
     "text": [
      "-10\n"
     ]
    }
   ],
   "source": [
    "x = -10\n",
    "\n",
    "if x > 4 or x < 0:\n",
    "    print(x)\n",
    "\n"
   ]
  },
  {
   "cell_type": "markdown",
   "metadata": {
    "collapsed": true
   },
   "source": [
    "## 3.2 Loop *for*\n",
    "\n",
    "\n",
    "- **for** variável **in** o_que_será_iterado**:** \n",
    "\n",
    "Há uma série de tipos que podem ser utilizado como iteradores, como:\n",
    "- range --> seus elementos são inteiros\n",
    "- list --> seus elementos são os que estão contidos na lista\n",
    "- enumerate --> seus elementos são tuplas que contem inteiros e valores\n",
    "\n",
    "\n",
    "\n"
   ]
  },
  {
   "cell_type": "code",
   "execution_count": 11,
   "metadata": {},
   "outputs": [
    {
     "name": "stdout",
     "output_type": "stream",
     "text": [
      "0\n",
      "1\n",
      "2\n",
      "3\n",
      "4\n",
      "5\n",
      "6\n"
     ]
    },
    {
     "data": {
      "text/plain": [
       "7"
      ]
     },
     "execution_count": 11,
     "metadata": {},
     "output_type": "execute_result"
    }
   ],
   "source": [
    "lista = ['a',2,'b',4,5,5,'w']\n",
    "\n",
    "\n",
    "for i in range(len(lista)):\n",
    "    print(i)\n",
    "\n",
    "    \n"
   ]
  },
  {
   "cell_type": "code",
   "execution_count": 18,
   "metadata": {},
   "outputs": [
    {
     "name": "stdout",
     "output_type": "stream",
     "text": [
      "a\n",
      "2\n",
      "b\n",
      "4\n",
      "5\n",
      "5\n",
      "w\n"
     ]
    }
   ],
   "source": [
    "for item in lista:\n",
    "    print(item)"
   ]
  },
  {
   "cell_type": "code",
   "execution_count": 25,
   "metadata": {},
   "outputs": [
    {
     "name": "stdout",
     "output_type": "stream",
     "text": [
      "0a\n",
      "(0, 'a')\n",
      "12\n",
      "(1, 2)\n",
      "2b\n",
      "(2, 'b')\n",
      "34\n",
      "(3, 4)\n",
      "45\n",
      "(4, 5)\n",
      "55\n",
      "(5, 5)\n",
      "6w\n",
      "(6, 'w')\n"
     ]
    }
   ],
   "source": [
    "lista = ['a',2,'b',4,5,5,'w']\n",
    "\n",
    "for i in enumerate(lista):\n",
    "    print(str(i[0]) + str(i[1]))\n",
    "    print(i)\n"
   ]
  },
  {
   "cell_type": "markdown",
   "metadata": {},
   "source": [
    "## 3.3 Loop *while*\n",
    "- **while** condição**:**\n",
    "\n",
    "Enquanto a condição for verdadeira, o programa executará os comandos\n",
    "\n",
    "Uma noção sobre tipos booleanos é interessante para executar esse comando\n"
   ]
  },
  {
   "cell_type": "code",
   "execution_count": 26,
   "metadata": {},
   "outputs": [
    {
     "name": "stdout",
     "output_type": "stream",
     "text": [
      "10\n",
      "11\n",
      "12\n",
      "13\n",
      "14\n",
      "15\n",
      "16\n",
      "17\n",
      "18\n",
      "19\n",
      "20\n"
     ]
    }
   ],
   "source": [
    "x = 10\n",
    "\n",
    "while x > 5:\n",
    "    print(x)\n",
    "    #x = x - 1\n",
    "    x += 1\n",
    "    if x > 20:\n",
    "        break"
   ]
  },
  {
   "cell_type": "code",
   "execution_count": null,
   "metadata": {
    "collapsed": true
   },
   "outputs": [],
   "source": []
  },
  {
   "cell_type": "markdown",
   "metadata": {},
   "source": [
    "## 3.4 Exercício 1 - \n",
    "Crie um condicional que, dada uma variável, faça as operações:\n",
    "- Se for número positivo, retorna \"Número positivo\"\n",
    "- Se for número negativo, retorna \"Número negativo\"\n",
    "- Se for zero, retorna \"zero\"\n",
    "- Se não for número, retorna \"Não é um número\"\n",
    "\n"
   ]
  },
  {
   "cell_type": "code",
   "execution_count": 6,
   "metadata": {},
   "outputs": [],
   "source": [
    "# A ser resolvido pelo aluno (assista o vídeo com a solução)"
   ]
  },
  {
   "cell_type": "code",
   "execution_count": 2,
   "metadata": {},
   "outputs": [
    {
     "name": "stdout",
     "output_type": "stream",
     "text": [
      "não é um numero inteiro\n",
      "fim\n"
     ]
    }
   ],
   "source": [
    "teste = 0\n",
    "\n",
    "if type(teste) != int:\n",
    "    print(\"não é um numero inteiro\")\n",
    "elif teste > 0:\n",
    "    print(\"numero positivo\")\n",
    "elif teste < 0:\n",
    "    print(\"numero negativo\")\n",
    "elif teste == 0:\n",
    "    print(\"numero igual a zero\")\n",
    "\n",
    "\n",
    "print(\"fim\")\n",
    "\n"
   ]
  },
  {
   "cell_type": "markdown",
   "metadata": {},
   "source": [
    "## 3.5 Exercício 2 - \n",
    "Faça um loop **for** para criar uma lista que intercale os valores das listas a seguir:\n",
    "- valores = [1,2,3,4,5] \n",
    "- letras = ['a','b','c','d','e']\n",
    "\n",
    "Dica: você pode utilizar o método .append() que adiciona um elemento ao final da lista."
   ]
  },
  {
   "cell_type": "code",
   "execution_count": 8,
   "metadata": {},
   "outputs": [],
   "source": [
    "# A ser resolvido pelo aluno (assista o vídeo com a solução)"
   ]
  },
  {
   "cell_type": "code",
   "execution_count": 38,
   "metadata": {},
   "outputs": [
    {
     "data": {
      "text/plain": [
       "[1, 'a', 2, 'b', 3, 'c', 4, 'd', 5, 'e']"
      ]
     },
     "execution_count": 38,
     "metadata": {},
     "output_type": "execute_result"
    }
   ],
   "source": [
    "valores = [1,2,3,4,5] \n",
    "letras = ['a','b','c','d','e']\n",
    "\n",
    "novo = []\n",
    "\n",
    "for i in range(len(valores)):\n",
    "    novo.append(valores[i])\n",
    "    novo.append(letras[i])\n",
    "    \n",
    "novo\n",
    "    \n",
    "\n"
   ]
  },
  {
   "cell_type": "code",
   "execution_count": null,
   "metadata": {
    "collapsed": true
   },
   "outputs": [],
   "source": []
  },
  {
   "cell_type": "code",
   "execution_count": null,
   "metadata": {
    "collapsed": true
   },
   "outputs": [],
   "source": []
  },
  {
   "cell_type": "markdown",
   "metadata": {},
   "source": [
    "## 3.6 Exercício 3 - \n",
    "Dado um número inteiro, faça um operador while que calcule o fatorial desse número. Dicas: utilize as operações ** *=** e também **-=**"
   ]
  },
  {
   "cell_type": "code",
   "execution_count": 9,
   "metadata": {},
   "outputs": [],
   "source": [
    "# A ser resolvido pelo aluno (assista o vídeo com a solução)"
   ]
  },
  {
   "cell_type": "code",
   "execution_count": 6,
   "metadata": {},
   "outputs": [
    {
     "data": {
      "text/plain": [
       "720"
      ]
     },
     "execution_count": 6,
     "metadata": {},
     "output_type": "execute_result"
    }
   ],
   "source": [
    "numero = 5\n",
    "fat = numero\n",
    "\n",
    "while numero > 1:\n",
    "    fat *= numero-1\n",
    "    numero-=1\n",
    "\n",
    "fat"
   ]
  },
  {
   "cell_type": "code",
   "execution_count": null,
   "metadata": {},
   "outputs": [],
   "source": []
  },
  {
   "cell_type": "markdown",
   "metadata": {},
   "source": [
    "## 3.7 Desafio 1 - Números primos\n",
    "Crie uma lista com os cinquenta primeiros números primos.\n",
    "\n",
    "Dica: pode ser utilizado o comando break e continue"
   ]
  },
  {
   "cell_type": "code",
   "execution_count": 10,
   "metadata": {},
   "outputs": [],
   "source": [
    "# A ser resolvido pelo aluno (assista o vídeo com a solução)"
   ]
  },
  {
   "cell_type": "code",
   "execution_count": 96,
   "metadata": {},
   "outputs": [
    {
     "name": "stdout",
     "output_type": "stream",
     "text": [
      "(0, 2)\n",
      "(1, 3)\n",
      "(2, 5)\n",
      "(3, 7)\n",
      "(4, 11)\n",
      "(5, 13)\n",
      "(6, 17)\n",
      "(7, 19)\n",
      "(8, 23)\n",
      "(9, 29)\n",
      "(10, 31)\n",
      "(11, 37)\n",
      "(12, 41)\n",
      "(13, 43)\n",
      "(14, 47)\n",
      "(15, 53)\n",
      "(16, 59)\n",
      "(17, 61)\n",
      "(18, 67)\n",
      "(19, 71)\n",
      "(20, 73)\n",
      "(21, 79)\n",
      "(22, 83)\n",
      "(23, 89)\n",
      "(24, 97)\n",
      "(25, 101)\n",
      "(26, 103)\n",
      "(27, 107)\n",
      "(28, 109)\n",
      "(29, 113)\n",
      "(30, 127)\n",
      "(31, 131)\n",
      "(32, 137)\n",
      "(33, 139)\n",
      "(34, 149)\n",
      "(35, 151)\n",
      "(36, 157)\n",
      "(37, 163)\n",
      "(38, 167)\n",
      "(39, 173)\n",
      "(40, 179)\n",
      "(41, 181)\n",
      "(42, 191)\n",
      "(43, 193)\n",
      "(44, 197)\n",
      "(45, 199)\n",
      "(46, 211)\n",
      "(47, 223)\n",
      "(48, 227)\n",
      "(49, 229)\n"
     ]
    }
   ],
   "source": [
    "primos = []\n",
    "\n",
    "i = 2\n",
    "\n",
    "while len(primos) < 50:\n",
    "    j = 2;\n",
    "    primo = True\n",
    "    \n",
    "    while j < i:\n",
    "        resto = i % j\n",
    "        \n",
    "        if resto == 0 and i != j and j != 1:\n",
    "            primo = False\n",
    "            break\n",
    "        \n",
    "        j+=1\n",
    "    \n",
    "    \n",
    "    if primo is True:\n",
    "        primos.append(i)\n",
    "    \n",
    "    i+=1\n",
    "\n",
    "for i in enumerate(primos):\n",
    "    print(i)"
   ]
  },
  {
   "cell_type": "code",
   "execution_count": null,
   "metadata": {},
   "outputs": [],
   "source": []
  },
  {
   "cell_type": "code",
   "execution_count": null,
   "metadata": {},
   "outputs": [],
   "source": []
  },
  {
   "cell_type": "markdown",
   "metadata": {},
   "source": [
    "## 3.8 Desafio 2 - Combinação\n",
    "Crie uma lista de todas as palavras formadas com as letras: ARARA\n",
    "\n",
    "Dica: o problema se trata de uma permutação com elementos repetidos.\n",
    "\n",
    "\n",
    "$$\n",
    "P^{3,2}_{5} = \\frac{5!}{3!2!} = 10\n",
    "$$\n",
    "\n",
    "\n",
    "Anotações conforme: IEZZI, Gelson *et al*. Matemática: 1a série. São Paulo: Atual, 1981.\n",
    "\n",
    "Para escrever fórmulas no Markdown: http://luvxuan.top/posts/Markdown-math/"
   ]
  },
  {
   "cell_type": "code",
   "execution_count": 5,
   "metadata": {},
   "outputs": [],
   "source": [
    "# A ser resolvido pelo aluno"
   ]
  },
  {
   "cell_type": "code",
   "execution_count": 7,
   "metadata": {},
   "outputs": [
    {
     "name": "stdout",
     "output_type": "stream",
     "text": [
      "('A', 'A', 'A', 'R', 'R')\n",
      "('A', 'A', 'R', 'A', 'R')\n",
      "('A', 'A', 'R', 'R', 'A')\n",
      "('A', 'R', 'A', 'A', 'R')\n",
      "('A', 'R', 'A', 'R', 'A')\n",
      "('A', 'R', 'R', 'A', 'A')\n",
      "('R', 'A', 'A', 'A', 'R')\n",
      "('R', 'A', 'A', 'R', 'A')\n",
      "('R', 'A', 'R', 'A', 'A')\n",
      "('R', 'R', 'A', 'A', 'A')\n"
     ]
    }
   ],
   "source": [
    "from more_itertools import distinct_permutations\n",
    "perm = distinct_permutations([\"A\", \"R\", \"A\", \"R\", \"A\"])\n",
    "\n",
    "for i in list(perm):\n",
    "    print(i)"
   ]
  },
  {
   "cell_type": "code",
   "execution_count": null,
   "metadata": {
    "collapsed": true
   },
   "outputs": [],
   "source": []
  },
  {
   "cell_type": "code",
   "execution_count": null,
   "metadata": {
    "collapsed": true
   },
   "outputs": [],
   "source": []
  }
 ],
 "metadata": {
  "kernelspec": {
   "display_name": "Python 3 (ipykernel)",
   "language": "python",
   "name": "python3"
  },
  "language_info": {
   "codemirror_mode": {
    "name": "ipython",
    "version": 3
   },
   "file_extension": ".py",
   "mimetype": "text/x-python",
   "name": "python",
   "nbconvert_exporter": "python",
   "pygments_lexer": "ipython3",
   "version": "3.10.5"
  }
 },
 "nbformat": 4,
 "nbformat_minor": 2
}
