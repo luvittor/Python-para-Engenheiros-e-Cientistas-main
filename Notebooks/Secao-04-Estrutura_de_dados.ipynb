{
 "cells": [
  {
   "cell_type": "markdown",
   "metadata": {},
   "source": [
    "# TECHMIMO\n",
    "\n",
    "\n",
    "Autor: Rafael Pereira da Silva\n",
    "\n",
    "Seguem alguns recados para ajudá-los e para contribuir com o curso:\n",
    "\n",
    "- Fiquem à vontade para me contatar pelo Linkdin, costumo responder por lá também: https://www.linkedin.com/in/rafael-pereira-da-silva-23890799/\n",
    "\n",
    "- Fiquem a vontade para compartilharem o certificado do curso no Linkedin. Eu costumo curtir e comentar para dar mais credibilidade\n",
    "\n",
    "- Vocês podem usar esses notebooks para resolver os exercícios e desafios\n",
    "\n",
    "- Não se esqueçam de avaliar o curso e dar feedback, eu costumo criar conteúdos baseado nas demandas de vocês\n",
    "- Se tiverem gostando do curso, recomendem aos amigos, pois isso também ajuda a impulsionar e a crescer a comunidade\n",
    "-  Bons estudos e grande abraços!\n"
   ]
  },
  {
   "cell_type": "markdown",
   "metadata": {},
   "source": [
    "## Sobre o Material\n",
    "\n",
    "Este material é parte do curso **Python para Engenheiros e Cientistas** e está sobre a licença MIT.\n",
    "Caso você tenha interesse em conhecer o curso, acesso o link abaixo.\n",
    "\n",
    "\n",
    "https://www.udemy.com/course/python-para-engenheiros-e-cientistas/?referralCode=FA25B2C024FF2D3F8232\n",
    "\n",
    "\n",
    "Algumas aulas, exercícios e desafios estarão sem códigos propositalmente para que o aluno possa preencher.\n"
   ]
  },
  {
   "cell_type": "markdown",
   "metadata": {},
   "source": [
    "# Seção 4 - Estrutura de dados\n",
    "\n",
    "\n",
    "Essa aula é inspirada em:\n",
    "- https://docs.python.org/3/tutorial/datastructures.html\n",
    "- LEE, Kent D. Python Programming Fundamentals. Second Edition. Springer - Verlag London 2014.\n"
   ]
  },
  {
   "cell_type": "markdown",
   "metadata": {},
   "source": [
    "## 4.1 Métodos para listas\n",
    "\n",
    "| Método | Descrição |\n",
    "| :-- | :-- |\n",
    "| .append(*variável*) | Adiciona a variável no final |\n",
    "| .extend(*outra_lista*) | Adiciona os elementos ao final |\n",
    "| .remove(*variável*) | Remove o primeiro elemento com valor *variável* |\n",
    "| .count(*variável*) | Conta o número de elementos com o valor *variável* |\n",
    "| .sort() | Reordena elementos em ordem numérica ou alfabética |\n",
    "| .reverse() | Inverte a ordem dos elementos |\n",
    "| .copy() | Retorna uma cópia da lista |\n",
    "| .index(*variável*) | Retorna o índice da primeira *variável* da lista |\n"
   ]
  },
  {
   "cell_type": "code",
   "execution_count": 3,
   "metadata": {},
   "outputs": [
    {
     "data": {
      "text/plain": [
       "6"
      ]
     },
     "execution_count": 3,
     "metadata": {},
     "output_type": "execute_result"
    }
   ],
   "source": [
    "lista_inteiros = [1,2,3,4,5]\n",
    "lista_2 = [6,7,8]\n",
    "lista_inteiros.append(lista_2)\n",
    "len(lista_inteiros)\n",
    "\n",
    "\n"
   ]
  },
  {
   "cell_type": "code",
   "execution_count": 29,
   "metadata": {},
   "outputs": [
    {
     "data": {
      "text/plain": [
       "3"
      ]
     },
     "execution_count": 29,
     "metadata": {},
     "output_type": "execute_result"
    }
   ],
   "source": [
    "lista_letras = ['a','b','c','a','a']\n",
    "n_vezes = lista_letras.count('a')\n",
    "n_vezes"
   ]
  },
  {
   "cell_type": "code",
   "execution_count": 31,
   "metadata": {},
   "outputs": [
    {
     "data": {
      "text/plain": [
       "[1, 3, 5, 8, 10]"
      ]
     },
     "execution_count": 31,
     "metadata": {},
     "output_type": "execute_result"
    }
   ],
   "source": [
    "lista_3 = [1,10,5,3,8]\n",
    "lista_3.sort()\n",
    "lista_3"
   ]
  },
  {
   "cell_type": "code",
   "execution_count": 34,
   "metadata": {},
   "outputs": [
    {
     "data": {
      "text/plain": [
       "['1', '10', '5', 'a', 'a', 'a', 'b', 'c']"
      ]
     },
     "execution_count": 34,
     "metadata": {},
     "output_type": "execute_result"
    }
   ],
   "source": [
    "lista_4 = ['a','b','c','a','a','10','1','5']\n",
    "lista_4.sort()\n",
    "lista_4\n",
    "\n"
   ]
  },
  {
   "cell_type": "markdown",
   "metadata": {},
   "source": [
    "## 4.2 Formas de trabalhar com listas\n",
    "\n",
    "| Função | Descrição |\n",
    "| :-- | :-- |\n",
    "| range(*inteiro*) | retorna um iterável do tipo range |\n",
    "| lambda x: *função_x* | Retorna uma função |\n",
    "| map(*função*,*lista*) | Retorna um iterável do tipo map |\n",
    "| list(*iterável*) | Cria uma lista a partir de um iterável |\n",
    "\n",
    "Atenção, este não é um tutorial sobre programação funcional! Quem se interessar pode pesquisar por: *Functional Programming* ou Programação Funcional."
   ]
  },
  {
   "cell_type": "code",
   "execution_count": 36,
   "metadata": {},
   "outputs": [
    {
     "data": {
      "text/plain": [
       "[0, 1, 4, 9, 16]"
      ]
     },
     "execution_count": 36,
     "metadata": {},
     "output_type": "execute_result"
    }
   ],
   "source": [
    "lista_quadrados = []\n",
    "\n",
    "for i in range(5):\n",
    "    lista_quadrados.append(i**2)\n",
    "lista_quadrados\n",
    "    "
   ]
  },
  {
   "cell_type": "code",
   "execution_count": 39,
   "metadata": {},
   "outputs": [
    {
     "data": {
      "text/plain": [
       "[0, 1, 2, 3, 4, 5, 6, 7, 8, 9]"
      ]
     },
     "execution_count": 39,
     "metadata": {},
     "output_type": "execute_result"
    }
   ],
   "source": [
    "a = list(range(10))\n",
    "a"
   ]
  },
  {
   "cell_type": "code",
   "execution_count": 47,
   "metadata": {},
   "outputs": [
    {
     "data": {
      "text/plain": [
       "[1, 4, 9, 16, 25]"
      ]
     },
     "execution_count": 47,
     "metadata": {},
     "output_type": "execute_result"
    }
   ],
   "source": [
    "numeros = [1,2,3,4,5]\n",
    "f = lambda x : x ** 2\n",
    "\n",
    "lista_5 = list(map(f,numeros))\n",
    "lista_5"
   ]
  },
  {
   "cell_type": "code",
   "execution_count": 15,
   "metadata": {},
   "outputs": [
    {
     "data": {
      "text/plain": [
       "[0, 1, 8, 27, 64, 125, 216, 343, 512, 729]"
      ]
     },
     "execution_count": 15,
     "metadata": {},
     "output_type": "execute_result"
    }
   ],
   "source": [
    "quadrados = [x**2 for x in range(6)]\n",
    "quadrados\n",
    "\n",
    "\n",
    "cubos = [x**3 for x in range(10)]\n",
    "cubos\n"
   ]
  },
  {
   "cell_type": "markdown",
   "metadata": {},
   "source": [
    "## 4.3 Tuplas, conjuntos e dicionários\n",
    "\n",
    "| Tipo | Descrição | Sintaxe |\n",
    "| :-- | :-- | :-- |\n",
    "| tuple | tupla: uma sequência de dados que é imutável | vogais = ('a','e','i','o','u')|\n",
    "| set | conjunto: elementos não possuem ordem e não se repetem  | alg_decimais = {0,1,2,3,4,5,6,7,8,9}\n",
    "| dict | dicionário: são indexaxos por uma chave *keys* | alg_romanos = {'I':1,\"II\":2,'III':3,'IV':4,'V':5,'X':10}\n"
   ]
  },
  {
   "cell_type": "code",
   "execution_count": 17,
   "metadata": {},
   "outputs": [
    {
     "data": {
      "text/plain": [
       "5"
      ]
     },
     "execution_count": 17,
     "metadata": {},
     "output_type": "execute_result"
    }
   ],
   "source": [
    "vogais = ('a','e','i','o','u')\n",
    "vogais[0]\n",
    "\n",
    "len(vogais)\n"
   ]
  },
  {
   "cell_type": "code",
   "execution_count": 22,
   "metadata": {},
   "outputs": [
    {
     "name": "stdout",
     "output_type": "stream",
     "text": [
      "(0, 'a')\n",
      "(1, 'e')\n",
      "(2, 'i')\n",
      "(3, 'o')\n",
      "(4, 'u')\n"
     ]
    }
   ],
   "source": [
    "vogais_list = ['a','e','i','o','u']\n",
    "\n",
    "for i in enumerate(vogais_list):\n",
    "    print(i)\n",
    "    "
   ]
  },
  {
   "cell_type": "code",
   "execution_count": 37,
   "metadata": {},
   "outputs": [
    {
     "data": {
      "text/plain": [
       "{'a', 'e', 'i', 'o', 'qa'}"
      ]
     },
     "execution_count": 37,
     "metadata": {},
     "output_type": "execute_result"
    }
   ],
   "source": [
    "set_variaveis = {'qa','e','a','i','o','a'}\n",
    "set_variaveis"
   ]
  },
  {
   "cell_type": "code",
   "execution_count": 31,
   "metadata": {},
   "outputs": [
    {
     "data": {
      "text/plain": [
       "{'dia': 10, 'mes': 5, 10: 3, 0: 'k'}"
      ]
     },
     "execution_count": 31,
     "metadata": {},
     "output_type": "execute_result"
    }
   ],
   "source": [
    "dict_1 = {'dia':10,'mes':5, 10:3, 0:'k'}\n",
    "dict_1['dia']\n",
    "dict_1[0]\n",
    "dict_1"
   ]
  },
  {
   "cell_type": "markdown",
   "metadata": {
    "collapsed": true
   },
   "source": [
    "## 4.4  Métodos para dicionários\n",
    "\n",
    "| Método | Descrição |\n",
    "| :-- | :-- |\n",
    "| .items() | Retorna os itens do dicionário |\n",
    "| .keys() | Retorna as chaves do dicionário |\n",
    "| .values() | Retorna as chaves do dicionário |\n",
    "| .pop(*key*) | Remove a chave especificada e retorna o valor do item  |\n",
    "| .copy() | Retorna uma cópia |\n",
    "| .clear() | Remove os itens |\n",
    "| .get(*key*) | Retornas a váriável em *key* |\n",
    "\n",
    "Disponível em: https://link.springer.com/chapter/10.1007%2F978-1-4471-6642-9_12"
   ]
  },
  {
   "cell_type": "code",
   "execution_count": 45,
   "metadata": {},
   "outputs": [
    {
     "data": {
      "text/plain": [
       "{'I': 1, 'II': 2, 'III': 3}"
      ]
     },
     "execution_count": 45,
     "metadata": {},
     "output_type": "execute_result"
    }
   ],
   "source": [
    "alg_romanos = {'I':1,'II':2,'III':3,'IV':4}\n",
    "\n",
    "a = alg_romanos.pop('IV')\n",
    "alg_romanos"
   ]
  },
  {
   "cell_type": "code",
   "execution_count": 43,
   "metadata": {},
   "outputs": [
    {
     "data": {
      "text/plain": [
       "[('I', 1), ('II', 2), ('III', 3)]"
      ]
     },
     "execution_count": 43,
     "metadata": {},
     "output_type": "execute_result"
    }
   ],
   "source": [
    "list(alg_romanos.items())\n"
   ]
  },
  {
   "cell_type": "code",
   "execution_count": 35,
   "metadata": {},
   "outputs": [
    {
     "data": {
      "text/plain": [
       "['I', 'II', 'III']"
      ]
     },
     "execution_count": 35,
     "metadata": {},
     "output_type": "execute_result"
    }
   ],
   "source": [
    "list(alg_romanos.keys())"
   ]
  },
  {
   "cell_type": "code",
   "execution_count": 37,
   "metadata": {},
   "outputs": [
    {
     "data": {
      "text/plain": [
       "[1, 2, 3]"
      ]
     },
     "execution_count": 37,
     "metadata": {},
     "output_type": "execute_result"
    }
   ],
   "source": [
    "list(alg_romanos.values())"
   ]
  },
  {
   "cell_type": "code",
   "execution_count": 48,
   "metadata": {
    "scrolled": true
   },
   "outputs": [
    {
     "data": {
      "text/plain": [
       "2"
      ]
     },
     "execution_count": 48,
     "metadata": {},
     "output_type": "execute_result"
    }
   ],
   "source": [
    "a = alg_romanos.get('II')\n",
    "\n",
    "a"
   ]
  },
  {
   "cell_type": "code",
   "execution_count": null,
   "metadata": {
    "collapsed": true
   },
   "outputs": [],
   "source": []
  },
  {
   "cell_type": "markdown",
   "metadata": {},
   "source": [
    "## 4.5 Exercício 1 -\n",
    "Dada a lista ['P','A','Y','A','T','A','H','O','N'], conte o número de variáveis 'A' e utilize um loop para remover todos os 'A' excedente."
   ]
  },
  {
   "cell_type": "markdown",
   "metadata": {},
   "source": [
    "| Método | Descrição |\n",
    "| :-- | :-- |\n",
    "| .append(*variável*) | Adiciona a variável no final |\n",
    "| .extend(*outra_lista*) | Adiciona os elementos ao final |\n",
    "| .remove(*variável*) | Remove o primeiro elemento com valor *variável* |\n",
    "| .count(*variável*) | Conta o número de elementos com o valor *variável* |\n",
    "| .sort() | Reordena elementos em ordem numérica ou alfabética |\n",
    "| .reverse() | Inverte a ordem dos elementos |\n",
    "| .copy() | Retorna uma cópia da lista |\n",
    "| .index(*variável*) | Retorna o índice da primeira *variável* da lista |"
   ]
  },
  {
   "cell_type": "code",
   "execution_count": 1,
   "metadata": {},
   "outputs": [],
   "source": [
    "# A ser resolvido (assita a vídeo aula com a resolução)"
   ]
  },
  {
   "cell_type": "code",
   "execution_count": 64,
   "metadata": {},
   "outputs": [
    {
     "data": {
      "text/plain": [
       "3"
      ]
     },
     "execution_count": 64,
     "metadata": {},
     "output_type": "execute_result"
    }
   ],
   "source": [
    "lista = ['P','A','Y','A','T','A','H','O','N']\n",
    "lista.count(\"A\")\n"
   ]
  },
  {
   "cell_type": "code",
   "execution_count": 65,
   "metadata": {},
   "outputs": [
    {
     "data": {
      "text/plain": [
       "['P', 'Y', 'T', 'H', 'O', 'N']"
      ]
     },
     "execution_count": 65,
     "metadata": {},
     "output_type": "execute_result"
    }
   ],
   "source": [
    "for i in enumerate(lista):\n",
    "    if (i[1]==\"A\"):\n",
    "        lista.remove(\"A\")\n",
    "\n",
    "lista"
   ]
  },
  {
   "cell_type": "code",
   "execution_count": null,
   "metadata": {
    "collapsed": true
   },
   "outputs": [],
   "source": []
  },
  {
   "cell_type": "code",
   "execution_count": null,
   "metadata": {
    "collapsed": true
   },
   "outputs": [],
   "source": []
  },
  {
   "cell_type": "code",
   "execution_count": null,
   "metadata": {
    "collapsed": true
   },
   "outputs": [],
   "source": []
  },
  {
   "cell_type": "markdown",
   "metadata": {},
   "source": [
    "## 4.6 Exercício 2 - \n",
    "Utilizando somente uma linha de programação, crie uma lista que contenha os números ímpares de 1 a 51."
   ]
  },
  {
   "cell_type": "code",
   "execution_count": 2,
   "metadata": {},
   "outputs": [],
   "source": [
    "# A ser resolvido (assita a vídeo aula com a resolução)"
   ]
  },
  {
   "cell_type": "code",
   "execution_count": 68,
   "metadata": {},
   "outputs": [
    {
     "data": {
      "text/plain": [
       "[1,\n",
       " 3,\n",
       " 5,\n",
       " 7,\n",
       " 9,\n",
       " 11,\n",
       " 13,\n",
       " 15,\n",
       " 17,\n",
       " 19,\n",
       " 21,\n",
       " 23,\n",
       " 25,\n",
       " 27,\n",
       " 29,\n",
       " 31,\n",
       " 33,\n",
       " 35,\n",
       " 37,\n",
       " 39,\n",
       " 41,\n",
       " 43,\n",
       " 45,\n",
       " 47,\n",
       " 49,\n",
       " 51]"
      ]
     },
     "execution_count": 68,
     "metadata": {},
     "output_type": "execute_result"
    }
   ],
   "source": [
    "f = lambda x : x*2+1\n",
    "\n",
    "lista = []\n",
    "\n",
    "for i in range(26):\n",
    "    lista.append(f(i))\n",
    "    \n",
    "lista"
   ]
  },
  {
   "cell_type": "code",
   "execution_count": null,
   "metadata": {
    "collapsed": true
   },
   "outputs": [],
   "source": []
  },
  {
   "cell_type": "markdown",
   "metadata": {},
   "source": [
    "## 4.7 Exercício 3 - \n",
    "Crie um dicionário que correlacione as seguintes listas:\n",
    "- valores = [1,2,3,4,5] \n",
    "- keys = ['a','b','c','d','e']\n",
    "\n",
    "Utilize um loop."
   ]
  },
  {
   "cell_type": "code",
   "execution_count": 3,
   "metadata": {},
   "outputs": [],
   "source": [
    "# A ser resolvido (assita a vídeo aula com a resolução)"
   ]
  },
  {
   "cell_type": "code",
   "execution_count": 76,
   "metadata": {},
   "outputs": [
    {
     "data": {
      "text/plain": [
       "{1: 'a', 2: 'b', 3: 'c', 4: 'd', 5: 'e'}"
      ]
     },
     "execution_count": 76,
     "metadata": {},
     "output_type": "execute_result"
    }
   ],
   "source": [
    "valores = [1,2,3,4,5]\n",
    "keys = ['a','b','c','d','e']\n",
    "\n",
    "dic = {}\n",
    "\n",
    "for i in range(5):\n",
    "    dic[valores[i]] = keys[i]\n",
    "\n",
    "    \n",
    "dic"
   ]
  },
  {
   "cell_type": "code",
   "execution_count": null,
   "metadata": {},
   "outputs": [],
   "source": []
  },
  {
   "cell_type": "code",
   "execution_count": null,
   "metadata": {
    "collapsed": true
   },
   "outputs": [],
   "source": []
  },
  {
   "cell_type": "markdown",
   "metadata": {},
   "source": [
    "## 4.8 Exercício 4 - \n",
    "A partir do dicionário criado no exercício anterior, recrie as listas keys e valores.\n",
    "\n",
    "\n",
    "| Método | Descrição |\n",
    "| :-- | :-- |\n",
    "| .items() | Retorna os itens do dicionário |\n",
    "| .keys() | Retorna as chaves do dicionário |\n",
    "| .values() | Retorna as chaves do dicionário |\n",
    "| .pop(*key*) | Remove a chave especificada e retorna o valor do item  |\n",
    "| .copy() | Retorna uma cópia |\n",
    "| .clear() | Remove os itens |\n",
    "| .get(*key*) | Retornas a váriável em *key* |\n",
    "\n"
   ]
  },
  {
   "cell_type": "code",
   "execution_count": 77,
   "metadata": {},
   "outputs": [
    {
     "data": {
      "text/plain": [
       "[1, 2, 3, 4, 5]"
      ]
     },
     "execution_count": 77,
     "metadata": {},
     "output_type": "execute_result"
    }
   ],
   "source": [
    "keys = dic.keys()\n",
    "list(keys)"
   ]
  },
  {
   "cell_type": "code",
   "execution_count": 78,
   "metadata": {},
   "outputs": [
    {
     "data": {
      "text/plain": [
       "['a', 'b', 'c', 'd', 'e']"
      ]
     },
     "execution_count": 78,
     "metadata": {},
     "output_type": "execute_result"
    }
   ],
   "source": [
    "values = dic.values()\n",
    "list(values)"
   ]
  },
  {
   "cell_type": "markdown",
   "metadata": {
    "collapsed": true
   },
   "source": [
    "## 4.9 Preparação para o desafio 1 (MATPLOTLIB)\n",
    "https://matplotlib.org/tutorials/introductory/usage.html#sphx-glr-tutorials-introductory-usage-py\n"
   ]
  },
  {
   "cell_type": "code",
   "execution_count": 8,
   "metadata": {},
   "outputs": [
    {
     "data": {
      "text/plain": [
       "Text(0, 0.5, 'y')"
      ]
     },
     "execution_count": 8,
     "metadata": {},
     "output_type": "execute_result"
    },
    {
     "data": {
      "image/png": "[encoded data removed]",
      "text/plain": [
       "<Figure size 432x288 with 1 Axes>"
      ]
     },
     "metadata": {
      "needs_background": "light"
     },
     "output_type": "display_data"
    }
   ],
   "source": [
    "import matplotlib.pyplot as plt\n",
    "\n",
    "x = [x for x in range(101)]\n",
    "y = [y**2 for y in x]\n",
    "\n",
    "plt.plot(x,y, \"+\")\n",
    "plt.xlabel ('x')\n",
    "plt.ylabel ('y')"
   ]
  },
  {
   "cell_type": "code",
   "execution_count": 9,
   "metadata": {},
   "outputs": [
    {
     "data": {
      "text/plain": [
       "2.0"
      ]
     },
     "execution_count": 9,
     "metadata": {},
     "output_type": "execute_result"
    }
   ],
   "source": [
    "from math import sqrt\n",
    "\n",
    "a = sqrt(4)\n",
    "a"
   ]
  },
  {
   "cell_type": "markdown",
   "metadata": {},
   "source": [
    "## 4.10 Desafio 1 - Equação da circunferência\n",
    "\n",
    "Dada a equação da cirunferência, faça o gráfico.\n",
    "$$\n",
    "{(x-a)}^{2} + {(y-b)}^{2} = {r}^{2}, \n",
    "r = 100, a = 100, b = 100\n",
    "$$\n"
   ]
  },
  {
   "cell_type": "code",
   "execution_count": 27,
   "metadata": {},
   "outputs": [],
   "source": [
    "from math import sqrt\n",
    "\n",
    "a,b,r = 100,100,100\n",
    "\n",
    "x = []\n",
    "y = []\n",
    "x = [i for i in range(2*r + 1)]\n",
    "\n",
    "y_x = lambda x: -sqrt((r**2) - (x-2)**2) + b\n",
    "\n",
    "# y.extend(list(map(y_x, x)))\n",
    "\n",
    "# nao consegui resolver\n"
   ]
  },
  {
   "cell_type": "code",
   "execution_count": null,
   "metadata": {},
   "outputs": [],
   "source": []
  },
  {
   "cell_type": "code",
   "execution_count": null,
   "metadata": {},
   "outputs": [],
   "source": []
  },
  {
   "cell_type": "code",
   "execution_count": null,
   "metadata": {},
   "outputs": [],
   "source": []
  },
  {
   "cell_type": "markdown",
   "metadata": {},
   "source": [
    "## 4.11 Preparação para o desafio 2 (LENDO ARQUIVOS)"
   ]
  },
  {
   "cell_type": "code",
   "execution_count": 6,
   "metadata": {},
   "outputs": [],
   "source": [
    "# A ser resolvido (assita a vídeo aula com a resolução)"
   ]
  },
  {
   "cell_type": "code",
   "execution_count": 36,
   "metadata": {},
   "outputs": [
    {
     "data": {
      "text/plain": [
       "['Municípios,Estado,Posição,PIB (1 000 R$),Participação (%),Participação acumulada (%)\\n',\n",
       " 'São Paulo ,SP,1º,699288352.21195,10.6221246792377,10.6221246792377\\n',\n",
       " 'Rio de Janeiro ,RJ,2º,337594461.665613,5.12802830404561,15.7501529832834\\n',\n",
       " 'Brasília ,DF,3º,244682756.473638,3.71670819040726,19.4668611736906\\n',\n",
       " 'Belo Horizonte ,MG,4º,88951167.8048084,1.35115992107945,20.8180210947701\\n',\n",
       " 'Curitiba ,PR,5º,84702356.719838,1.28662087800755,22.1046419727776\\n',\n",
       " 'Osasco ,SP,6º,77910495.9465849,1.1834531479727,23.2880951207503\\n',\n",
       " 'Porto Alegre ,RS,7º,73862305.9526552,1.12196152051351,24.4100566412638\\n',\n",
       " 'Manaus ,AM,8º,73201651.2482915,1.11192623733244,25.5219828785963\\n',\n",
       " 'Salvador ,BA,9º,62717483.4006896,0.952672708108014,26.4746555867043\\n',\n",
       " 'Fortaleza ,CE,10º,61579403.1721045,0.935385375858352,27.4100409625626\\n',\n",
       " 'Campinas ,SP,11º,59053563.0233,0.897018100190797,28.3070590627534\\n',\n",
       " 'Guarulhos ,SP,12º,55743649.9978385,0.846740830845935,29.1537998935994\\n',\n",
       " 'Recife ,PE,13º,51859618.3333842,0.787742753060942,29.9415426466603\\n',\n",
       " 'Goiânia ,GO,14º,49023142.3556849,0.744656948200213,30.6861995948605\\n',\n",
       " 'Barueri ,SP,15º,47553588.8580355,0.722334567989723,31.4085341628502\\n',\n",
       " 'São Bernardo do Campo ,SP,16º,44680389.365962,0.678690936379688,32.0872250992299\\n',\n",
       " 'Jundiaí ,SP,17º,41227952.9465785,0.626248750008596,32.7134738492385\\n',\n",
       " 'Duque de Caxias ,RJ,18º,40892161.0526168,0.621148102539413,33.3346219517779\\n',\n",
       " 'São José dos Campos ,SP,19º,39829403.9080307,0.605004920892191,33.9396268726701\\n',\n",
       " 'Paulínia ,SP,20º,35346489.8746118,0.536909875924464,34.4765367485946\\n',\n",
       " 'Ribeirão Preto ,SP,21º,35315843.1810043,0.536444355514357,35.012981104109\\n',\n",
       " 'Uberlândia ,MG,22º,34201961.8013532,0.519524601517154,35.5325057056261\\n',\n",
       " 'Sorocaba ,SP,23º,31852858.4259929,0.483841940911459,36.0163476465376\\n',\n",
       " 'Belém ,PA,24º,30238483.9612013,0.459319743752372,36.4756673902899\\n',\n",
       " 'São Luís ,MA,25º,29727649.8834845,0.451560221880247,36.9272276121702\\n',\n",
       " 'Contagem ,MG,26º,28988053.323117,0.44032581928837,37.3675534314586\\n',\n",
       " 'Niterói ,RJ,27º,27471324.0474245,0.41728684342084,37.7848402748794\\n',\n",
       " 'Santo André ,SP,28º,27470680.4042138,0.417277066540658,38.2021173414201\\n',\n",
       " 'Joinville ,SC,29º,27378204.9577805,0.415872373156768,38.6179897145768\\n',\n",
       " 'Campo Grande ,MS,30º,27034851.0353044,0.410656859181583,39.0286465737584\\n',\n",
       " 'Natal ,RN,31º,23454682.5804156,0.356274435135462,39.3849210088939\\n',\n",
       " 'Cuiabá ,MT,32º,23301195.03816,0.353942973721309,39.7388639826152\\n',\n",
       " 'Camaçari ,BA,33º,23103227.3901633,0.350935863660309,40.0897998462755\\n',\n",
       " 'Betim ,MG,34º,23088152.505627,0.350706877573865,40.4405067238494\\n',\n",
       " 'São José dos Pinhais ,PR,35º,22581192.4631292,0.343006201934452,40.7835129257838\\n',\n",
       " 'Santos ,SP,36º,22532671.8014043,0.342269177620046,41.1257821034038\\n',\n",
       " 'Itajaí ,SC,37º,21913882.0995111,0.332869819911674,41.4586519233155\\n',\n",
       " 'Piracicaba ,SP,38º,21896871.5013668,0.332611430516534,41.7912633538321\\n',\n",
       " 'Maceió ,AL,39º,21827916.5963836,0.331564011957852,42.1228273657899\\n',\n",
       " 'Caxias do Sul ,RS,40º,21717020.2359428,0.329879506612739,42.4527068724027\\n',\n",
       " 'Campos dos Goytacazes ,RJ,41º,21088776.6706428,0.320336545603255,42.7730434180059\\n',\n",
       " 'Vitória ,ES,42º,20255652.0940572,0.307681461190884,43.0807248791968\\n',\n",
       " 'João Pessoa ,PB,43º,19737916.9629817,0.299817112963562,43.3805419921603\\n',\n",
       " 'Florianópolis ,SC,44º,19512519.3615292,0.29639334447456,43.6769353366349\\n',\n",
       " 'Londrina ,PR,45º,19235187.7220138,0.292180702803764,43.9691160394387\\n',\n",
       " 'Teresina ,PI,46º,19113869.9838,0.290337897704789,44.2594539371435\\n',\n",
       " 'Canoas ,RS,47º,18947513.3752001,0.287810956376259,44.5472648935197\\n',\n",
       " 'Serra ,ES,48º,18538694.9982152,0.281601043458705,44.8288659369784\\n',\n",
       " 'Parauapebas ,PA,49º,18431904.3969182,0.279978904211054,45.1088448411895\\n',\n",
       " 'São Gonçalo ,RJ,50º,17225904.0341757,0.261659871474794,45.3705047126643\\n',\n",
       " 'Araucária ,PR,51º,16972344.9752323,0.257808333079898,45.6283130457442\\n',\n",
       " 'Maringá ,PR,52º,16906177.3696487,0.256803253338454,45.8851162990826\\n',\n",
       " 'Nova Iguaçu ,RJ,53º,16833644.4492536,0.25570148506025,46.1408177841429\\n',\n",
       " 'Taubaté ,SP,54º,16799723.4308045,0.255186227961982,46.3960040121049\\n',\n",
       " 'Porto Velho ,RO,55º,16514535.198034,0.250854245374315,46.6468582574792\\n',\n",
       " 'São José do Rio Preto ,SP,56º,16493968.0348869,0.250541832089358,46.8974000895685\\n',\n",
       " 'Aracaju ,SE,57º,16373280.0531772,0.248708592932791,47.1461086825013\\n',\n",
       " 'Mauá ,SP,58º,16286408.5662758,0.247389023170164,47.3934977056715\\n',\n",
       " 'Blumenau ,SC,59º,16008743.9761862,0.24317132401128,47.6366690296828\\n',\n",
       " 'Juiz de Fora ,MG,60º,15985711.9311386,0.242821469400747,47.8794904990835\\n',\n",
       " 'Macaé ,RJ,61º,15371353.000583,0.23348941469467,48.1129799137782\\n',\n",
       " 'Cajamar ,SP,62º,15003190.6664719,0.227897063266596,48.3408769770448\\n',\n",
       " 'Ponta Grossa ,PR,63º,14533644.7893077,0.220764705299982,48.5616416823448\\n',\n",
       " 'Mogi das Cruzes ,SP,64º,14470622.9848678,0.219807409983745,48.7814490923285\\n',\n",
       " 'Anápolis ,GO,65º,14204319.1643246,0.215762279851919,48.9972113721804\\n',\n",
       " 'Louveira ,SP,66º,13805962.3020302,0.209711276364249,49.2069226485447\\n',\n",
       " 'Bauru ,SP,67º,13771752.8635825,0.209191638193174,49.4161142867378\\n',\n",
       " 'Sumaré ,SP,68º,13744576.1600242,0.208778826607433,49.6248931133453\\n',\n",
       " 'Feira de Santana ,BA,69º,13657295.0971843,0.207453035424598,49.8323461487699\\n',\n",
       " 'Jaboatão dos Guararapes ,PE,70º,13545568.8485322,0.205755924155159,50.038102072925\\n',\n",
       " 'Indaiatuba ,SP,71º,13489932.1829618,0.204910808407762,50.2430128813328\\n',\n",
       " 'Foz do Iguaçu ,PR,72º,13463838.3972718,0.204514446243175,50.447527327576\\n',\n",
       " 'Diadema ,SP,73º,13412702.5684939,0.20373769778578,50.6512650253618\\n',\n",
       " 'Uberaba ,MG,74º,13152650.567987,0.199787532215695,50.8510525575774\\n',\n",
       " 'São Caetano do Sul ,SP,75º,13106958.707025,0.199093477120355,51.0501460346978\\n',\n",
       " 'Hortolândia ,SP,76º,12928627.510414,0.196384642919687,51.2465306776175\\n',\n",
       " 'Aparecida de Goiânia ,GO,77º,12882843.584107,0.195689189360366,51.4422198669779\\n',\n",
       " 'Petrópolis ,RJ,78º,12811831.4626787,0.194610521876255,51.6368303888541\\n',\n",
       " 'Gravataí ,RS,79º,12406079.3253988,0.188447184853093,51.8252775737072\\n',\n",
       " 'Cubatão ,SP,80º,12336913.4974865,0.187396562394841,52.012674136102\\n',\n",
       " 'Limeira ,SP,81º,12154751.4924319,0.184629538572137,52.1973036746742\\n',\n",
       " 'Embu das Artes ,SP,82º,11713048.8825058,0.177920117231229,52.3752237919054\\n',\n",
       " 'Jacareí ,SP,83º,11696354.3775921,0.177666529262702,52.5528903211681\\n',\n",
       " 'Itapevi ,SP,84º,11597556.6877884,0.176165801593214,52.7290561227613\\n',\n",
       " 'Cotia ,SP,85º,11573369.379788,0.175798398646457,52.9048545214078\\n',\n",
       " 'Maricá ,RJ,86º,11438880.398267,0.173755523593297,53.0786100450011\\n',\n",
       " 'Cascavel ,PR,87º,11374860.9614296,0.172783074334231,53.2513931193353\\n',\n",
       " 'Jaguariúna ,SP,88º,11346027.8908835,0.172345102688833,53.4237382220242\\n',\n",
       " 'Volta Redonda ,RJ,89º,11304596.1106315,0.171715757821115,53.5954539798453\\n',\n",
       " 'Vila Velha ,ES,90º,10994893.7596984,0.167011408070889,53.7624653879162\\n',\n",
       " 'Ipojuca ,PE,91º,10879738.7448545,0.165262214163623,53.9277276020798\\n',\n",
       " 'Suzano ,SP,92º,10761082.0090575,0.163459829442527,54.0911874315223\\n',\n",
       " 'São Carlos ,SP,93º,10475654.5576861,0.159124213146683,54.250311644669\\n',\n",
       " 'Americana ,SP,94º,10382872.9031219,0.157714868489919,54.4080265131589\\n',\n",
       " 'São Francisco do Conde ,BA,95º,10211680.1798197,0.155114467031291,54.5631409801902\\n',\n",
       " 'Três Lagoas ,MS,96º,10131704.5027778,0.153899643975595,54.7170406241658\\n',\n",
       " 'São José ,SC,97º,10131012.5871571,0.153889133842019,54.8709297580078\\n',\n",
       " 'Angra dos Reis ,RJ,98º,10099365.0411399,0.153408410577399,55.0243381685852\\n',\n",
       " 'Macapá ,AP,99º,9994877.2028401,0.151821250084343,55.1761594186696\\n',\n",
       " 'Cabo de Santo Agostinho ,PE,100º,9964400.68972217,0.151358314699958,55.3275177333695\\n']"
      ]
     },
     "execution_count": 36,
     "metadata": {},
     "output_type": "execute_result"
    }
   ],
   "source": [
    "#file_path = \"C:\\WPy64-31050\\notebooks\\Python-para-Engenheiros-e-Cientistas-main\\Notebooks\\arquivos_auxiliares\\PIB_100_maiores_cidades_2017.txt\"\n",
    "file_path = 'PIB_100_maiores_cidades_2017.txt'\n",
    "\n",
    "with open(file_path) as f:\n",
    "    f_data = f.readlines()\n",
    "    f.closed\n",
    "\n",
    "lista_colunas = f_data[0].split(',')\n",
    "\n",
    "f_data\n"
   ]
  },
  {
   "cell_type": "code",
   "execution_count": 50,
   "metadata": {},
   "outputs": [
    {
     "data": {
      "text/plain": [
       "36"
      ]
     },
     "execution_count": 50,
     "metadata": {},
     "output_type": "execute_result"
    }
   ],
   "source": [
    "\n",
    "\n"
   ]
  },
  {
   "cell_type": "code",
   "execution_count": 53,
   "metadata": {},
   "outputs": [
    {
     "data": {
      "text/plain": [
       "23.195820665883666"
      ]
     },
     "execution_count": 53,
     "metadata": {},
     "output_type": "execute_result"
    }
   ],
   "source": [
    "\n",
    "    "
   ]
  },
  {
   "cell_type": "code",
   "execution_count": null,
   "metadata": {
    "collapsed": true
   },
   "outputs": [],
   "source": []
  },
  {
   "cell_type": "code",
   "execution_count": null,
   "metadata": {
    "collapsed": true
   },
   "outputs": [],
   "source": []
  },
  {
   "cell_type": "markdown",
   "metadata": {},
   "source": [
    "## 4.12 Desafio 2 - Dados do IBGE\n",
    "\n",
    "Importe a tabela dos 100 maiores municípios em relação ao PIB e responda as seguintes perguntas:\n",
    "- Quantos municípios estão no estado de São Paulo?\n",
    "- Qual a participação acumulada desses municípios?\n",
    "\n",
    "Dicas e informações:\n",
    "- Fonte dos dados: https://www.ibge.gov.br/estatisticas/downloads-estatisticas.html\n",
    "- Arquivo para importar: ./IBGE-PIB_Municipios_2017/PIB_100_maiores_cidades_2017.txt\n",
    "- Para ler arquivos acesse o tópico 7.2 do link: https://docs.python.org/3/tutorial/inputoutput.html\n",
    "\n",
    "\n"
   ]
  },
  {
   "cell_type": "code",
   "execution_count": 7,
   "metadata": {},
   "outputs": [],
   "source": [
    "# A ser resolvido (assita a vídeo aula com a resolução)"
   ]
  },
  {
   "cell_type": "code",
   "execution_count": 56,
   "metadata": {},
   "outputs": [
    {
     "data": {
      "text/plain": [
       "36"
      ]
     },
     "execution_count": 56,
     "metadata": {},
     "output_type": "execute_result"
    }
   ],
   "source": [
    "file_path = 'PIB_100_maiores_cidades_2017.txt'\n",
    "\n",
    "with open(file_path) as f:\n",
    "    f_data = f.readlines()\n",
    "    f.closed\n",
    "\n",
    "linhas = []\n",
    "\n",
    "for i in range(len(f_data)):\n",
    "    linhas.append(f_data[i].split(','))\n",
    "    \n",
    "colunas_dict = {}\n",
    "for key in linhas[0]:\n",
    "    colunas_dict[key] = []\n",
    "    coluna_n = linhas[0].index(key)\n",
    "    \n",
    "    for i in range(1, len(linhas)):\n",
    "        colunas_dict[key].append(linhas[i][coluna_n])\n",
    "   \n",
    "\n",
    "    \n",
    "#lista_colunas = f_data[0].split(',')\n",
    "#linhas\n",
    "\n",
    "colunas_dict\n",
    "\n",
    "lista_estados = colunas_dict[\"Estado\"]\n",
    "qtde_sp = lista_estados.count(\"SP\")\n",
    "\n",
    "qtde_sp\n"
   ]
  },
  {
   "cell_type": "code",
   "execution_count": 57,
   "metadata": {},
   "outputs": [
    {
     "data": {
      "text/plain": [
       "23.195820665883666"
      ]
     },
     "execution_count": 57,
     "metadata": {},
     "output_type": "execute_result"
    }
   ],
   "source": [
    "pib_acm_sp = 0;\n",
    "\n",
    "for i in range(len(colunas_dict[\"Estado\"])):\n",
    "    if (colunas_dict['Estado'][i] == \"SP\"):\n",
    "        pib_acm_sp += float(colunas_dict['Participação (%)'][i])\n",
    "        \n",
    "pib_acm_sp"
   ]
  },
  {
   "cell_type": "code",
   "execution_count": null,
   "metadata": {},
   "outputs": [],
   "source": []
  },
  {
   "cell_type": "markdown",
   "metadata": {
    "collapsed": true
   },
   "source": [
    "## 4.13 Desafio 2 - Dados do IBGE (usando PANDAS)\n",
    "https://pandas.pydata.org/pandas-docs/stable/reference/api/pandas.DataFrame.html\n",
    "\n",
    "\n",
    "Você pode tentar fazer dessa forma depois de assistir a Seção 9."
   ]
  },
  {
   "cell_type": "code",
   "execution_count": 8,
   "metadata": {},
   "outputs": [],
   "source": [
    "# A ser resolvido (assita a vídeo aula com a resolução)"
   ]
  },
  {
   "cell_type": "code",
   "execution_count": 76,
   "metadata": {},
   "outputs": [
    {
     "data": {
      "text/plain": [
       "[['São Paulo ',\n",
       "  'SP',\n",
       "  '1º',\n",
       "  699288352.21195,\n",
       "  10.6221246792377,\n",
       "  10.6221246792377],\n",
       " ['Rio de Janeiro ',\n",
       "  'RJ',\n",
       "  '2º',\n",
       "  337594461.665613,\n",
       "  5.12802830404561,\n",
       "  15.7501529832834],\n",
       " ['Brasília ',\n",
       "  'DF',\n",
       "  '3º',\n",
       "  244682756.473638,\n",
       "  3.71670819040726,\n",
       "  19.4668611736906],\n",
       " ['Belo Horizonte ',\n",
       "  'MG',\n",
       "  '4º',\n",
       "  88951167.8048084,\n",
       "  1.35115992107945,\n",
       "  20.8180210947701],\n",
       " ['Curitiba ',\n",
       "  'PR',\n",
       "  '5º',\n",
       "  84702356.719838,\n",
       "  1.28662087800755,\n",
       "  22.1046419727776],\n",
       " ['Osasco ', 'SP', '6º', 77910495.9465849, 1.1834531479727, 23.2880951207503],\n",
       " ['Porto Alegre ',\n",
       "  'RS',\n",
       "  '7º',\n",
       "  73862305.9526552,\n",
       "  1.12196152051351,\n",
       "  24.4100566412638],\n",
       " ['Manaus ', 'AM', '8º', 73201651.2482915, 1.11192623733244, 25.5219828785963],\n",
       " ['Salvador ',\n",
       "  'BA',\n",
       "  '9º',\n",
       "  62717483.4006896,\n",
       "  0.952672708108014,\n",
       "  26.4746555867043],\n",
       " ['Fortaleza ',\n",
       "  'CE',\n",
       "  '10º',\n",
       "  61579403.1721045,\n",
       "  0.935385375858352,\n",
       "  27.4100409625626],\n",
       " ['Campinas ',\n",
       "  'SP',\n",
       "  '11º',\n",
       "  59053563.0233,\n",
       "  0.897018100190797,\n",
       "  28.3070590627534],\n",
       " ['Guarulhos ',\n",
       "  'SP',\n",
       "  '12º',\n",
       "  55743649.9978385,\n",
       "  0.846740830845935,\n",
       "  29.1537998935994],\n",
       " ['Recife ',\n",
       "  'PE',\n",
       "  '13º',\n",
       "  51859618.3333842,\n",
       "  0.787742753060942,\n",
       "  29.9415426466603],\n",
       " ['Goiânia ',\n",
       "  'GO',\n",
       "  '14º',\n",
       "  49023142.3556849,\n",
       "  0.744656948200213,\n",
       "  30.6861995948605],\n",
       " ['Barueri ',\n",
       "  'SP',\n",
       "  '15º',\n",
       "  47553588.8580355,\n",
       "  0.722334567989723,\n",
       "  31.4085341628502],\n",
       " ['São Bernardo do Campo ',\n",
       "  'SP',\n",
       "  '16º',\n",
       "  44680389.365962,\n",
       "  0.678690936379688,\n",
       "  32.0872250992299],\n",
       " ['Jundiaí ',\n",
       "  'SP',\n",
       "  '17º',\n",
       "  41227952.9465785,\n",
       "  0.626248750008596,\n",
       "  32.7134738492385],\n",
       " ['Duque de Caxias ',\n",
       "  'RJ',\n",
       "  '18º',\n",
       "  40892161.0526168,\n",
       "  0.621148102539413,\n",
       "  33.3346219517779],\n",
       " ['São José dos Campos ',\n",
       "  'SP',\n",
       "  '19º',\n",
       "  39829403.9080307,\n",
       "  0.605004920892191,\n",
       "  33.9396268726701],\n",
       " ['Paulínia ',\n",
       "  'SP',\n",
       "  '20º',\n",
       "  35346489.8746118,\n",
       "  0.536909875924464,\n",
       "  34.4765367485946],\n",
       " ['Ribeirão Preto ',\n",
       "  'SP',\n",
       "  '21º',\n",
       "  35315843.1810043,\n",
       "  0.536444355514357,\n",
       "  35.012981104109],\n",
       " ['Uberlândia ',\n",
       "  'MG',\n",
       "  '22º',\n",
       "  34201961.8013532,\n",
       "  0.519524601517154,\n",
       "  35.5325057056261],\n",
       " ['Sorocaba ',\n",
       "  'SP',\n",
       "  '23º',\n",
       "  31852858.4259929,\n",
       "  0.483841940911459,\n",
       "  36.0163476465376],\n",
       " ['Belém ',\n",
       "  'PA',\n",
       "  '24º',\n",
       "  30238483.9612013,\n",
       "  0.459319743752372,\n",
       "  36.4756673902899],\n",
       " ['São Luís ',\n",
       "  'MA',\n",
       "  '25º',\n",
       "  29727649.8834845,\n",
       "  0.451560221880247,\n",
       "  36.9272276121702],\n",
       " ['Contagem ',\n",
       "  'MG',\n",
       "  '26º',\n",
       "  28988053.323117,\n",
       "  0.44032581928837,\n",
       "  37.3675534314586],\n",
       " ['Niterói ',\n",
       "  'RJ',\n",
       "  '27º',\n",
       "  27471324.0474245,\n",
       "  0.41728684342084,\n",
       "  37.7848402748794],\n",
       " ['Santo André ',\n",
       "  'SP',\n",
       "  '28º',\n",
       "  27470680.4042138,\n",
       "  0.417277066540658,\n",
       "  38.2021173414201],\n",
       " ['Joinville ',\n",
       "  'SC',\n",
       "  '29º',\n",
       "  27378204.9577805,\n",
       "  0.415872373156768,\n",
       "  38.6179897145768],\n",
       " ['Campo Grande ',\n",
       "  'MS',\n",
       "  '30º',\n",
       "  27034851.0353044,\n",
       "  0.410656859181583,\n",
       "  39.0286465737584],\n",
       " ['Natal ',\n",
       "  'RN',\n",
       "  '31º',\n",
       "  23454682.5804156,\n",
       "  0.356274435135462,\n",
       "  39.3849210088939],\n",
       " ['Cuiabá ', 'MT', '32º', 23301195.03816, 0.353942973721309, 39.7388639826152],\n",
       " ['Camaçari ',\n",
       "  'BA',\n",
       "  '33º',\n",
       "  23103227.3901633,\n",
       "  0.350935863660309,\n",
       "  40.0897998462755],\n",
       " ['Betim ', 'MG', '34º', 23088152.505627, 0.350706877573865, 40.4405067238494],\n",
       " ['São José dos Pinhais ',\n",
       "  'PR',\n",
       "  '35º',\n",
       "  22581192.4631292,\n",
       "  0.343006201934452,\n",
       "  40.7835129257838],\n",
       " ['Santos ',\n",
       "  'SP',\n",
       "  '36º',\n",
       "  22532671.8014043,\n",
       "  0.342269177620046,\n",
       "  41.1257821034038],\n",
       " ['Itajaí ',\n",
       "  'SC',\n",
       "  '37º',\n",
       "  21913882.0995111,\n",
       "  0.332869819911674,\n",
       "  41.4586519233155],\n",
       " ['Piracicaba ',\n",
       "  'SP',\n",
       "  '38º',\n",
       "  21896871.5013668,\n",
       "  0.332611430516534,\n",
       "  41.7912633538321],\n",
       " ['Maceió ',\n",
       "  'AL',\n",
       "  '39º',\n",
       "  21827916.5963836,\n",
       "  0.331564011957852,\n",
       "  42.1228273657899],\n",
       " ['Caxias do Sul ',\n",
       "  'RS',\n",
       "  '40º',\n",
       "  21717020.2359428,\n",
       "  0.329879506612739,\n",
       "  42.4527068724027],\n",
       " ['Campos dos Goytacazes ',\n",
       "  'RJ',\n",
       "  '41º',\n",
       "  21088776.6706428,\n",
       "  0.320336545603255,\n",
       "  42.7730434180059],\n",
       " ['Vitória ',\n",
       "  'ES',\n",
       "  '42º',\n",
       "  20255652.0940572,\n",
       "  0.307681461190884,\n",
       "  43.0807248791968],\n",
       " ['João Pessoa ',\n",
       "  'PB',\n",
       "  '43º',\n",
       "  19737916.9629817,\n",
       "  0.299817112963562,\n",
       "  43.3805419921603],\n",
       " ['Florianópolis ',\n",
       "  'SC',\n",
       "  '44º',\n",
       "  19512519.3615292,\n",
       "  0.29639334447456,\n",
       "  43.6769353366349],\n",
       " ['Londrina ',\n",
       "  'PR',\n",
       "  '45º',\n",
       "  19235187.7220138,\n",
       "  0.292180702803764,\n",
       "  43.9691160394387],\n",
       " ['Teresina ',\n",
       "  'PI',\n",
       "  '46º',\n",
       "  19113869.9838,\n",
       "  0.290337897704789,\n",
       "  44.2594539371435],\n",
       " ['Canoas ',\n",
       "  'RS',\n",
       "  '47º',\n",
       "  18947513.3752001,\n",
       "  0.287810956376259,\n",
       "  44.5472648935197],\n",
       " ['Serra ',\n",
       "  'ES',\n",
       "  '48º',\n",
       "  18538694.9982152,\n",
       "  0.281601043458705,\n",
       "  44.8288659369784],\n",
       " ['Parauapebas ',\n",
       "  'PA',\n",
       "  '49º',\n",
       "  18431904.3969182,\n",
       "  0.279978904211054,\n",
       "  45.1088448411895],\n",
       " ['São Gonçalo ',\n",
       "  'RJ',\n",
       "  '50º',\n",
       "  17225904.0341757,\n",
       "  0.261659871474794,\n",
       "  45.3705047126643],\n",
       " ['Araucária ',\n",
       "  'PR',\n",
       "  '51º',\n",
       "  16972344.9752323,\n",
       "  0.257808333079898,\n",
       "  45.6283130457442],\n",
       " ['Maringá ',\n",
       "  'PR',\n",
       "  '52º',\n",
       "  16906177.3696487,\n",
       "  0.256803253338454,\n",
       "  45.8851162990826],\n",
       " ['Nova Iguaçu ',\n",
       "  'RJ',\n",
       "  '53º',\n",
       "  16833644.4492536,\n",
       "  0.25570148506025,\n",
       "  46.1408177841429],\n",
       " ['Taubaté ',\n",
       "  'SP',\n",
       "  '54º',\n",
       "  16799723.4308045,\n",
       "  0.255186227961982,\n",
       "  46.3960040121049],\n",
       " ['Porto Velho ',\n",
       "  'RO',\n",
       "  '55º',\n",
       "  16514535.198034,\n",
       "  0.250854245374315,\n",
       "  46.6468582574792],\n",
       " ['São José do Rio Preto ',\n",
       "  'SP',\n",
       "  '56º',\n",
       "  16493968.0348869,\n",
       "  0.250541832089358,\n",
       "  46.8974000895685],\n",
       " ['Aracaju ',\n",
       "  'SE',\n",
       "  '57º',\n",
       "  16373280.0531772,\n",
       "  0.248708592932791,\n",
       "  47.1461086825013],\n",
       " ['Mauá ', 'SP', '58º', 16286408.5662758, 0.247389023170164, 47.3934977056715],\n",
       " ['Blumenau ',\n",
       "  'SC',\n",
       "  '59º',\n",
       "  16008743.9761862,\n",
       "  0.24317132401128,\n",
       "  47.6366690296828],\n",
       " ['Juiz de Fora ',\n",
       "  'MG',\n",
       "  '60º',\n",
       "  15985711.9311386,\n",
       "  0.242821469400747,\n",
       "  47.8794904990835],\n",
       " ['Macaé ', 'RJ', '61º', 15371353.000583, 0.23348941469467, 48.1129799137782],\n",
       " ['Cajamar ',\n",
       "  'SP',\n",
       "  '62º',\n",
       "  15003190.6664719,\n",
       "  0.227897063266596,\n",
       "  48.3408769770448],\n",
       " ['Ponta Grossa ',\n",
       "  'PR',\n",
       "  '63º',\n",
       "  14533644.7893077,\n",
       "  0.220764705299982,\n",
       "  48.5616416823448],\n",
       " ['Mogi das Cruzes ',\n",
       "  'SP',\n",
       "  '64º',\n",
       "  14470622.9848678,\n",
       "  0.219807409983745,\n",
       "  48.7814490923285],\n",
       " ['Anápolis ',\n",
       "  'GO',\n",
       "  '65º',\n",
       "  14204319.1643246,\n",
       "  0.215762279851919,\n",
       "  48.9972113721804],\n",
       " ['Louveira ',\n",
       "  'SP',\n",
       "  '66º',\n",
       "  13805962.3020302,\n",
       "  0.209711276364249,\n",
       "  49.2069226485447],\n",
       " ['Bauru ',\n",
       "  'SP',\n",
       "  '67º',\n",
       "  13771752.8635825,\n",
       "  0.209191638193174,\n",
       "  49.4161142867378],\n",
       " ['Sumaré ',\n",
       "  'SP',\n",
       "  '68º',\n",
       "  13744576.1600242,\n",
       "  0.208778826607433,\n",
       "  49.6248931133453],\n",
       " ['Feira de Santana ',\n",
       "  'BA',\n",
       "  '69º',\n",
       "  13657295.0971843,\n",
       "  0.207453035424598,\n",
       "  49.8323461487699],\n",
       " ['Jaboatão dos Guararapes ',\n",
       "  'PE',\n",
       "  '70º',\n",
       "  13545568.8485322,\n",
       "  0.205755924155159,\n",
       "  50.038102072925],\n",
       " ['Indaiatuba ',\n",
       "  'SP',\n",
       "  '71º',\n",
       "  13489932.1829618,\n",
       "  0.204910808407762,\n",
       "  50.2430128813328],\n",
       " ['Foz do Iguaçu ',\n",
       "  'PR',\n",
       "  '72º',\n",
       "  13463838.3972718,\n",
       "  0.204514446243175,\n",
       "  50.447527327576],\n",
       " ['Diadema ',\n",
       "  'SP',\n",
       "  '73º',\n",
       "  13412702.5684939,\n",
       "  0.20373769778578,\n",
       "  50.6512650253618],\n",
       " ['Uberaba ',\n",
       "  'MG',\n",
       "  '74º',\n",
       "  13152650.567987,\n",
       "  0.199787532215695,\n",
       "  50.8510525575774],\n",
       " ['São Caetano do Sul ',\n",
       "  'SP',\n",
       "  '75º',\n",
       "  13106958.707025,\n",
       "  0.199093477120355,\n",
       "  51.0501460346978],\n",
       " ['Hortolândia ',\n",
       "  'SP',\n",
       "  '76º',\n",
       "  12928627.510414,\n",
       "  0.196384642919687,\n",
       "  51.2465306776175],\n",
       " ['Aparecida de Goiânia ',\n",
       "  'GO',\n",
       "  '77º',\n",
       "  12882843.584107,\n",
       "  0.195689189360366,\n",
       "  51.4422198669779],\n",
       " ['Petrópolis ',\n",
       "  'RJ',\n",
       "  '78º',\n",
       "  12811831.4626787,\n",
       "  0.194610521876255,\n",
       "  51.6368303888541],\n",
       " ['Gravataí ',\n",
       "  'RS',\n",
       "  '79º',\n",
       "  12406079.3253988,\n",
       "  0.188447184853093,\n",
       "  51.8252775737072],\n",
       " ['Cubatão ',\n",
       "  'SP',\n",
       "  '80º',\n",
       "  12336913.4974865,\n",
       "  0.187396562394841,\n",
       "  52.012674136102],\n",
       " ['Limeira ',\n",
       "  'SP',\n",
       "  '81º',\n",
       "  12154751.4924319,\n",
       "  0.184629538572137,\n",
       "  52.1973036746742],\n",
       " ['Embu das Artes ',\n",
       "  'SP',\n",
       "  '82º',\n",
       "  11713048.8825058,\n",
       "  0.177920117231229,\n",
       "  52.3752237919054],\n",
       " ['Jacareí ',\n",
       "  'SP',\n",
       "  '83º',\n",
       "  11696354.3775921,\n",
       "  0.177666529262702,\n",
       "  52.5528903211681],\n",
       " ['Itapevi ',\n",
       "  'SP',\n",
       "  '84º',\n",
       "  11597556.6877884,\n",
       "  0.176165801593214,\n",
       "  52.7290561227613],\n",
       " ['Cotia ', 'SP', '85º', 11573369.379788, 0.175798398646457, 52.9048545214078],\n",
       " ['Maricá ',\n",
       "  'RJ',\n",
       "  '86º',\n",
       "  11438880.398267,\n",
       "  0.173755523593297,\n",
       "  53.0786100450011],\n",
       " ['Cascavel ',\n",
       "  'PR',\n",
       "  '87º',\n",
       "  11374860.9614296,\n",
       "  0.172783074334231,\n",
       "  53.2513931193353],\n",
       " ['Jaguariúna ',\n",
       "  'SP',\n",
       "  '88º',\n",
       "  11346027.8908835,\n",
       "  0.172345102688833,\n",
       "  53.4237382220242],\n",
       " ['Volta Redonda ',\n",
       "  'RJ',\n",
       "  '89º',\n",
       "  11304596.1106315,\n",
       "  0.171715757821115,\n",
       "  53.5954539798453],\n",
       " ['Vila Velha ',\n",
       "  'ES',\n",
       "  '90º',\n",
       "  10994893.7596984,\n",
       "  0.167011408070889,\n",
       "  53.7624653879162],\n",
       " ['Ipojuca ',\n",
       "  'PE',\n",
       "  '91º',\n",
       "  10879738.7448545,\n",
       "  0.165262214163623,\n",
       "  53.9277276020798],\n",
       " ['Suzano ',\n",
       "  'SP',\n",
       "  '92º',\n",
       "  10761082.0090575,\n",
       "  0.163459829442527,\n",
       "  54.0911874315223],\n",
       " ['São Carlos ',\n",
       "  'SP',\n",
       "  '93º',\n",
       "  10475654.5576861,\n",
       "  0.159124213146683,\n",
       "  54.250311644669],\n",
       " ['Americana ',\n",
       "  'SP',\n",
       "  '94º',\n",
       "  10382872.9031219,\n",
       "  0.157714868489919,\n",
       "  54.4080265131589],\n",
       " ['São Francisco do Conde ',\n",
       "  'BA',\n",
       "  '95º',\n",
       "  10211680.1798197,\n",
       "  0.155114467031291,\n",
       "  54.5631409801902],\n",
       " ['Três Lagoas ',\n",
       "  'MS',\n",
       "  '96º',\n",
       "  10131704.5027778,\n",
       "  0.153899643975595,\n",
       "  54.7170406241658],\n",
       " ['São José ',\n",
       "  'SC',\n",
       "  '97º',\n",
       "  10131012.5871571,\n",
       "  0.153889133842019,\n",
       "  54.8709297580078],\n",
       " ['Angra dos Reis ',\n",
       "  'RJ',\n",
       "  '98º',\n",
       "  10099365.0411399,\n",
       "  0.153408410577399,\n",
       "  55.0243381685852],\n",
       " ['Macapá ',\n",
       "  'AP',\n",
       "  '99º',\n",
       "  9994877.2028401,\n",
       "  0.151821250084343,\n",
       "  55.1761594186696],\n",
       " ['Cabo de Santo Agostinho ',\n",
       "  'PE',\n",
       "  '100º',\n",
       "  9964400.68972217,\n",
       "  0.151358314699958,\n",
       "  55.3275177333695]]"
      ]
     },
     "execution_count": 76,
     "metadata": {},
     "output_type": "execute_result"
    }
   ],
   "source": [
    "import pandas as pd\n",
    "\n",
    "file_path = 'PIB_100_maiores_cidades_2017.txt'\n",
    "\n",
    "df = pd.read_csv(file_path, engine = 'python')\n",
    "df.head()\n",
    "\n"
   ]
  },
  {
   "cell_type": "code",
   "execution_count": 65,
   "metadata": {},
   "outputs": [
    {
     "data": {
      "text/plain": [
       "SP    36\n",
       "RJ    11\n",
       "PR     8\n",
       "MG     6\n",
       "SC     5\n",
       "PE     4\n",
       "RS     4\n",
       "BA     4\n",
       "GO     3\n",
       "ES     3\n",
       "PA     2\n",
       "MS     2\n",
       "AL     1\n",
       "RO     1\n",
       "SE     1\n",
       "PB     1\n",
       "PI     1\n",
       "MA     1\n",
       "MT     1\n",
       "RN     1\n",
       "CE     1\n",
       "AM     1\n",
       "DF     1\n",
       "AP     1\n",
       "Name: Estado, dtype: int64"
      ]
     },
     "execution_count": 65,
     "metadata": {},
     "output_type": "execute_result"
    }
   ],
   "source": [
    "contador_estados = df[\"Estado\"].value_counts()\n",
    "contador_estados"
   ]
  },
  {
   "cell_type": "code",
   "execution_count": 74,
   "metadata": {},
   "outputs": [
    {
     "data": {
      "text/html": [
       "<div>\n",
       "<style scoped>\n",
       "    .dataframe tbody tr th:only-of-type {\n",
       "        vertical-align: middle;\n",
       "    }\n",
       "\n",
       "    .dataframe tbody tr th {\n",
       "        vertical-align: top;\n",
       "    }\n",
       "\n",
       "    .dataframe thead th {\n",
       "        text-align: right;\n",
       "    }\n",
       "</style>\n",
       "<table border=\"1\" class=\"dataframe\">\n",
       "  <thead>\n",
       "    <tr style=\"text-align: right;\">\n",
       "      <th></th>\n",
       "      <th>Municípios</th>\n",
       "      <th>Estado</th>\n",
       "      <th>Posição</th>\n",
       "      <th>PIB (1 000 R$)</th>\n",
       "      <th>Participação (%)</th>\n",
       "      <th>Participação acumulada (%)</th>\n",
       "    </tr>\n",
       "  </thead>\n",
       "  <tbody>\n",
       "    <tr>\n",
       "      <th>0</th>\n",
       "      <td>São Paulo</td>\n",
       "      <td>SP</td>\n",
       "      <td>1º</td>\n",
       "      <td>6.992884e+08</td>\n",
       "      <td>10.622125</td>\n",
       "      <td>10.622125</td>\n",
       "    </tr>\n",
       "    <tr>\n",
       "      <th>5</th>\n",
       "      <td>Osasco</td>\n",
       "      <td>SP</td>\n",
       "      <td>6º</td>\n",
       "      <td>7.791050e+07</td>\n",
       "      <td>1.183453</td>\n",
       "      <td>23.288095</td>\n",
       "    </tr>\n",
       "    <tr>\n",
       "      <th>10</th>\n",
       "      <td>Campinas</td>\n",
       "      <td>SP</td>\n",
       "      <td>11º</td>\n",
       "      <td>5.905356e+07</td>\n",
       "      <td>0.897018</td>\n",
       "      <td>28.307059</td>\n",
       "    </tr>\n",
       "    <tr>\n",
       "      <th>11</th>\n",
       "      <td>Guarulhos</td>\n",
       "      <td>SP</td>\n",
       "      <td>12º</td>\n",
       "      <td>5.574365e+07</td>\n",
       "      <td>0.846741</td>\n",
       "      <td>29.153800</td>\n",
       "    </tr>\n",
       "    <tr>\n",
       "      <th>14</th>\n",
       "      <td>Barueri</td>\n",
       "      <td>SP</td>\n",
       "      <td>15º</td>\n",
       "      <td>4.755359e+07</td>\n",
       "      <td>0.722335</td>\n",
       "      <td>31.408534</td>\n",
       "    </tr>\n",
       "  </tbody>\n",
       "</table>\n",
       "</div>"
      ],
      "text/plain": [
       "    Municípios Estado Posição  PIB (1 000 R$)  Participação (%)  \\\n",
       "0   São Paulo      SP      1º    6.992884e+08         10.622125   \n",
       "5      Osasco      SP      6º    7.791050e+07          1.183453   \n",
       "10   Campinas      SP     11º    5.905356e+07          0.897018   \n",
       "11  Guarulhos      SP     12º    5.574365e+07          0.846741   \n",
       "14    Barueri      SP     15º    4.755359e+07          0.722335   \n",
       "\n",
       "    Participação acumulada (%)  \n",
       "0                    10.622125  \n",
       "5                    23.288095  \n",
       "10                   28.307059  \n",
       "11                   29.153800  \n",
       "14                   31.408534  "
      ]
     },
     "execution_count": 74,
     "metadata": {},
     "output_type": "execute_result"
    }
   ],
   "source": [
    "df_sp = df[df[\"Estado\"] == 'SP']\n",
    "df_sp.head()\n",
    "\n"
   ]
  },
  {
   "cell_type": "code",
   "execution_count": 73,
   "metadata": {},
   "outputs": [
    {
     "data": {
      "text/plain": [
       "23.195820665883673"
      ]
     },
     "execution_count": 73,
     "metadata": {},
     "output_type": "execute_result"
    }
   ],
   "source": [
    "pib_sp = df_sp['Participação (%)'].sum()\n",
    "pib_sp"
   ]
  }
 ],
 "metadata": {
  "kernelspec": {
   "display_name": "Python 3 (ipykernel)",
   "language": "python",
   "name": "python3"
  },
  "language_info": {
   "codemirror_mode": {
    "name": "ipython",
    "version": 3
   },
   "file_extension": ".py",
   "mimetype": "text/x-python",
   "name": "python",
   "nbconvert_exporter": "python",
   "pygments_lexer": "ipython3",
   "version": "3.10.5"
  }
 },
 "nbformat": 4,
 "nbformat_minor": 2
}
