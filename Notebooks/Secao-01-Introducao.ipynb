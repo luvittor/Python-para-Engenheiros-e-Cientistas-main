{
 "cells": [
  {
   "cell_type": "markdown",
   "metadata": {},
   "source": [
    "# TECHMIMO\n",
    "\n",
    "\n",
    "Autor: Rafael Pereira da Silva\n",
    "\n",
    "Seguem alguns recados para ajudá-los e para contribuir com o curso:\n",
    "\n",
    "- Fiquem à vontade para me contatar pelo Linkdin, costumo responder por lá também: https://www.linkedin.com/in/rafael-pereira-da-silva-23890799/\n",
    "\n",
    "- Fiquem a vontade para compartilharem o certificado do curso no Linkedin. Eu costumo curtir e comentar para dar mais credibilidade\n",
    "\n",
    "- Vocês podem usar esses notebooks para resolver os exercícios e desafios\n",
    "\n",
    "- Não se esqueçam de avaliar o curso e dar feedback, eu costumo criar conteúdos baseado nas demandas de vocês\n",
    "- Se tiverem gostando do curso, recomendem aos amigos, pois isso também ajuda a impulsionar e a crescer a comunidade\n",
    "-  Bons estudos e grande abraços!\n"
   ]
  },
  {
   "cell_type": "markdown",
   "metadata": {},
   "source": [
    "## Sobre o Material\n",
    "\n",
    "Este material é parte do curso **Python para Engenheiros e Cientistas** e está sobre a licença MIT.\n",
    "Caso você tenha interesse em conhecer o curso, acesso o link abaixo.\n",
    "\n",
    "\n",
    "https://www.udemy.com/course/python-para-engenheiros-e-cientistas/?referralCode=FA25B2C024FF2D3F8232\n",
    "\n",
    "\n",
    "Algumas aulas, exercícios e desafios estarão sem códigos propositalmente para que o aluno possa preencher.\n",
    "\n",
    "\n"
   ]
  },
  {
   "cell_type": "markdown",
   "metadata": {},
   "source": [
    "# Seção 1 - Introdução ao curso\n",
    "## 1.1 Iniciando os estudos\n",
    "\n",
    "### Por que Python?\n",
    "- Linguagem de alto nível e sintaxe fácil\n",
    "- Comunidade grande e com muitas bibliotecas prontas\n",
    "- Open source\n",
    "\n",
    "\n",
    "### Sobre\n",
    "- Interpretada\n",
    "- Linguagem orientada a objetos\n",
    "- Distribuidos nas versões 2.n e 3.n\n",
    "\n",
    "\n",
    "### Distribuições recomendadas: \n",
    "\n",
    "- https://www.anaconda.com/products/individual\n",
    "- https://sourceforge.net/projects/winpython/files/WinPython_3.8/\n",
    "\n"
   ]
  },
  {
   "cell_type": "markdown",
   "metadata": {},
   "source": [
    "### 1.2 IDEs\n",
    "- *Integrated Development Environment*\n",
    "\n",
    "- Exemplos de IDE: Idle, Ipython, Pycharm, Spyder, Jupyter notebook.\n",
    "- Procurar por:\n",
    "idle.exe, ipython3.exe, Spyder3.exe\n",
    "- Os executáveis estão na pasta Scripts ou WinPython-64bit.\n",
    "- o Pycharm deve ser instalado separadamente: https://www.jetbrains.com/pycharm/download/#section=windows\n"
   ]
  },
  {
   "cell_type": "code",
   "execution_count": 1,
   "metadata": {},
   "outputs": [
    {
     "name": "stdout",
     "output_type": "stream",
     "text": [
      "Olá mundo\"\n"
     ]
    }
   ],
   "source": [
    "print('Olá mundo\"')"
   ]
  },
  {
   "cell_type": "code",
   "execution_count": null,
   "metadata": {},
   "outputs": [],
   "source": []
  }
 ],
 "metadata": {
  "kernelspec": {
   "display_name": "Python 3",
   "language": "python",
   "name": "python3"
  },
  "language_info": {
   "codemirror_mode": {
    "name": "ipython",
    "version": 3
   },
   "file_extension": ".py",
   "mimetype": "text/x-python",
   "name": "python",
   "nbconvert_exporter": "python",
   "pygments_lexer": "ipython3",
   "version": "3.8.3"
  }
 },
 "nbformat": 4,
 "nbformat_minor": 2
}
