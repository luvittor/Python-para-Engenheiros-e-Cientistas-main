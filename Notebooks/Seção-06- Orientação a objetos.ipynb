{
 "cells": [
  {
   "cell_type": "markdown",
   "metadata": {},
   "source": [
    "# TECHMIMO\n",
    "\n",
    "\n",
    "Autor: Rafael Pereira da Silva\n",
    "\n",
    "Seguem alguns recados para ajudá-los e para contribuir com o curso:\n",
    "\n",
    "- Fiquem à vontade para me contatar pelo Linkdin, costumo responder por lá também: https://www.linkedin.com/in/rafael-pereira-da-silva-23890799/\n",
    "\n",
    "- Fiquem a vontade para compartilharem o certificado do curso no Linkedin. Eu costumo curtir e comentar para dar mais credibilidade\n",
    "\n",
    "- Vocês podem usar esses notebooks para resolver os exercícios e desafios\n",
    "\n",
    "- Não se esqueçam de avaliar o curso e dar feedback, eu costumo criar conteúdos baseado nas demandas de vocês\n",
    "- Se tiverem gostando do curso, recomendem aos amigos, pois isso também ajuda a impulsionar e a crescer a comunidade\n",
    "-  Bons estudos e grande abraços!\n"
   ]
  },
  {
   "cell_type": "markdown",
   "metadata": {},
   "source": [
    "## Sobre o Material\n",
    "\n",
    "Este material é parte do curso **Python para Engenheiros e Cientistas** e está sobre a licença MIT.\n",
    "Caso você tenha interesse em conhecer o curso, acesso o link abaixo.\n",
    "\n",
    "\n",
    "https://www.udemy.com/course/python-para-engenheiros-e-cientistas/?referralCode=FA25B2C024FF2D3F8232\n",
    "\n",
    "\n",
    "Algumas aulas, exercícios e desafios estarão sem códigos propositalmente para que o aluno possa preencher.\n"
   ]
  },
  {
   "cell_type": "markdown",
   "metadata": {},
   "source": [
    "# Seção 6 - Complementar\n",
    "Esta seção preenche algumas lacunas que podem ter sido deixadas. Este curso não é voltado para orientação a objetos, mas é importante que vocês tenham uma noção de como funciona.\n"
   ]
  },
  {
   "cell_type": "markdown",
   "metadata": {},
   "source": [
    "## 6.1 Noção sobre objetos\n",
    "Sintaxe:\n",
    "\n",
    "**class** *Nome_da_classe*: #cria um novo objeto\n",
    "    \n",
    "    **def __init__ (self,argumentos):** #Magic method que cria as propriedades\n",
    "\n",
    "https://docs.python.org/3/tutorial/classes.html\n",
    "\n",
    "\n",
    "\n"
   ]
  },
  {
   "cell_type": "code",
   "execution_count": 3,
   "metadata": {},
   "outputs": [],
   "source": [
    "# A ser preenchido pelo aluno (assista a vídeo aula)"
   ]
  },
  {
   "cell_type": "code",
   "execution_count": 9,
   "metadata": {},
   "outputs": [
    {
     "data": {
      "text/plain": [
       "['Luciano', 'Flavia']"
      ]
     },
     "execution_count": 9,
     "metadata": {},
     "output_type": "execute_result"
    }
   ],
   "source": [
    "class carro:\n",
    "    def __init__(self,cor,marca,ano):\n",
    "        self.cor = cor\n",
    "        self.marca = marca;\n",
    "        self.ano = ano;\n",
    "        self.donos = []\n",
    "    \n",
    "    def add_dono(self, novo_dono):\n",
    "        self.donos.append(novo_dono)\n",
    "    \n",
    "    \n",
    "meu_carro = carro('vermelho','fiat','2017')\n",
    "\n",
    "meu_carro.add_dono(\"Luciano\")\n",
    "meu_carro.add_dono(\"Flavia\")\n",
    "\n",
    "meu_carro.donos"
   ]
  },
  {
   "cell_type": "code",
   "execution_count": 30,
   "metadata": {},
   "outputs": [
    {
     "data": {
      "text/plain": [
       "10.63014581273465"
      ]
     },
     "execution_count": 30,
     "metadata": {},
     "output_type": "execute_result"
    }
   ],
   "source": [
    "# Exemplo do SoloLearn\n",
    "\n",
    "class vetor_2d:\n",
    "    def __init__(self, x, y):\n",
    "        self.y = y\n",
    "        self.x = x\n",
    "        \n",
    "    def norma(self):\n",
    "        return ((self.x**2 + self.y**2)**(1/2))\n",
    "    \n",
    "    def __add__(vet1, vet2):\n",
    "        return vetor_2d(vet1.x + vet2.x, vet1.y + vet2.y)\n",
    "        \n",
    "    \n",
    "\n",
    "v_1 = vetor_2d(3,3)\n",
    "v_2 = vetor_2d(4,5)\n",
    "\n",
    "v_3 = v_1 + v_2\n",
    "    \n",
    "v_3.x\n",
    "v_3.y\n",
    "v_3.norma()"
   ]
  },
  {
   "cell_type": "code",
   "execution_count": null,
   "metadata": {},
   "outputs": [],
   "source": []
  },
  {
   "cell_type": "code",
   "execution_count": null,
   "metadata": {},
   "outputs": [],
   "source": []
  },
  {
   "cell_type": "code",
   "execution_count": null,
   "metadata": {},
   "outputs": [],
   "source": []
  },
  {
   "cell_type": "markdown",
   "metadata": {},
   "source": [
    "## 6.2 Executando módulos como scripts\n",
    "Estrutura:\n",
    "\n",
    "**if \\__name\\__ == \"\\__main\\__\":**\n",
    "      \n",
    "      *Código*\n",
    " \n",
    "\n"
   ]
  },
  {
   "cell_type": "code",
   "execution_count": 4,
   "metadata": {},
   "outputs": [],
   "source": [
    "# A ser preenchido pelo aluno (assista a vídeo aula)"
   ]
  },
  {
   "cell_type": "code",
   "execution_count": 39,
   "metadata": {},
   "outputs": [],
   "source": []
  },
  {
   "cell_type": "code",
   "execution_count": null,
   "metadata": {},
   "outputs": [],
   "source": []
  },
  {
   "cell_type": "markdown",
   "metadata": {},
   "source": [
    "## 6.3 Manipulando strings\n",
    "**Alguns métodos de manipulação de strings:**\n",
    "\n",
    "\n",
    "| Método | Descrição |\n",
    "| :-- | :-- |\n",
    "| upper() | retorna letras maiúsculas |\n",
    "| lower() | retorna letras minúsculas |\n",
    "| replace(arg_ant,arg_nov) | substiuí arg_ant pelo arg_nov  |\n",
    "| find(arg)| retorna a posição da primeira ocorrencia |\n",
    "| rfind() | retorna a posição da última ocorrência |\n",
    "\n",
    "\n",
    "Atenção: Esses métodos não modificam a string original se ela estiver armazenada em uma variável.\n",
    "\n",
    "fonte: https://panda.ime.usp.br/pensepy/static/pensepy/08-Strings/strings.html\n",
    "\n",
    "\n",
    "\n"
   ]
  },
  {
   "cell_type": "code",
   "execution_count": 3,
   "metadata": {},
   "outputs": [
    {
     "data": {
      "text/plain": [
       "'PYTHON'"
      ]
     },
     "execution_count": 3,
     "metadata": {},
     "output_type": "execute_result"
    }
   ],
   "source": [
    "string_1 = 'python'\n",
    "\n",
    "string_2 =  string_1.upper()\n",
    "\n",
    "string_2\n"
   ]
  },
  {
   "cell_type": "code",
   "execution_count": 7,
   "metadata": {},
   "outputs": [
    {
     "data": {
      "text/plain": [
       "1"
      ]
     },
     "execution_count": 7,
     "metadata": {},
     "output_type": "execute_result"
    }
   ],
   "source": [
    "string_3 = 'asdfasdfasdfasdfasdf'\n",
    "\n",
    "string_3.find('s')\n",
    "\n",
    "\n"
   ]
  },
  {
   "cell_type": "code",
   "execution_count": 11,
   "metadata": {},
   "outputs": [
    {
     "data": {
      "text/plain": [
       "'python'"
      ]
     },
     "execution_count": 11,
     "metadata": {},
     "output_type": "execute_result"
    }
   ],
   "source": [
    "string_4 = 'pyathoan'\n",
    "string_5 = string_4.replace('a','')\n",
    "string_5"
   ]
  },
  {
   "cell_type": "code",
   "execution_count": 15,
   "metadata": {},
   "outputs": [
    {
     "data": {
      "text/plain": [
       "['py', 'tho', 'n']"
      ]
     },
     "execution_count": 15,
     "metadata": {},
     "output_type": "execute_result"
    }
   ],
   "source": [
    "string_6 = string_4.split('a')\n",
    "string_6\n",
    "\n"
   ]
  },
  {
   "cell_type": "code",
   "execution_count": null,
   "metadata": {
    "collapsed": true
   },
   "outputs": [],
   "source": []
  },
  {
   "cell_type": "markdown",
   "metadata": {},
   "source": [
    "## 6.4 Escrevendo arquivos\n",
    "- **Estrutura para ler:**\n",
    "\n",
    "**with open(**caminho_string**) as f:**\n",
    "    \n",
    "       variavel = **f.read()**\n",
    "    \n",
    "       **f.close**\n",
    "\n",
    "-  **Estrutura para escrever:**\n",
    "\n",
    "**with open(**nome_novo_arquivo**) as f:**\n",
    "    \n",
    "       f.write('nova_string','w')\n",
    "    \n",
    "       **f.close**\n"
   ]
  },
  {
   "cell_type": "code",
   "execution_count": 5,
   "metadata": {},
   "outputs": [],
   "source": [
    "# A ser preenchido pelo aluno (assista a vídeo aula)"
   ]
  },
  {
   "cell_type": "code",
   "execution_count": 46,
   "metadata": {},
   "outputs": [
    {
     "name": "stdout",
     "output_type": "stream",
     "text": [
      "1\n",
      "2\n",
      "3\n",
      "4\n",
      "5\n",
      "6\n",
      "7\n",
      "\n"
     ]
    }
   ],
   "source": [
    "old_file = 'Arquivo_sujo.txt'\n",
    "\n",
    "with open(old_file) as f:\n",
    "    linhas = f.read()\n",
    "    f.close\n",
    "    \n",
    "linhas_new = linhas.replace('p', '').replace(' ','')\n",
    "\n",
    "print(linhas_new)\n",
    "\n",
    "\n",
    "with open('Arquivo_limpo.txt', 'w') as f:\n",
    "    f.write(linhas_new)\n",
    "    f.close\n",
    "    \n",
    "\n"
   ]
  }
 ],
 "metadata": {
  "kernelspec": {
   "display_name": "Python 3 (ipykernel)",
   "language": "python",
   "name": "python3"
  },
  "language_info": {
   "codemirror_mode": {
    "name": "ipython",
    "version": 3
   },
   "file_extension": ".py",
   "mimetype": "text/x-python",
   "name": "python",
   "nbconvert_exporter": "python",
   "pygments_lexer": "ipython3",
   "version": "3.10.5"
  }
 },
 "nbformat": 4,
 "nbformat_minor": 2
}
