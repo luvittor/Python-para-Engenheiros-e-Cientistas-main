{
 "cells": [
  {
   "cell_type": "markdown",
   "metadata": {},
   "source": [
    "# TECHMIMO\n",
    "\n",
    "\n",
    "Autor: Rafael Pereira da Silva\n",
    "\n",
    "Seguem alguns recados para ajudá-los e para contribuir com o curso:\n",
    "\n",
    "- Fiquem à vontade para me contatar pelo Linkdin, costumo responder por lá também: https://www.linkedin.com/in/rafael-pereira-da-silva-23890799/\n",
    "\n",
    "- Fiquem a vontade para compartilharem o certificado do curso no Linkedin. Eu costumo curtir e comentar para dar mais credibilidade\n",
    "\n",
    "- Vocês podem usar esses notebooks para resolver os exercícios e desafios\n",
    "\n",
    "- Não se esqueçam de avaliar o curso e dar feedback, eu costumo criar conteúdos baseado nas demandas de vocês\n",
    "- Se tiverem gostando do curso, recomendem aos amigos, pois isso também ajuda a impulsionar e a crescer a comunidade\n",
    "-  Bons estudos e grande abraços!\n"
   ]
  },
  {
   "cell_type": "markdown",
   "metadata": {},
   "source": [
    "## Sobre o Material\n",
    "\n",
    "Este material é parte do curso **Python para Engenheiros e Cientistas** e está sobre a licença MIT.\n",
    "Caso você tenha interesse em conhecer o curso, acesso o link abaixo.\n",
    "\n",
    "\n",
    "https://www.udemy.com/course/python-para-engenheiros-e-cientistas/?referralCode=FA25B2C024FF2D3F8232\n",
    "\n",
    "\n",
    "Algumas aulas, exercícios e desafios estarão sem códigos propositalmente para que o aluno possa preencher.\n"
   ]
  },
  {
   "cell_type": "markdown",
   "metadata": {},
   "source": [
    "# Seção 9 - Fundamentos de Pandas"
   ]
  },
  {
   "cell_type": "markdown",
   "metadata": {},
   "source": [
    "Acesse:\n",
    "https://pandas.pydata.org/docs/user_guide/index.html\n",
    "\n",
    "Acesse: https://pandas.pydata.org/docs/user_guide/index.html\n",
    "\n",
    "Dados em csv:\n",
    "https://www.kaggle.com/drgilermo/nba-players-stats\n"
   ]
  },
  {
   "cell_type": "markdown",
   "metadata": {},
   "source": [
    "## 9.1 - Estrutura de dados no Pandas\n",
    "\n",
    "\n",
    "*Series* - *Series* são estruturas de dados 1D e podem ser criadas a partir de dicionários, arrays, entre outros. É muito parecido com os arrays em termos de propriedades e métodos.\n",
    "- pd.Series(data, index=index)\n",
    "\n",
    "*DataFrame* - *DataFrames* são estruturas de dados 2D e podem ser criadas a partir de dicionários, dados estruturados em 2D, arquivos csv, etc. Em resumo, DataFrame é uma **tabela**.\n",
    "- pd.DataFrame({'key_1': pd.Series(...), 'key_n':pd.Series(...)})\n",
    "- pd.read_csv(file)\n",
    "\n"
   ]
  },
  {
   "cell_type": "code",
   "execution_count": 57,
   "metadata": {},
   "outputs": [
    {
     "data": {
      "text/plain": [
       "array([ 0,  5, 10, 15, 20, 25, 30, 35, 40, 45])"
      ]
     },
     "execution_count": 57,
     "metadata": {},
     "output_type": "execute_result"
    }
   ],
   "source": [
    "# Dados\n",
    "\n",
    "lista_a = [11,22,33,44,55]\n",
    "lista_b = ['a','b','c','d','e']\n",
    "\n",
    "import numpy as np\n",
    "\n",
    "arr = np.arange(10)**2\n",
    "\n",
    "dic = {'a':123,'b':456,'c':789}\n",
    "\n",
    "dic2 = {'coluna1':np.arange(10)*5,'coluna2':np.arange(10)**2,'coluna3':np.ones(10)}\n",
    "dic2['coluna1']"
   ]
  },
  {
   "cell_type": "code",
   "execution_count": 50,
   "metadata": {},
   "outputs": [
    {
     "data": {
      "text/plain": [
       "'b'"
      ]
     },
     "execution_count": 50,
     "metadata": {},
     "output_type": "execute_result"
    }
   ],
   "source": [
    "import pandas as pd\n",
    "\n",
    "\n",
    "serie_1 = pd.Series(lista_b,index=lista_a)\n",
    "serie_1[22]"
   ]
  },
  {
   "cell_type": "code",
   "execution_count": 52,
   "metadata": {},
   "outputs": [
    {
     "data": {
      "text/plain": [
       "0     0\n",
       "1     1\n",
       "2     4\n",
       "3     9\n",
       "4    16\n",
       "5    25\n",
       "6    36\n",
       "7    49\n",
       "8    64\n",
       "9    81\n",
       "dtype: int32"
      ]
     },
     "execution_count": 52,
     "metadata": {},
     "output_type": "execute_result"
    }
   ],
   "source": [
    "serie_3 = pd.Series(arr)\n",
    "serie_3"
   ]
  },
  {
   "cell_type": "code",
   "execution_count": 55,
   "metadata": {},
   "outputs": [
    {
     "data": {
      "text/plain": [
       "123"
      ]
     },
     "execution_count": 55,
     "metadata": {},
     "output_type": "execute_result"
    }
   ],
   "source": [
    "serie_4 = pd.Series(dic)\n",
    "serie_4['a']"
   ]
  },
  {
   "cell_type": "code",
   "execution_count": 61,
   "metadata": {},
   "outputs": [
    {
     "data": {
      "text/plain": [
       "pandas.core.series.Series"
      ]
     },
     "execution_count": 61,
     "metadata": {},
     "output_type": "execute_result"
    }
   ],
   "source": [
    "df1 = pd.DataFrame(dic2)\n",
    "type(df1['coluna1'])"
   ]
  },
  {
   "cell_type": "code",
   "execution_count": 63,
   "metadata": {},
   "outputs": [
    {
     "data": {
      "text/html": [
       "<div>\n",
       "<style scoped>\n",
       "    .dataframe tbody tr th:only-of-type {\n",
       "        vertical-align: middle;\n",
       "    }\n",
       "\n",
       "    .dataframe tbody tr th {\n",
       "        vertical-align: top;\n",
       "    }\n",
       "\n",
       "    .dataframe thead th {\n",
       "        text-align: right;\n",
       "    }\n",
       "</style>\n",
       "<table border=\"1\" class=\"dataframe\">\n",
       "  <thead>\n",
       "    <tr style=\"text-align: right;\">\n",
       "      <th></th>\n",
       "      <th>0</th>\n",
       "      <th>1</th>\n",
       "      <th>2</th>\n",
       "    </tr>\n",
       "  </thead>\n",
       "  <tbody>\n",
       "    <tr>\n",
       "      <th>0</th>\n",
       "      <td>0</td>\n",
       "      <td>1</td>\n",
       "      <td>2</td>\n",
       "    </tr>\n",
       "    <tr>\n",
       "      <th>1</th>\n",
       "      <td>3</td>\n",
       "      <td>4</td>\n",
       "      <td>5</td>\n",
       "    </tr>\n",
       "    <tr>\n",
       "      <th>2</th>\n",
       "      <td>6</td>\n",
       "      <td>7</td>\n",
       "      <td>8</td>\n",
       "    </tr>\n",
       "    <tr>\n",
       "      <th>3</th>\n",
       "      <td>9</td>\n",
       "      <td>10</td>\n",
       "      <td>11</td>\n",
       "    </tr>\n",
       "    <tr>\n",
       "      <th>4</th>\n",
       "      <td>12</td>\n",
       "      <td>13</td>\n",
       "      <td>14</td>\n",
       "    </tr>\n",
       "  </tbody>\n",
       "</table>\n",
       "</div>"
      ],
      "text/plain": [
       "    0   1   2\n",
       "0   0   1   2\n",
       "1   3   4   5\n",
       "2   6   7   8\n",
       "3   9  10  11\n",
       "4  12  13  14"
      ]
     },
     "execution_count": 63,
     "metadata": {},
     "output_type": "execute_result"
    }
   ],
   "source": [
    "arr2 = np.arange(15).reshape(5,3)\n",
    "\n",
    "\n",
    "df3 = pd.DataFrame(arr2)\n",
    "\n",
    "df3"
   ]
  },
  {
   "cell_type": "code",
   "execution_count": 64,
   "metadata": {},
   "outputs": [
    {
     "data": {
      "text/html": [
       "<div>\n",
       "<style scoped>\n",
       "    .dataframe tbody tr th:only-of-type {\n",
       "        vertical-align: middle;\n",
       "    }\n",
       "\n",
       "    .dataframe tbody tr th {\n",
       "        vertical-align: top;\n",
       "    }\n",
       "\n",
       "    .dataframe thead th {\n",
       "        text-align: right;\n",
       "    }\n",
       "</style>\n",
       "<table border=\"1\" class=\"dataframe\">\n",
       "  <thead>\n",
       "    <tr style=\"text-align: right;\">\n",
       "      <th></th>\n",
       "      <th>Unnamed: 0</th>\n",
       "      <th>Player</th>\n",
       "      <th>height</th>\n",
       "      <th>weight</th>\n",
       "      <th>collage</th>\n",
       "      <th>born</th>\n",
       "      <th>birth_city</th>\n",
       "      <th>birth_state</th>\n",
       "    </tr>\n",
       "  </thead>\n",
       "  <tbody>\n",
       "    <tr>\n",
       "      <th>0</th>\n",
       "      <td>0</td>\n",
       "      <td>Curly Armstrong</td>\n",
       "      <td>180.0</td>\n",
       "      <td>77.0</td>\n",
       "      <td>Indiana University</td>\n",
       "      <td>1918.0</td>\n",
       "      <td>NaN</td>\n",
       "      <td>NaN</td>\n",
       "    </tr>\n",
       "    <tr>\n",
       "      <th>1</th>\n",
       "      <td>1</td>\n",
       "      <td>Cliff Barker</td>\n",
       "      <td>188.0</td>\n",
       "      <td>83.0</td>\n",
       "      <td>University of Kentucky</td>\n",
       "      <td>1921.0</td>\n",
       "      <td>Yorktown</td>\n",
       "      <td>Indiana</td>\n",
       "    </tr>\n",
       "    <tr>\n",
       "      <th>2</th>\n",
       "      <td>2</td>\n",
       "      <td>Leo Barnhorst</td>\n",
       "      <td>193.0</td>\n",
       "      <td>86.0</td>\n",
       "      <td>University of Notre Dame</td>\n",
       "      <td>1924.0</td>\n",
       "      <td>NaN</td>\n",
       "      <td>NaN</td>\n",
       "    </tr>\n",
       "    <tr>\n",
       "      <th>3</th>\n",
       "      <td>3</td>\n",
       "      <td>Ed Bartels</td>\n",
       "      <td>196.0</td>\n",
       "      <td>88.0</td>\n",
       "      <td>North Carolina State University</td>\n",
       "      <td>1925.0</td>\n",
       "      <td>NaN</td>\n",
       "      <td>NaN</td>\n",
       "    </tr>\n",
       "    <tr>\n",
       "      <th>4</th>\n",
       "      <td>4</td>\n",
       "      <td>Ralph Beard</td>\n",
       "      <td>178.0</td>\n",
       "      <td>79.0</td>\n",
       "      <td>University of Kentucky</td>\n",
       "      <td>1927.0</td>\n",
       "      <td>Hardinsburg</td>\n",
       "      <td>Kentucky</td>\n",
       "    </tr>\n",
       "    <tr>\n",
       "      <th>...</th>\n",
       "      <td>...</td>\n",
       "      <td>...</td>\n",
       "      <td>...</td>\n",
       "      <td>...</td>\n",
       "      <td>...</td>\n",
       "      <td>...</td>\n",
       "      <td>...</td>\n",
       "      <td>...</td>\n",
       "    </tr>\n",
       "    <tr>\n",
       "      <th>3917</th>\n",
       "      <td>3917</td>\n",
       "      <td>Troy Williams</td>\n",
       "      <td>198.0</td>\n",
       "      <td>97.0</td>\n",
       "      <td>South Carolina State University</td>\n",
       "      <td>1969.0</td>\n",
       "      <td>Columbia</td>\n",
       "      <td>South Carolina</td>\n",
       "    </tr>\n",
       "    <tr>\n",
       "      <th>3918</th>\n",
       "      <td>3918</td>\n",
       "      <td>Kyle Wiltjer</td>\n",
       "      <td>208.0</td>\n",
       "      <td>108.0</td>\n",
       "      <td>Gonzaga University</td>\n",
       "      <td>1992.0</td>\n",
       "      <td>Portland</td>\n",
       "      <td>Oregon</td>\n",
       "    </tr>\n",
       "    <tr>\n",
       "      <th>3919</th>\n",
       "      <td>3919</td>\n",
       "      <td>Stephen Zimmerman</td>\n",
       "      <td>213.0</td>\n",
       "      <td>108.0</td>\n",
       "      <td>University of Nevada, Las Vegas</td>\n",
       "      <td>1996.0</td>\n",
       "      <td>Hendersonville</td>\n",
       "      <td>Tennessee</td>\n",
       "    </tr>\n",
       "    <tr>\n",
       "      <th>3920</th>\n",
       "      <td>3920</td>\n",
       "      <td>Paul Zipser</td>\n",
       "      <td>203.0</td>\n",
       "      <td>97.0</td>\n",
       "      <td>NaN</td>\n",
       "      <td>1994.0</td>\n",
       "      <td>Heidelberg</td>\n",
       "      <td>Germany</td>\n",
       "    </tr>\n",
       "    <tr>\n",
       "      <th>3921</th>\n",
       "      <td>3921</td>\n",
       "      <td>Ivica Zubac</td>\n",
       "      <td>216.0</td>\n",
       "      <td>120.0</td>\n",
       "      <td>NaN</td>\n",
       "      <td>1997.0</td>\n",
       "      <td>Mostar</td>\n",
       "      <td>Bosnia and Herzegovina</td>\n",
       "    </tr>\n",
       "  </tbody>\n",
       "</table>\n",
       "<p>3922 rows × 8 columns</p>\n",
       "</div>"
      ],
      "text/plain": [
       "      Unnamed: 0             Player  height  weight  \\\n",
       "0              0    Curly Armstrong   180.0    77.0   \n",
       "1              1       Cliff Barker   188.0    83.0   \n",
       "2              2      Leo Barnhorst   193.0    86.0   \n",
       "3              3         Ed Bartels   196.0    88.0   \n",
       "4              4        Ralph Beard   178.0    79.0   \n",
       "...          ...                ...     ...     ...   \n",
       "3917        3917      Troy Williams   198.0    97.0   \n",
       "3918        3918       Kyle Wiltjer   208.0   108.0   \n",
       "3919        3919  Stephen Zimmerman   213.0   108.0   \n",
       "3920        3920        Paul Zipser   203.0    97.0   \n",
       "3921        3921        Ivica Zubac   216.0   120.0   \n",
       "\n",
       "                              collage    born      birth_city  \\\n",
       "0                  Indiana University  1918.0             NaN   \n",
       "1              University of Kentucky  1921.0        Yorktown   \n",
       "2            University of Notre Dame  1924.0             NaN   \n",
       "3     North Carolina State University  1925.0             NaN   \n",
       "4              University of Kentucky  1927.0     Hardinsburg   \n",
       "...                               ...     ...             ...   \n",
       "3917  South Carolina State University  1969.0        Columbia   \n",
       "3918               Gonzaga University  1992.0        Portland   \n",
       "3919  University of Nevada, Las Vegas  1996.0  Hendersonville   \n",
       "3920                              NaN  1994.0      Heidelberg   \n",
       "3921                              NaN  1997.0          Mostar   \n",
       "\n",
       "                 birth_state  \n",
       "0                        NaN  \n",
       "1                    Indiana  \n",
       "2                        NaN  \n",
       "3                        NaN  \n",
       "4                   Kentucky  \n",
       "...                      ...  \n",
       "3917          South Carolina  \n",
       "3918                  Oregon  \n",
       "3919               Tennessee  \n",
       "3920                 Germany  \n",
       "3921  Bosnia and Herzegovina  \n",
       "\n",
       "[3922 rows x 8 columns]"
      ]
     },
     "execution_count": 64,
     "metadata": {},
     "output_type": "execute_result"
    }
   ],
   "source": [
    "file = 'datasets_1358_30676_Players.csv'\n",
    "\n",
    "NBA_players = pd.read_csv(file)\n",
    "NBA_players"
   ]
  },
  {
   "cell_type": "code",
   "execution_count": null,
   "metadata": {},
   "outputs": [],
   "source": []
  },
  {
   "cell_type": "code",
   "execution_count": null,
   "metadata": {},
   "outputs": [],
   "source": []
  },
  {
   "cell_type": "code",
   "execution_count": null,
   "metadata": {},
   "outputs": [],
   "source": []
  },
  {
   "cell_type": "markdown",
   "metadata": {},
   "source": [
    "## 9.2 Funcionalidades básicas\n",
    "\n",
    "Acesse: https://pandas.pydata.org/pandas-docs/stable/reference/api/pandas.DataFrame.html\n",
    "\n",
    "\n",
    "#### Algumas propriedades de DataFrames\n",
    "\n",
    "shape, size, dtypes, columns, index (retorna linhas), values (retorna array)\n",
    "\n",
    "\n",
    "#### Alguns métodos para DataFrames\n",
    "\n",
    "\n",
    "| Métodos aplicados ao DataFrame | Descrição |\n",
    "| :-- | :-- |\n",
    "| .head(*optativo*) | para ver primeiras linhas |\n",
    "| .tail(*optativo*) | para ver últimas linhas |\n",
    "| .to_csv(*path/name*) |  exporta o DF para um arquivo csv (esse método existe para vários outros formatos) |\n",
    "| .min(axis), .max(axis), .cumsum(),mean() | similar as discutidas na seção de Numpy |\n",
    "| .value_counts() | Este método faz uma contagem de aparições de determinado valor (aplicar para Series) |\n",
    "| .sort_values(by=column) | Ordena valores. |\n"
   ]
  },
  {
   "cell_type": "code",
   "execution_count": 68,
   "metadata": {},
   "outputs": [
    {
     "data": {
      "text/plain": [
       "{'string': ['a', 'a', 'b', 'c', 'a', 'd', 'c'],\n",
       " 'numeros': [0, 1, 2, 3, 4, 5, 6]}"
      ]
     },
     "execution_count": 68,
     "metadata": {},
     "output_type": "execute_result"
    }
   ],
   "source": [
    "import pandas as pd\n",
    "\n",
    "\n",
    "lista_a = ['a','a','b','c','a','d','c']\n",
    "\n",
    "lista_b = list(range(7))\n",
    "\n",
    "dic = {'string':lista_a,'numeros':lista_b}\n",
    "dic"
   ]
  },
  {
   "cell_type": "code",
   "execution_count": 81,
   "metadata": {},
   "outputs": [
    {
     "data": {
      "text/plain": [
       "numpy.ndarray"
      ]
     },
     "execution_count": 81,
     "metadata": {},
     "output_type": "execute_result"
    }
   ],
   "source": [
    "df = pd.DataFrame(dic)\n",
    "\n",
    "type(df.values)"
   ]
  },
  {
   "cell_type": "code",
   "execution_count": 88,
   "metadata": {},
   "outputs": [
    {
     "data": {
      "text/html": [
       "<div>\n",
       "<style scoped>\n",
       "    .dataframe tbody tr th:only-of-type {\n",
       "        vertical-align: middle;\n",
       "    }\n",
       "\n",
       "    .dataframe tbody tr th {\n",
       "        vertical-align: top;\n",
       "    }\n",
       "\n",
       "    .dataframe thead th {\n",
       "        text-align: right;\n",
       "    }\n",
       "</style>\n",
       "<table border=\"1\" class=\"dataframe\">\n",
       "  <thead>\n",
       "    <tr style=\"text-align: right;\">\n",
       "      <th></th>\n",
       "      <th>col1</th>\n",
       "      <th>col2</th>\n",
       "    </tr>\n",
       "  </thead>\n",
       "  <tbody>\n",
       "    <tr>\n",
       "      <th>95</th>\n",
       "      <td>9025</td>\n",
       "      <td>475</td>\n",
       "    </tr>\n",
       "    <tr>\n",
       "      <th>96</th>\n",
       "      <td>9216</td>\n",
       "      <td>480</td>\n",
       "    </tr>\n",
       "    <tr>\n",
       "      <th>97</th>\n",
       "      <td>9409</td>\n",
       "      <td>485</td>\n",
       "    </tr>\n",
       "    <tr>\n",
       "      <th>98</th>\n",
       "      <td>9604</td>\n",
       "      <td>490</td>\n",
       "    </tr>\n",
       "    <tr>\n",
       "      <th>99</th>\n",
       "      <td>9801</td>\n",
       "      <td>495</td>\n",
       "    </tr>\n",
       "  </tbody>\n",
       "</table>\n",
       "</div>"
      ],
      "text/plain": [
       "    col1  col2\n",
       "95  9025   475\n",
       "96  9216   480\n",
       "97  9409   485\n",
       "98  9604   490\n",
       "99  9801   495"
      ]
     },
     "execution_count": 88,
     "metadata": {},
     "output_type": "execute_result"
    }
   ],
   "source": [
    "import numpy as np\n",
    "\n",
    "df2 = pd.DataFrame({'col1':np.arange(100)**2,'col2':np.arange(100)*5})\n",
    "df2.tail()"
   ]
  },
  {
   "cell_type": "code",
   "execution_count": 96,
   "metadata": {},
   "outputs": [
    {
     "data": {
      "text/html": [
       "<div>\n",
       "<style scoped>\n",
       "    .dataframe tbody tr th:only-of-type {\n",
       "        vertical-align: middle;\n",
       "    }\n",
       "\n",
       "    .dataframe tbody tr th {\n",
       "        vertical-align: top;\n",
       "    }\n",
       "\n",
       "    .dataframe thead th {\n",
       "        text-align: right;\n",
       "    }\n",
       "</style>\n",
       "<table border=\"1\" class=\"dataframe\">\n",
       "  <thead>\n",
       "    <tr style=\"text-align: right;\">\n",
       "      <th></th>\n",
       "      <th>string</th>\n",
       "      <th>numeros</th>\n",
       "    </tr>\n",
       "  </thead>\n",
       "  <tbody>\n",
       "    <tr>\n",
       "      <th>0</th>\n",
       "      <td>a</td>\n",
       "      <td>0</td>\n",
       "    </tr>\n",
       "    <tr>\n",
       "      <th>1</th>\n",
       "      <td>aa</td>\n",
       "      <td>1</td>\n",
       "    </tr>\n",
       "    <tr>\n",
       "      <th>2</th>\n",
       "      <td>aab</td>\n",
       "      <td>3</td>\n",
       "    </tr>\n",
       "    <tr>\n",
       "      <th>3</th>\n",
       "      <td>aabc</td>\n",
       "      <td>6</td>\n",
       "    </tr>\n",
       "    <tr>\n",
       "      <th>4</th>\n",
       "      <td>aabca</td>\n",
       "      <td>10</td>\n",
       "    </tr>\n",
       "    <tr>\n",
       "      <th>5</th>\n",
       "      <td>aabcad</td>\n",
       "      <td>15</td>\n",
       "    </tr>\n",
       "    <tr>\n",
       "      <th>6</th>\n",
       "      <td>aabcadc</td>\n",
       "      <td>21</td>\n",
       "    </tr>\n",
       "  </tbody>\n",
       "</table>\n",
       "</div>"
      ],
      "text/plain": [
       "    string  numeros\n",
       "0        a        0\n",
       "1       aa        1\n",
       "2      aab        3\n",
       "3     aabc        6\n",
       "4    aabca       10\n",
       "5   aabcad       15\n",
       "6  aabcadc       21"
      ]
     },
     "execution_count": 96,
     "metadata": {},
     "output_type": "execute_result"
    }
   ],
   "source": [
    "df.cumsum()"
   ]
  },
  {
   "cell_type": "code",
   "execution_count": 98,
   "metadata": {},
   "outputs": [
    {
     "data": {
      "text/plain": [
       "a    3\n",
       "c    2\n",
       "d    1\n",
       "b    1\n",
       "Name: string, dtype: int64"
      ]
     },
     "execution_count": 98,
     "metadata": {},
     "output_type": "execute_result"
    }
   ],
   "source": [
    "df['string'].value_counts()"
   ]
  },
  {
   "cell_type": "code",
   "execution_count": 100,
   "metadata": {},
   "outputs": [
    {
     "data": {
      "text/html": [
       "<div>\n",
       "<style scoped>\n",
       "    .dataframe tbody tr th:only-of-type {\n",
       "        vertical-align: middle;\n",
       "    }\n",
       "\n",
       "    .dataframe tbody tr th {\n",
       "        vertical-align: top;\n",
       "    }\n",
       "\n",
       "    .dataframe thead th {\n",
       "        text-align: right;\n",
       "    }\n",
       "</style>\n",
       "<table border=\"1\" class=\"dataframe\">\n",
       "  <thead>\n",
       "    <tr style=\"text-align: right;\">\n",
       "      <th></th>\n",
       "      <th>string</th>\n",
       "      <th>numeros</th>\n",
       "    </tr>\n",
       "  </thead>\n",
       "  <tbody>\n",
       "    <tr>\n",
       "      <th>0</th>\n",
       "      <td>a</td>\n",
       "      <td>0</td>\n",
       "    </tr>\n",
       "    <tr>\n",
       "      <th>1</th>\n",
       "      <td>a</td>\n",
       "      <td>1</td>\n",
       "    </tr>\n",
       "    <tr>\n",
       "      <th>4</th>\n",
       "      <td>a</td>\n",
       "      <td>4</td>\n",
       "    </tr>\n",
       "    <tr>\n",
       "      <th>2</th>\n",
       "      <td>b</td>\n",
       "      <td>2</td>\n",
       "    </tr>\n",
       "    <tr>\n",
       "      <th>3</th>\n",
       "      <td>c</td>\n",
       "      <td>3</td>\n",
       "    </tr>\n",
       "    <tr>\n",
       "      <th>6</th>\n",
       "      <td>c</td>\n",
       "      <td>6</td>\n",
       "    </tr>\n",
       "    <tr>\n",
       "      <th>5</th>\n",
       "      <td>d</td>\n",
       "      <td>5</td>\n",
       "    </tr>\n",
       "  </tbody>\n",
       "</table>\n",
       "</div>"
      ],
      "text/plain": [
       "  string  numeros\n",
       "0      a        0\n",
       "1      a        1\n",
       "4      a        4\n",
       "2      b        2\n",
       "3      c        3\n",
       "6      c        6\n",
       "5      d        5"
      ]
     },
     "execution_count": 100,
     "metadata": {},
     "output_type": "execute_result"
    }
   ],
   "source": [
    "df.sort_values(by='string')"
   ]
  },
  {
   "cell_type": "code",
   "execution_count": null,
   "metadata": {},
   "outputs": [],
   "source": []
  },
  {
   "cell_type": "code",
   "execution_count": null,
   "metadata": {},
   "outputs": [],
   "source": []
  },
  {
   "cell_type": "markdown",
   "metadata": {},
   "source": [
    "## 9.3 Tratando dados (Exemplo prático 1)"
   ]
  },
  {
   "cell_type": "markdown",
   "metadata": {},
   "source": [
    "A partir dos dados de jogadores da NBA (https://www.kaggle.com/drgilermo/nba-players-stats), pede-se:\n",
    "\n",
    "- Qual a média de altura e de peso dos jogadores?\n",
    "- Crie uma nova coluna com a razão peso/altura.\n",
    "- Qual a maior altura, o maior peso, a menor altura e menor peso?\n",
    "- Qual é o estado onde nasce o maior número de jogadores?\n",
    "- Qual o jogador mais alto?"
   ]
  },
  {
   "cell_type": "code",
   "execution_count": 103,
   "metadata": {},
   "outputs": [
    {
     "data": {
      "text/html": [
       "<div>\n",
       "<style scoped>\n",
       "    .dataframe tbody tr th:only-of-type {\n",
       "        vertical-align: middle;\n",
       "    }\n",
       "\n",
       "    .dataframe tbody tr th {\n",
       "        vertical-align: top;\n",
       "    }\n",
       "\n",
       "    .dataframe thead th {\n",
       "        text-align: right;\n",
       "    }\n",
       "</style>\n",
       "<table border=\"1\" class=\"dataframe\">\n",
       "  <thead>\n",
       "    <tr style=\"text-align: right;\">\n",
       "      <th></th>\n",
       "      <th>Unnamed: 0</th>\n",
       "      <th>Player</th>\n",
       "      <th>height</th>\n",
       "      <th>weight</th>\n",
       "      <th>collage</th>\n",
       "      <th>born</th>\n",
       "      <th>birth_city</th>\n",
       "      <th>birth_state</th>\n",
       "    </tr>\n",
       "  </thead>\n",
       "  <tbody>\n",
       "    <tr>\n",
       "      <th>0</th>\n",
       "      <td>0</td>\n",
       "      <td>Curly Armstrong</td>\n",
       "      <td>180.0</td>\n",
       "      <td>77.0</td>\n",
       "      <td>Indiana University</td>\n",
       "      <td>1918.0</td>\n",
       "      <td>NaN</td>\n",
       "      <td>NaN</td>\n",
       "    </tr>\n",
       "    <tr>\n",
       "      <th>1</th>\n",
       "      <td>1</td>\n",
       "      <td>Cliff Barker</td>\n",
       "      <td>188.0</td>\n",
       "      <td>83.0</td>\n",
       "      <td>University of Kentucky</td>\n",
       "      <td>1921.0</td>\n",
       "      <td>Yorktown</td>\n",
       "      <td>Indiana</td>\n",
       "    </tr>\n",
       "    <tr>\n",
       "      <th>2</th>\n",
       "      <td>2</td>\n",
       "      <td>Leo Barnhorst</td>\n",
       "      <td>193.0</td>\n",
       "      <td>86.0</td>\n",
       "      <td>University of Notre Dame</td>\n",
       "      <td>1924.0</td>\n",
       "      <td>NaN</td>\n",
       "      <td>NaN</td>\n",
       "    </tr>\n",
       "    <tr>\n",
       "      <th>3</th>\n",
       "      <td>3</td>\n",
       "      <td>Ed Bartels</td>\n",
       "      <td>196.0</td>\n",
       "      <td>88.0</td>\n",
       "      <td>North Carolina State University</td>\n",
       "      <td>1925.0</td>\n",
       "      <td>NaN</td>\n",
       "      <td>NaN</td>\n",
       "    </tr>\n",
       "    <tr>\n",
       "      <th>4</th>\n",
       "      <td>4</td>\n",
       "      <td>Ralph Beard</td>\n",
       "      <td>178.0</td>\n",
       "      <td>79.0</td>\n",
       "      <td>University of Kentucky</td>\n",
       "      <td>1927.0</td>\n",
       "      <td>Hardinsburg</td>\n",
       "      <td>Kentucky</td>\n",
       "    </tr>\n",
       "  </tbody>\n",
       "</table>\n",
       "</div>"
      ],
      "text/plain": [
       "   Unnamed: 0           Player  height  weight  \\\n",
       "0           0  Curly Armstrong   180.0    77.0   \n",
       "1           1     Cliff Barker   188.0    83.0   \n",
       "2           2    Leo Barnhorst   193.0    86.0   \n",
       "3           3       Ed Bartels   196.0    88.0   \n",
       "4           4      Ralph Beard   178.0    79.0   \n",
       "\n",
       "                           collage    born   birth_city birth_state  \n",
       "0               Indiana University  1918.0          NaN         NaN  \n",
       "1           University of Kentucky  1921.0     Yorktown     Indiana  \n",
       "2         University of Notre Dame  1924.0          NaN         NaN  \n",
       "3  North Carolina State University  1925.0          NaN         NaN  \n",
       "4           University of Kentucky  1927.0  Hardinsburg    Kentucky  "
      ]
     },
     "execution_count": 103,
     "metadata": {},
     "output_type": "execute_result"
    }
   ],
   "source": [
    "import pandas as pd\n",
    "\n",
    "\n",
    "file = 'datasets_1358_30676_Players.csv'\n",
    "\n",
    "df = pd.read_csv(file)\n",
    "\n",
    "df.head()"
   ]
  },
  {
   "cell_type": "code",
   "execution_count": 104,
   "metadata": {},
   "outputs": [
    {
     "data": {
      "text/plain": [
       "Index(['Unnamed: 0', 'Player', 'height', 'weight', 'collage', 'born',\n",
       "       'birth_city', 'birth_state'],\n",
       "      dtype='object')"
      ]
     },
     "execution_count": 104,
     "metadata": {},
     "output_type": "execute_result"
    }
   ],
   "source": [
    "df.columns"
   ]
  },
  {
   "cell_type": "code",
   "execution_count": 106,
   "metadata": {},
   "outputs": [
    {
     "data": {
      "text/plain": [
       "198.70492221372098"
      ]
     },
     "execution_count": 106,
     "metadata": {},
     "output_type": "execute_result"
    }
   ],
   "source": [
    "df['height'].mean()"
   ]
  },
  {
   "cell_type": "code",
   "execution_count": 107,
   "metadata": {},
   "outputs": [
    {
     "data": {
      "text/plain": [
       "94.78321856669217"
      ]
     },
     "execution_count": 107,
     "metadata": {},
     "output_type": "execute_result"
    }
   ],
   "source": [
    "df['weight'].mean()"
   ]
  },
  {
   "cell_type": "code",
   "execution_count": 115,
   "metadata": {},
   "outputs": [
    {
     "data": {
      "text/plain": [
       "0       23.765432\n",
       "1       23.483477\n",
       "2       23.087868\n",
       "3       22.907122\n",
       "4       24.933720\n",
       "          ...    \n",
       "3917    24.742373\n",
       "3918    24.963018\n",
       "3919    23.804801\n",
       "3920    23.538547\n",
       "3921    25.720165\n",
       "Length: 3922, dtype: float64"
      ]
     },
     "execution_count": 115,
     "metadata": {},
     "output_type": "execute_result"
    }
   ],
   "source": [
    "IMC = df['weight']/((df['height']/100)**2)\n",
    "IMC"
   ]
  },
  {
   "cell_type": "code",
   "execution_count": 116,
   "metadata": {},
   "outputs": [
    {
     "data": {
      "text/html": [
       "<div>\n",
       "<style scoped>\n",
       "    .dataframe tbody tr th:only-of-type {\n",
       "        vertical-align: middle;\n",
       "    }\n",
       "\n",
       "    .dataframe tbody tr th {\n",
       "        vertical-align: top;\n",
       "    }\n",
       "\n",
       "    .dataframe thead th {\n",
       "        text-align: right;\n",
       "    }\n",
       "</style>\n",
       "<table border=\"1\" class=\"dataframe\">\n",
       "  <thead>\n",
       "    <tr style=\"text-align: right;\">\n",
       "      <th></th>\n",
       "      <th>Unnamed: 0</th>\n",
       "      <th>Player</th>\n",
       "      <th>height</th>\n",
       "      <th>weight</th>\n",
       "      <th>collage</th>\n",
       "      <th>born</th>\n",
       "      <th>birth_city</th>\n",
       "      <th>birth_state</th>\n",
       "      <th>razao</th>\n",
       "      <th>IMC</th>\n",
       "    </tr>\n",
       "  </thead>\n",
       "  <tbody>\n",
       "    <tr>\n",
       "      <th>0</th>\n",
       "      <td>0</td>\n",
       "      <td>Curly Armstrong</td>\n",
       "      <td>180.0</td>\n",
       "      <td>77.0</td>\n",
       "      <td>Indiana University</td>\n",
       "      <td>1918.0</td>\n",
       "      <td>NaN</td>\n",
       "      <td>NaN</td>\n",
       "      <td>0.427778</td>\n",
       "      <td>23.765432</td>\n",
       "    </tr>\n",
       "    <tr>\n",
       "      <th>1</th>\n",
       "      <td>1</td>\n",
       "      <td>Cliff Barker</td>\n",
       "      <td>188.0</td>\n",
       "      <td>83.0</td>\n",
       "      <td>University of Kentucky</td>\n",
       "      <td>1921.0</td>\n",
       "      <td>Yorktown</td>\n",
       "      <td>Indiana</td>\n",
       "      <td>0.441489</td>\n",
       "      <td>23.483477</td>\n",
       "    </tr>\n",
       "    <tr>\n",
       "      <th>2</th>\n",
       "      <td>2</td>\n",
       "      <td>Leo Barnhorst</td>\n",
       "      <td>193.0</td>\n",
       "      <td>86.0</td>\n",
       "      <td>University of Notre Dame</td>\n",
       "      <td>1924.0</td>\n",
       "      <td>NaN</td>\n",
       "      <td>NaN</td>\n",
       "      <td>0.445596</td>\n",
       "      <td>23.087868</td>\n",
       "    </tr>\n",
       "    <tr>\n",
       "      <th>3</th>\n",
       "      <td>3</td>\n",
       "      <td>Ed Bartels</td>\n",
       "      <td>196.0</td>\n",
       "      <td>88.0</td>\n",
       "      <td>North Carolina State University</td>\n",
       "      <td>1925.0</td>\n",
       "      <td>NaN</td>\n",
       "      <td>NaN</td>\n",
       "      <td>0.448980</td>\n",
       "      <td>22.907122</td>\n",
       "    </tr>\n",
       "    <tr>\n",
       "      <th>4</th>\n",
       "      <td>4</td>\n",
       "      <td>Ralph Beard</td>\n",
       "      <td>178.0</td>\n",
       "      <td>79.0</td>\n",
       "      <td>University of Kentucky</td>\n",
       "      <td>1927.0</td>\n",
       "      <td>Hardinsburg</td>\n",
       "      <td>Kentucky</td>\n",
       "      <td>0.443820</td>\n",
       "      <td>24.933720</td>\n",
       "    </tr>\n",
       "  </tbody>\n",
       "</table>\n",
       "</div>"
      ],
      "text/plain": [
       "   Unnamed: 0           Player  height  weight  \\\n",
       "0           0  Curly Armstrong   180.0    77.0   \n",
       "1           1     Cliff Barker   188.0    83.0   \n",
       "2           2    Leo Barnhorst   193.0    86.0   \n",
       "3           3       Ed Bartels   196.0    88.0   \n",
       "4           4      Ralph Beard   178.0    79.0   \n",
       "\n",
       "                           collage    born   birth_city birth_state     razao  \\\n",
       "0               Indiana University  1918.0          NaN         NaN  0.427778   \n",
       "1           University of Kentucky  1921.0     Yorktown     Indiana  0.441489   \n",
       "2         University of Notre Dame  1924.0          NaN         NaN  0.445596   \n",
       "3  North Carolina State University  1925.0          NaN         NaN  0.448980   \n",
       "4           University of Kentucky  1927.0  Hardinsburg    Kentucky  0.443820   \n",
       "\n",
       "         IMC  \n",
       "0  23.765432  \n",
       "1  23.483477  \n",
       "2  23.087868  \n",
       "3  22.907122  \n",
       "4  24.933720  "
      ]
     },
     "execution_count": 116,
     "metadata": {},
     "output_type": "execute_result"
    }
   ],
   "source": [
    "df['IMC'] = IMC\n",
    "\n",
    "df.head()"
   ]
  },
  {
   "cell_type": "code",
   "execution_count": 117,
   "metadata": {},
   "outputs": [
    {
     "data": {
      "text/plain": [
       "Unnamed: 0    1960.500000\n",
       "height         198.704922\n",
       "weight          94.783219\n",
       "born          1962.379750\n",
       "razao            0.475704\n",
       "IMC             23.926953\n",
       "dtype: float64"
      ]
     },
     "execution_count": 117,
     "metadata": {},
     "output_type": "execute_result"
    }
   ],
   "source": [
    "df.mean()"
   ]
  },
  {
   "cell_type": "code",
   "execution_count": 118,
   "metadata": {},
   "outputs": [
    {
     "data": {
      "text/plain": [
       "Unnamed: 0       0.000000\n",
       "height         160.000000\n",
       "weight          60.000000\n",
       "born          1913.000000\n",
       "razao            0.357143\n",
       "IMC             16.866251\n",
       "dtype: float64"
      ]
     },
     "execution_count": 118,
     "metadata": {},
     "output_type": "execute_result"
    }
   ],
   "source": [
    "df.min()"
   ]
  },
  {
   "cell_type": "code",
   "execution_count": 119,
   "metadata": {},
   "outputs": [
    {
     "data": {
      "text/plain": [
       "Unnamed: 0    3921.000000\n",
       "height         231.000000\n",
       "weight         163.000000\n",
       "born          1997.000000\n",
       "razao            0.721239\n",
       "IMC             31.913227\n",
       "dtype: float64"
      ]
     },
     "execution_count": 119,
     "metadata": {},
     "output_type": "execute_result"
    }
   ],
   "source": [
    "df.max()"
   ]
  },
  {
   "cell_type": "code",
   "execution_count": 120,
   "metadata": {},
   "outputs": [
    {
     "data": {
      "text/plain": [
       "California                          344\n",
       "New York                            290\n",
       "Illinois                            209\n",
       "Pennsylvania                        163\n",
       "Ohio                                137\n",
       "                                   ... \n",
       "Saint Vincent and the Grenadines      1\n",
       "South Africa                          1\n",
       "Morocco                               1\n",
       "Cape Verde                            1\n",
       "New Hampshire                         1\n",
       "Name: birth_state, Length: 128, dtype: int64"
      ]
     },
     "execution_count": 120,
     "metadata": {},
     "output_type": "execute_result"
    }
   ],
   "source": [
    "df['birth_state'].value_counts()"
   ]
  },
  {
   "cell_type": "code",
   "execution_count": 124,
   "metadata": {},
   "outputs": [
    {
     "data": {
      "text/html": [
       "<div>\n",
       "<style scoped>\n",
       "    .dataframe tbody tr th:only-of-type {\n",
       "        vertical-align: middle;\n",
       "    }\n",
       "\n",
       "    .dataframe tbody tr th {\n",
       "        vertical-align: top;\n",
       "    }\n",
       "\n",
       "    .dataframe thead th {\n",
       "        text-align: right;\n",
       "    }\n",
       "</style>\n",
       "<table border=\"1\" class=\"dataframe\">\n",
       "  <thead>\n",
       "    <tr style=\"text-align: right;\">\n",
       "      <th></th>\n",
       "      <th>Unnamed: 0</th>\n",
       "      <th>Player</th>\n",
       "      <th>height</th>\n",
       "      <th>weight</th>\n",
       "      <th>collage</th>\n",
       "      <th>born</th>\n",
       "      <th>birth_city</th>\n",
       "      <th>birth_state</th>\n",
       "      <th>razao</th>\n",
       "      <th>IMC</th>\n",
       "    </tr>\n",
       "  </thead>\n",
       "  <tbody>\n",
       "    <tr>\n",
       "      <th>2547</th>\n",
       "      <td>2547</td>\n",
       "      <td>Zydrunas Ilgauskas</td>\n",
       "      <td>221.0</td>\n",
       "      <td>107.0</td>\n",
       "      <td>NaN</td>\n",
       "      <td>1975.0</td>\n",
       "      <td>Kaunas</td>\n",
       "      <td>Lithuania</td>\n",
       "      <td>0.484163</td>\n",
       "      <td>21.907823</td>\n",
       "    </tr>\n",
       "    <tr>\n",
       "      <th>3814</th>\n",
       "      <td>3814</td>\n",
       "      <td>Kristaps Porzingis</td>\n",
       "      <td>221.0</td>\n",
       "      <td>108.0</td>\n",
       "      <td>NaN</td>\n",
       "      <td>1995.0</td>\n",
       "      <td>Liepaja</td>\n",
       "      <td>Latvia</td>\n",
       "      <td>0.488688</td>\n",
       "      <td>22.112569</td>\n",
       "    </tr>\n",
       "    <tr>\n",
       "      <th>3381</th>\n",
       "      <td>3381</td>\n",
       "      <td>Hasheem Thabeet</td>\n",
       "      <td>221.0</td>\n",
       "      <td>119.0</td>\n",
       "      <td>University of Connecticut</td>\n",
       "      <td>1987.0</td>\n",
       "      <td>Dar es Salaam</td>\n",
       "      <td>United Republic of Tanzania</td>\n",
       "      <td>0.538462</td>\n",
       "      <td>24.364775</td>\n",
       "    </tr>\n",
       "    <tr>\n",
       "      <th>3812</th>\n",
       "      <td>3812</td>\n",
       "      <td>Tibor Pleiss</td>\n",
       "      <td>221.0</td>\n",
       "      <td>116.0</td>\n",
       "      <td>NaN</td>\n",
       "      <td>1989.0</td>\n",
       "      <td>Bergisch Gladbach</td>\n",
       "      <td>Germany</td>\n",
       "      <td>0.524887</td>\n",
       "      <td>23.750537</td>\n",
       "    </tr>\n",
       "    <tr>\n",
       "      <th>3822</th>\n",
       "      <td>3822</td>\n",
       "      <td>Walter Tavares</td>\n",
       "      <td>221.0</td>\n",
       "      <td>117.0</td>\n",
       "      <td>NaN</td>\n",
       "      <td>1992.0</td>\n",
       "      <td>Maio</td>\n",
       "      <td>Cape Verde</td>\n",
       "      <td>0.529412</td>\n",
       "      <td>23.955283</td>\n",
       "    </tr>\n",
       "    <tr>\n",
       "      <th>1540</th>\n",
       "      <td>1540</td>\n",
       "      <td>Mark Eaton</td>\n",
       "      <td>224.0</td>\n",
       "      <td>124.0</td>\n",
       "      <td>University of California, Los Angeles</td>\n",
       "      <td>1957.0</td>\n",
       "      <td>Westminster</td>\n",
       "      <td>California</td>\n",
       "      <td>0.553571</td>\n",
       "      <td>24.713010</td>\n",
       "    </tr>\n",
       "    <tr>\n",
       "      <th>2482</th>\n",
       "      <td>2482</td>\n",
       "      <td>Priest Lauderdale</td>\n",
       "      <td>224.0</td>\n",
       "      <td>147.0</td>\n",
       "      <td>Central State University</td>\n",
       "      <td>1973.0</td>\n",
       "      <td>Chicago</td>\n",
       "      <td>Illinois</td>\n",
       "      <td>0.656250</td>\n",
       "      <td>29.296875</td>\n",
       "    </tr>\n",
       "    <tr>\n",
       "      <th>1631</th>\n",
       "      <td>1631</td>\n",
       "      <td>Ralph Sampson*</td>\n",
       "      <td>224.0</td>\n",
       "      <td>103.0</td>\n",
       "      <td>University of Virginia</td>\n",
       "      <td>1960.0</td>\n",
       "      <td>Harrisonburg</td>\n",
       "      <td>Virginia</td>\n",
       "      <td>0.459821</td>\n",
       "      <td>20.527742</td>\n",
       "    </tr>\n",
       "    <tr>\n",
       "      <th>1956</th>\n",
       "      <td>1956</td>\n",
       "      <td>Rik Smits</td>\n",
       "      <td>224.0</td>\n",
       "      <td>113.0</td>\n",
       "      <td>Marist College</td>\n",
       "      <td>1966.0</td>\n",
       "      <td>Eindhoven</td>\n",
       "      <td>Netherlands</td>\n",
       "      <td>0.504464</td>\n",
       "      <td>22.520727</td>\n",
       "    </tr>\n",
       "    <tr>\n",
       "      <th>3017</th>\n",
       "      <td>3017</td>\n",
       "      <td>Pavel Podkolzin</td>\n",
       "      <td>226.0</td>\n",
       "      <td>117.0</td>\n",
       "      <td>NaN</td>\n",
       "      <td>1985.0</td>\n",
       "      <td>Novosibirsk</td>\n",
       "      <td>Russia</td>\n",
       "      <td>0.517699</td>\n",
       "      <td>22.907040</td>\n",
       "    </tr>\n",
       "    <tr>\n",
       "      <th>3018</th>\n",
       "      <td>3018</td>\n",
       "      <td>Peter John</td>\n",
       "      <td>226.0</td>\n",
       "      <td>117.0</td>\n",
       "      <td>NaN</td>\n",
       "      <td>1985.0</td>\n",
       "      <td>NaN</td>\n",
       "      <td>NaN</td>\n",
       "      <td>0.517699</td>\n",
       "      <td>22.907040</td>\n",
       "    </tr>\n",
       "    <tr>\n",
       "      <th>2969</th>\n",
       "      <td>2969</td>\n",
       "      <td>Slavko Vranes</td>\n",
       "      <td>226.0</td>\n",
       "      <td>124.0</td>\n",
       "      <td>NaN</td>\n",
       "      <td>1983.0</td>\n",
       "      <td>Belgrade</td>\n",
       "      <td>Serbia</td>\n",
       "      <td>0.548673</td>\n",
       "      <td>24.277547</td>\n",
       "    </tr>\n",
       "    <tr>\n",
       "      <th>3686</th>\n",
       "      <td>3686</td>\n",
       "      <td>Sim Bhullar</td>\n",
       "      <td>226.0</td>\n",
       "      <td>163.0</td>\n",
       "      <td>New Mexico State University</td>\n",
       "      <td>1992.0</td>\n",
       "      <td>Ontario</td>\n",
       "      <td>Canada</td>\n",
       "      <td>0.721239</td>\n",
       "      <td>31.913227</td>\n",
       "    </tr>\n",
       "    <tr>\n",
       "      <th>1563</th>\n",
       "      <td>1563</td>\n",
       "      <td>Chuck Nevitt</td>\n",
       "      <td>226.0</td>\n",
       "      <td>98.0</td>\n",
       "      <td>North Carolina State University</td>\n",
       "      <td>1959.0</td>\n",
       "      <td>Cortez</td>\n",
       "      <td>Colorado</td>\n",
       "      <td>0.433628</td>\n",
       "      <td>19.187094</td>\n",
       "    </tr>\n",
       "    <tr>\n",
       "      <th>2878</th>\n",
       "      <td>2878</td>\n",
       "      <td>Yao Ming*</td>\n",
       "      <td>229.0</td>\n",
       "      <td>140.0</td>\n",
       "      <td>NaN</td>\n",
       "      <td>1980.0</td>\n",
       "      <td>Shanghai</td>\n",
       "      <td>China</td>\n",
       "      <td>0.611354</td>\n",
       "      <td>26.696669</td>\n",
       "    </tr>\n",
       "    <tr>\n",
       "      <th>2249</th>\n",
       "      <td>2249</td>\n",
       "      <td>P.J. Brown</td>\n",
       "      <td>229.0</td>\n",
       "      <td>106.0</td>\n",
       "      <td>NaN</td>\n",
       "      <td>1972.0</td>\n",
       "      <td>NaN</td>\n",
       "      <td>NaN</td>\n",
       "      <td>0.462882</td>\n",
       "      <td>20.213192</td>\n",
       "    </tr>\n",
       "    <tr>\n",
       "      <th>2248</th>\n",
       "      <td>2248</td>\n",
       "      <td>Shawn Bradley</td>\n",
       "      <td>229.0</td>\n",
       "      <td>106.0</td>\n",
       "      <td>Brigham Young University</td>\n",
       "      <td>1972.0</td>\n",
       "      <td>Landstuhl</td>\n",
       "      <td>Germany</td>\n",
       "      <td>0.462882</td>\n",
       "      <td>20.213192</td>\n",
       "    </tr>\n",
       "    <tr>\n",
       "      <th>1711</th>\n",
       "      <td>1711</td>\n",
       "      <td>Manute Bol</td>\n",
       "      <td>231.0</td>\n",
       "      <td>90.0</td>\n",
       "      <td>University of Bridgeport</td>\n",
       "      <td>1962.0</td>\n",
       "      <td>Gogrial</td>\n",
       "      <td>South Sudan</td>\n",
       "      <td>0.389610</td>\n",
       "      <td>16.866251</td>\n",
       "    </tr>\n",
       "    <tr>\n",
       "      <th>2297</th>\n",
       "      <td>2297</td>\n",
       "      <td>Gheorghe Muresan</td>\n",
       "      <td>231.0</td>\n",
       "      <td>137.0</td>\n",
       "      <td>NaN</td>\n",
       "      <td>1971.0</td>\n",
       "      <td>Triteni</td>\n",
       "      <td>Romania</td>\n",
       "      <td>0.593074</td>\n",
       "      <td>25.674182</td>\n",
       "    </tr>\n",
       "    <tr>\n",
       "      <th>223</th>\n",
       "      <td>223</td>\n",
       "      <td>NaN</td>\n",
       "      <td>NaN</td>\n",
       "      <td>NaN</td>\n",
       "      <td>NaN</td>\n",
       "      <td>NaN</td>\n",
       "      <td>NaN</td>\n",
       "      <td>NaN</td>\n",
       "      <td>NaN</td>\n",
       "      <td>NaN</td>\n",
       "    </tr>\n",
       "  </tbody>\n",
       "</table>\n",
       "</div>"
      ],
      "text/plain": [
       "      Unnamed: 0              Player  height  weight  \\\n",
       "2547        2547  Zydrunas Ilgauskas   221.0   107.0   \n",
       "3814        3814  Kristaps Porzingis   221.0   108.0   \n",
       "3381        3381     Hasheem Thabeet   221.0   119.0   \n",
       "3812        3812        Tibor Pleiss   221.0   116.0   \n",
       "3822        3822      Walter Tavares   221.0   117.0   \n",
       "1540        1540          Mark Eaton   224.0   124.0   \n",
       "2482        2482   Priest Lauderdale   224.0   147.0   \n",
       "1631        1631      Ralph Sampson*   224.0   103.0   \n",
       "1956        1956           Rik Smits   224.0   113.0   \n",
       "3017        3017     Pavel Podkolzin   226.0   117.0   \n",
       "3018        3018          Peter John   226.0   117.0   \n",
       "2969        2969       Slavko Vranes   226.0   124.0   \n",
       "3686        3686         Sim Bhullar   226.0   163.0   \n",
       "1563        1563        Chuck Nevitt   226.0    98.0   \n",
       "2878        2878           Yao Ming*   229.0   140.0   \n",
       "2249        2249          P.J. Brown   229.0   106.0   \n",
       "2248        2248       Shawn Bradley   229.0   106.0   \n",
       "1711        1711          Manute Bol   231.0    90.0   \n",
       "2297        2297    Gheorghe Muresan   231.0   137.0   \n",
       "223          223                 NaN     NaN     NaN   \n",
       "\n",
       "                                    collage    born         birth_city  \\\n",
       "2547                                    NaN  1975.0             Kaunas   \n",
       "3814                                    NaN  1995.0            Liepaja   \n",
       "3381              University of Connecticut  1987.0      Dar es Salaam   \n",
       "3812                                    NaN  1989.0  Bergisch Gladbach   \n",
       "3822                                    NaN  1992.0               Maio   \n",
       "1540  University of California, Los Angeles  1957.0        Westminster   \n",
       "2482               Central State University  1973.0            Chicago   \n",
       "1631                 University of Virginia  1960.0       Harrisonburg   \n",
       "1956                         Marist College  1966.0          Eindhoven   \n",
       "3017                                    NaN  1985.0        Novosibirsk   \n",
       "3018                                    NaN  1985.0                NaN   \n",
       "2969                                    NaN  1983.0           Belgrade   \n",
       "3686            New Mexico State University  1992.0            Ontario   \n",
       "1563        North Carolina State University  1959.0             Cortez   \n",
       "2878                                    NaN  1980.0           Shanghai   \n",
       "2249                                    NaN  1972.0                NaN   \n",
       "2248               Brigham Young University  1972.0          Landstuhl   \n",
       "1711               University of Bridgeport  1962.0            Gogrial   \n",
       "2297                                    NaN  1971.0            Triteni   \n",
       "223                                     NaN     NaN                NaN   \n",
       "\n",
       "                      birth_state     razao        IMC  \n",
       "2547                    Lithuania  0.484163  21.907823  \n",
       "3814                       Latvia  0.488688  22.112569  \n",
       "3381  United Republic of Tanzania  0.538462  24.364775  \n",
       "3812                      Germany  0.524887  23.750537  \n",
       "3822                   Cape Verde  0.529412  23.955283  \n",
       "1540                   California  0.553571  24.713010  \n",
       "2482                     Illinois  0.656250  29.296875  \n",
       "1631                     Virginia  0.459821  20.527742  \n",
       "1956                  Netherlands  0.504464  22.520727  \n",
       "3017                       Russia  0.517699  22.907040  \n",
       "3018                          NaN  0.517699  22.907040  \n",
       "2969                       Serbia  0.548673  24.277547  \n",
       "3686                       Canada  0.721239  31.913227  \n",
       "1563                     Colorado  0.433628  19.187094  \n",
       "2878                        China  0.611354  26.696669  \n",
       "2249                          NaN  0.462882  20.213192  \n",
       "2248                      Germany  0.462882  20.213192  \n",
       "1711                  South Sudan  0.389610  16.866251  \n",
       "2297                      Romania  0.593074  25.674182  \n",
       "223                           NaN       NaN        NaN  "
      ]
     },
     "execution_count": 124,
     "metadata": {},
     "output_type": "execute_result"
    }
   ],
   "source": [
    "df.sort_values(by='height').tail(20)"
   ]
  },
  {
   "cell_type": "code",
   "execution_count": null,
   "metadata": {},
   "outputs": [],
   "source": []
  },
  {
   "cell_type": "markdown",
   "metadata": {},
   "source": [
    "## 9.4 Fatiando DataFrames com loc e iloc\n",
    "Acesse: https://pandas.pydata.org/pandas-docs/stable/reference/api/pandas.DataFrame.html\n",
    "\n",
    "\n",
    "- loc[i,j], onde i e j são os nomes dos índices\n",
    "- iloc[i,j], onde i e j são os números dos índices\n"
   ]
  },
  {
   "cell_type": "code",
   "execution_count": 161,
   "metadata": {},
   "outputs": [
    {
     "data": {
      "text/html": [
       "<div>\n",
       "<style scoped>\n",
       "    .dataframe tbody tr th:only-of-type {\n",
       "        vertical-align: middle;\n",
       "    }\n",
       "\n",
       "    .dataframe tbody tr th {\n",
       "        vertical-align: top;\n",
       "    }\n",
       "\n",
       "    .dataframe thead th {\n",
       "        text-align: right;\n",
       "    }\n",
       "</style>\n",
       "<table border=\"1\" class=\"dataframe\">\n",
       "  <thead>\n",
       "    <tr style=\"text-align: right;\">\n",
       "      <th></th>\n",
       "      <th>Unnamed: 0</th>\n",
       "      <th>Player</th>\n",
       "      <th>height</th>\n",
       "      <th>weight</th>\n",
       "      <th>collage</th>\n",
       "      <th>born</th>\n",
       "      <th>birth_city</th>\n",
       "      <th>birth_state</th>\n",
       "    </tr>\n",
       "  </thead>\n",
       "  <tbody>\n",
       "    <tr>\n",
       "      <th>0</th>\n",
       "      <td>0</td>\n",
       "      <td>Curly Armstrong</td>\n",
       "      <td>180.0</td>\n",
       "      <td>77.0</td>\n",
       "      <td>Indiana University</td>\n",
       "      <td>1918.0</td>\n",
       "      <td>NaN</td>\n",
       "      <td>NaN</td>\n",
       "    </tr>\n",
       "    <tr>\n",
       "      <th>1</th>\n",
       "      <td>1</td>\n",
       "      <td>Cliff Barker</td>\n",
       "      <td>188.0</td>\n",
       "      <td>83.0</td>\n",
       "      <td>University of Kentucky</td>\n",
       "      <td>1921.0</td>\n",
       "      <td>Yorktown</td>\n",
       "      <td>Indiana</td>\n",
       "    </tr>\n",
       "    <tr>\n",
       "      <th>2</th>\n",
       "      <td>2</td>\n",
       "      <td>Leo Barnhorst</td>\n",
       "      <td>193.0</td>\n",
       "      <td>86.0</td>\n",
       "      <td>University of Notre Dame</td>\n",
       "      <td>1924.0</td>\n",
       "      <td>NaN</td>\n",
       "      <td>NaN</td>\n",
       "    </tr>\n",
       "    <tr>\n",
       "      <th>3</th>\n",
       "      <td>3</td>\n",
       "      <td>Ed Bartels</td>\n",
       "      <td>196.0</td>\n",
       "      <td>88.0</td>\n",
       "      <td>North Carolina State University</td>\n",
       "      <td>1925.0</td>\n",
       "      <td>NaN</td>\n",
       "      <td>NaN</td>\n",
       "    </tr>\n",
       "    <tr>\n",
       "      <th>4</th>\n",
       "      <td>4</td>\n",
       "      <td>Ralph Beard</td>\n",
       "      <td>178.0</td>\n",
       "      <td>79.0</td>\n",
       "      <td>University of Kentucky</td>\n",
       "      <td>1927.0</td>\n",
       "      <td>Hardinsburg</td>\n",
       "      <td>Kentucky</td>\n",
       "    </tr>\n",
       "  </tbody>\n",
       "</table>\n",
       "</div>"
      ],
      "text/plain": [
       "   Unnamed: 0           Player  height  weight  \\\n",
       "0           0  Curly Armstrong   180.0    77.0   \n",
       "1           1     Cliff Barker   188.0    83.0   \n",
       "2           2    Leo Barnhorst   193.0    86.0   \n",
       "3           3       Ed Bartels   196.0    88.0   \n",
       "4           4      Ralph Beard   178.0    79.0   \n",
       "\n",
       "                           collage    born   birth_city birth_state  \n",
       "0               Indiana University  1918.0          NaN         NaN  \n",
       "1           University of Kentucky  1921.0     Yorktown     Indiana  \n",
       "2         University of Notre Dame  1924.0          NaN         NaN  \n",
       "3  North Carolina State University  1925.0          NaN         NaN  \n",
       "4           University of Kentucky  1927.0  Hardinsburg    Kentucky  "
      ]
     },
     "execution_count": 161,
     "metadata": {},
     "output_type": "execute_result"
    }
   ],
   "source": [
    "import pandas as pd\n",
    "\n",
    "file = 'datasets_1358_30676_Players.csv'\n",
    "\n",
    "df = pd.read_csv(file)\n",
    "df.head()"
   ]
  },
  {
   "cell_type": "code",
   "execution_count": 163,
   "metadata": {},
   "outputs": [
    {
     "data": {
      "text/plain": [
       "Index(['Unnamed: 0', 'Player', 'height', 'weight', 'collage', 'born',\n",
       "       'birth_city', 'birth_state'],\n",
       "      dtype='object')"
      ]
     },
     "execution_count": 163,
     "metadata": {},
     "output_type": "execute_result"
    }
   ],
   "source": [
    "df.columns"
   ]
  },
  {
   "cell_type": "code",
   "execution_count": 168,
   "metadata": {},
   "outputs": [
    {
     "data": {
      "text/html": [
       "<div>\n",
       "<style scoped>\n",
       "    .dataframe tbody tr th:only-of-type {\n",
       "        vertical-align: middle;\n",
       "    }\n",
       "\n",
       "    .dataframe tbody tr th {\n",
       "        vertical-align: top;\n",
       "    }\n",
       "\n",
       "    .dataframe thead th {\n",
       "        text-align: right;\n",
       "    }\n",
       "</style>\n",
       "<table border=\"1\" class=\"dataframe\">\n",
       "  <thead>\n",
       "    <tr style=\"text-align: right;\">\n",
       "      <th></th>\n",
       "      <th>height</th>\n",
       "      <th>weight</th>\n",
       "      <th>collage</th>\n",
       "      <th>born</th>\n",
       "      <th>birth_city</th>\n",
       "      <th>birth_state</th>\n",
       "    </tr>\n",
       "  </thead>\n",
       "  <tbody>\n",
       "    <tr>\n",
       "      <th>1</th>\n",
       "      <td>188.0</td>\n",
       "      <td>83.0</td>\n",
       "      <td>University of Kentucky</td>\n",
       "      <td>1921.0</td>\n",
       "      <td>Yorktown</td>\n",
       "      <td>Indiana</td>\n",
       "    </tr>\n",
       "    <tr>\n",
       "      <th>2</th>\n",
       "      <td>193.0</td>\n",
       "      <td>86.0</td>\n",
       "      <td>University of Notre Dame</td>\n",
       "      <td>1924.0</td>\n",
       "      <td>NaN</td>\n",
       "      <td>NaN</td>\n",
       "    </tr>\n",
       "    <tr>\n",
       "      <th>3</th>\n",
       "      <td>196.0</td>\n",
       "      <td>88.0</td>\n",
       "      <td>North Carolina State University</td>\n",
       "      <td>1925.0</td>\n",
       "      <td>NaN</td>\n",
       "      <td>NaN</td>\n",
       "    </tr>\n",
       "    <tr>\n",
       "      <th>4</th>\n",
       "      <td>178.0</td>\n",
       "      <td>79.0</td>\n",
       "      <td>University of Kentucky</td>\n",
       "      <td>1927.0</td>\n",
       "      <td>Hardinsburg</td>\n",
       "      <td>Kentucky</td>\n",
       "    </tr>\n",
       "  </tbody>\n",
       "</table>\n",
       "</div>"
      ],
      "text/plain": [
       "   height  weight                          collage    born   birth_city  \\\n",
       "1   188.0    83.0           University of Kentucky  1921.0     Yorktown   \n",
       "2   193.0    86.0         University of Notre Dame  1924.0          NaN   \n",
       "3   196.0    88.0  North Carolina State University  1925.0          NaN   \n",
       "4   178.0    79.0           University of Kentucky  1927.0  Hardinsburg   \n",
       "\n",
       "  birth_state  \n",
       "1     Indiana  \n",
       "2         NaN  \n",
       "3         NaN  \n",
       "4    Kentucky  "
      ]
     },
     "execution_count": 168,
     "metadata": {},
     "output_type": "execute_result"
    }
   ],
   "source": [
    "df.loc[1:4,'height':'birth_state']"
   ]
  },
  {
   "cell_type": "code",
   "execution_count": 173,
   "metadata": {},
   "outputs": [
    {
     "data": {
      "text/html": [
       "<div>\n",
       "<style scoped>\n",
       "    .dataframe tbody tr th:only-of-type {\n",
       "        vertical-align: middle;\n",
       "    }\n",
       "\n",
       "    .dataframe tbody tr th {\n",
       "        vertical-align: top;\n",
       "    }\n",
       "\n",
       "    .dataframe thead th {\n",
       "        text-align: right;\n",
       "    }\n",
       "</style>\n",
       "<table border=\"1\" class=\"dataframe\">\n",
       "  <thead>\n",
       "    <tr style=\"text-align: right;\">\n",
       "      <th></th>\n",
       "      <th>height</th>\n",
       "      <th>weight</th>\n",
       "      <th>collage</th>\n",
       "    </tr>\n",
       "  </thead>\n",
       "  <tbody>\n",
       "    <tr>\n",
       "      <th>0</th>\n",
       "      <td>180.0</td>\n",
       "      <td>77.0</td>\n",
       "      <td>Indiana University</td>\n",
       "    </tr>\n",
       "    <tr>\n",
       "      <th>3</th>\n",
       "      <td>196.0</td>\n",
       "      <td>88.0</td>\n",
       "      <td>North Carolina State University</td>\n",
       "    </tr>\n",
       "    <tr>\n",
       "      <th>6</th>\n",
       "      <td>196.0</td>\n",
       "      <td>90.0</td>\n",
       "      <td>University of Kansas</td>\n",
       "    </tr>\n",
       "    <tr>\n",
       "      <th>9</th>\n",
       "      <td>196.0</td>\n",
       "      <td>95.0</td>\n",
       "      <td>University of Denver</td>\n",
       "    </tr>\n",
       "    <tr>\n",
       "      <th>12</th>\n",
       "      <td>190.0</td>\n",
       "      <td>79.0</td>\n",
       "      <td>Oklahoma State University</td>\n",
       "    </tr>\n",
       "    <tr>\n",
       "      <th>15</th>\n",
       "      <td>185.0</td>\n",
       "      <td>81.0</td>\n",
       "      <td>Louisiana State University</td>\n",
       "    </tr>\n",
       "    <tr>\n",
       "      <th>18</th>\n",
       "      <td>208.0</td>\n",
       "      <td>106.0</td>\n",
       "      <td>NaN</td>\n",
       "    </tr>\n",
       "    <tr>\n",
       "      <th>21</th>\n",
       "      <td>190.0</td>\n",
       "      <td>79.0</td>\n",
       "      <td>Seton Hall University</td>\n",
       "    </tr>\n",
       "    <tr>\n",
       "      <th>24</th>\n",
       "      <td>196.0</td>\n",
       "      <td>90.0</td>\n",
       "      <td>East Texas State University</td>\n",
       "    </tr>\n",
       "    <tr>\n",
       "      <th>27</th>\n",
       "      <td>190.0</td>\n",
       "      <td>83.0</td>\n",
       "      <td>Louisiana State University</td>\n",
       "    </tr>\n",
       "    <tr>\n",
       "      <th>30</th>\n",
       "      <td>188.0</td>\n",
       "      <td>81.0</td>\n",
       "      <td>University of Wisconsin</td>\n",
       "    </tr>\n",
       "    <tr>\n",
       "      <th>33</th>\n",
       "      <td>183.0</td>\n",
       "      <td>81.0</td>\n",
       "      <td>Georgetown University</td>\n",
       "    </tr>\n",
       "    <tr>\n",
       "      <th>36</th>\n",
       "      <td>185.0</td>\n",
       "      <td>74.0</td>\n",
       "      <td>University of Pennsylvania</td>\n",
       "    </tr>\n",
       "    <tr>\n",
       "      <th>39</th>\n",
       "      <td>185.0</td>\n",
       "      <td>79.0</td>\n",
       "      <td>Seton Hall University</td>\n",
       "    </tr>\n",
       "    <tr>\n",
       "      <th>42</th>\n",
       "      <td>183.0</td>\n",
       "      <td>79.0</td>\n",
       "      <td>New York University</td>\n",
       "    </tr>\n",
       "    <tr>\n",
       "      <th>45</th>\n",
       "      <td>198.0</td>\n",
       "      <td>88.0</td>\n",
       "      <td>College of William &amp; Mary</td>\n",
       "    </tr>\n",
       "    <tr>\n",
       "      <th>48</th>\n",
       "      <td>188.0</td>\n",
       "      <td>79.0</td>\n",
       "      <td>Butler University</td>\n",
       "    </tr>\n",
       "  </tbody>\n",
       "</table>\n",
       "</div>"
      ],
      "text/plain": [
       "    height  weight                          collage\n",
       "0    180.0    77.0               Indiana University\n",
       "3    196.0    88.0  North Carolina State University\n",
       "6    196.0    90.0             University of Kansas\n",
       "9    196.0    95.0             University of Denver\n",
       "12   190.0    79.0        Oklahoma State University\n",
       "15   185.0    81.0       Louisiana State University\n",
       "18   208.0   106.0                              NaN\n",
       "21   190.0    79.0            Seton Hall University\n",
       "24   196.0    90.0      East Texas State University\n",
       "27   190.0    83.0       Louisiana State University\n",
       "30   188.0    81.0          University of Wisconsin\n",
       "33   183.0    81.0            Georgetown University\n",
       "36   185.0    74.0       University of Pennsylvania\n",
       "39   185.0    79.0            Seton Hall University\n",
       "42   183.0    79.0              New York University\n",
       "45   198.0    88.0        College of William & Mary\n",
       "48   188.0    79.0                Butler University"
      ]
     },
     "execution_count": 173,
     "metadata": {},
     "output_type": "execute_result"
    }
   ],
   "source": [
    "df.iloc[0:50:3,2:5]"
   ]
  },
  {
   "cell_type": "code",
   "execution_count": null,
   "metadata": {},
   "outputs": [],
   "source": []
  },
  {
   "cell_type": "markdown",
   "metadata": {},
   "source": [
    "## 9.5 Função merge e função concat\n",
    "\n",
    "Acesse: https://pandas.pydata.org/docs/user_guide/merging.html\n",
    "\n",
    "De forma resumida, a função concat nos auxilia em combinar, concatenar os DataFrames. A função merge nos ajuda a fundir os DataFrames, tendo uma funcionalidade parecida com o procv do Excel.\n",
    "\n",
    "- pandas.concat(objs: Union[Iterable[FrameOrSeries], Mapping[Label, FrameOrSeries]], axis='0', join: str = \"'outer'\", ignore_index: bool = 'False', keys='None', levels='None', names='None', verify_integrity: bool = 'False', sort: bool = 'False', copy: bool = 'True')\n",
    "\n",
    "\n",
    "- pd.merge(left, right, how='inner', on=None, left_on=None, right_on=None, left_index=False, right_index=False, sort=True, suffixes=('_x', '_y'), copy=True, indicator=False,validate=None)"
   ]
  },
  {
   "cell_type": "code",
   "execution_count": 1,
   "metadata": {},
   "outputs": [],
   "source": [
    "# A ser preenchido pelo aluno"
   ]
  },
  {
   "cell_type": "code",
   "execution_count": null,
   "metadata": {},
   "outputs": [],
   "source": []
  },
  {
   "cell_type": "markdown",
   "metadata": {},
   "source": [
    "## 9.6 Índices booleanos\n",
    "\n",
    "Os índices booleanos nos auxiliam a aplicar filtros nos dataframes."
   ]
  },
  {
   "cell_type": "code",
   "execution_count": 56,
   "metadata": {},
   "outputs": [
    {
     "data": {
      "text/html": [
       "<div>\n",
       "<style scoped>\n",
       "    .dataframe tbody tr th:only-of-type {\n",
       "        vertical-align: middle;\n",
       "    }\n",
       "\n",
       "    .dataframe tbody tr th {\n",
       "        vertical-align: top;\n",
       "    }\n",
       "\n",
       "    .dataframe thead th {\n",
       "        text-align: right;\n",
       "    }\n",
       "</style>\n",
       "<table border=\"1\" class=\"dataframe\">\n",
       "  <thead>\n",
       "    <tr style=\"text-align: right;\">\n",
       "      <th></th>\n",
       "      <th>Unnamed: 0</th>\n",
       "      <th>Player</th>\n",
       "      <th>height</th>\n",
       "      <th>weight</th>\n",
       "      <th>collage</th>\n",
       "      <th>born</th>\n",
       "      <th>birth_city</th>\n",
       "      <th>birth_state</th>\n",
       "    </tr>\n",
       "  </thead>\n",
       "  <tbody>\n",
       "    <tr>\n",
       "      <th>0</th>\n",
       "      <td>0</td>\n",
       "      <td>Curly Armstrong</td>\n",
       "      <td>180.0</td>\n",
       "      <td>77.0</td>\n",
       "      <td>Indiana University</td>\n",
       "      <td>1918.0</td>\n",
       "      <td>NaN</td>\n",
       "      <td>NaN</td>\n",
       "    </tr>\n",
       "    <tr>\n",
       "      <th>1</th>\n",
       "      <td>1</td>\n",
       "      <td>Cliff Barker</td>\n",
       "      <td>188.0</td>\n",
       "      <td>83.0</td>\n",
       "      <td>University of Kentucky</td>\n",
       "      <td>1921.0</td>\n",
       "      <td>Yorktown</td>\n",
       "      <td>Indiana</td>\n",
       "    </tr>\n",
       "    <tr>\n",
       "      <th>2</th>\n",
       "      <td>2</td>\n",
       "      <td>Leo Barnhorst</td>\n",
       "      <td>193.0</td>\n",
       "      <td>86.0</td>\n",
       "      <td>University of Notre Dame</td>\n",
       "      <td>1924.0</td>\n",
       "      <td>NaN</td>\n",
       "      <td>NaN</td>\n",
       "    </tr>\n",
       "    <tr>\n",
       "      <th>3</th>\n",
       "      <td>3</td>\n",
       "      <td>Ed Bartels</td>\n",
       "      <td>196.0</td>\n",
       "      <td>88.0</td>\n",
       "      <td>North Carolina State University</td>\n",
       "      <td>1925.0</td>\n",
       "      <td>NaN</td>\n",
       "      <td>NaN</td>\n",
       "    </tr>\n",
       "    <tr>\n",
       "      <th>4</th>\n",
       "      <td>4</td>\n",
       "      <td>Ralph Beard</td>\n",
       "      <td>178.0</td>\n",
       "      <td>79.0</td>\n",
       "      <td>University of Kentucky</td>\n",
       "      <td>1927.0</td>\n",
       "      <td>Hardinsburg</td>\n",
       "      <td>Kentucky</td>\n",
       "    </tr>\n",
       "  </tbody>\n",
       "</table>\n",
       "</div>"
      ],
      "text/plain": [
       "   Unnamed: 0           Player  height  weight  \\\n",
       "0           0  Curly Armstrong   180.0    77.0   \n",
       "1           1     Cliff Barker   188.0    83.0   \n",
       "2           2    Leo Barnhorst   193.0    86.0   \n",
       "3           3       Ed Bartels   196.0    88.0   \n",
       "4           4      Ralph Beard   178.0    79.0   \n",
       "\n",
       "                           collage    born   birth_city birth_state  \n",
       "0               Indiana University  1918.0          NaN         NaN  \n",
       "1           University of Kentucky  1921.0     Yorktown     Indiana  \n",
       "2         University of Notre Dame  1924.0          NaN         NaN  \n",
       "3  North Carolina State University  1925.0          NaN         NaN  \n",
       "4           University of Kentucky  1927.0  Hardinsburg    Kentucky  "
      ]
     },
     "execution_count": 56,
     "metadata": {},
     "output_type": "execute_result"
    }
   ],
   "source": [
    "import pandas as pd\n",
    "\n",
    "file = 'datasets_1358_30676_Players.csv'\n",
    "\n",
    "df = pd.read_csv(file)\n",
    "df.head(5)"
   ]
  },
  {
   "cell_type": "code",
   "execution_count": 57,
   "metadata": {},
   "outputs": [
    {
     "data": {
      "text/plain": [
       "Index(['Unnamed: 0', 'Player', 'height', 'weight', 'collage', 'born',\n",
       "       'birth_city', 'birth_state'],\n",
       "      dtype='object')"
      ]
     },
     "execution_count": 57,
     "metadata": {},
     "output_type": "execute_result"
    }
   ],
   "source": [
    "df.columns"
   ]
  },
  {
   "cell_type": "code",
   "execution_count": 58,
   "metadata": {},
   "outputs": [
    {
     "data": {
      "text/plain": [
       "California                     344\n",
       "New York                       290\n",
       "Illinois                       209\n",
       "Pennsylvania                   163\n",
       "Ohio                           137\n",
       "                              ... \n",
       "Estonia                          1\n",
       "Denmark                          1\n",
       "United Republic of Tanzania      1\n",
       "Trinidad and Tobago              1\n",
       "South Africa                     1\n",
       "Name: birth_state, Length: 128, dtype: int64"
      ]
     },
     "execution_count": 58,
     "metadata": {},
     "output_type": "execute_result"
    }
   ],
   "source": [
    "df['birth_state'].value_counts()"
   ]
  },
  {
   "cell_type": "code",
   "execution_count": 61,
   "metadata": {},
   "outputs": [
    {
     "data": {
      "text/plain": [
       "False    3578\n",
       "True      344\n",
       "Name: birth_state, dtype: int64"
      ]
     },
     "execution_count": 61,
     "metadata": {},
     "output_type": "execute_result"
    }
   ],
   "source": [
    "From_California = df['birth_state'] =='California'\n",
    "\n",
    "From_California.value_counts()"
   ]
  },
  {
   "cell_type": "code",
   "execution_count": 63,
   "metadata": {},
   "outputs": [
    {
     "data": {
      "text/html": [
       "<div>\n",
       "<style scoped>\n",
       "    .dataframe tbody tr th:only-of-type {\n",
       "        vertical-align: middle;\n",
       "    }\n",
       "\n",
       "    .dataframe tbody tr th {\n",
       "        vertical-align: top;\n",
       "    }\n",
       "\n",
       "    .dataframe thead th {\n",
       "        text-align: right;\n",
       "    }\n",
       "</style>\n",
       "<table border=\"1\" class=\"dataframe\">\n",
       "  <thead>\n",
       "    <tr style=\"text-align: right;\">\n",
       "      <th></th>\n",
       "      <th>Unnamed: 0</th>\n",
       "      <th>Player</th>\n",
       "      <th>height</th>\n",
       "      <th>weight</th>\n",
       "      <th>collage</th>\n",
       "      <th>born</th>\n",
       "      <th>birth_city</th>\n",
       "      <th>birth_state</th>\n",
       "    </tr>\n",
       "  </thead>\n",
       "  <tbody>\n",
       "    <tr>\n",
       "      <th>22</th>\n",
       "      <td>22</td>\n",
       "      <td>Bill Calhoun</td>\n",
       "      <td>190.0</td>\n",
       "      <td>81.0</td>\n",
       "      <td>City College of San Francisco</td>\n",
       "      <td>1927.0</td>\n",
       "      <td>San Francisco</td>\n",
       "      <td>California</td>\n",
       "    </tr>\n",
       "    <tr>\n",
       "      <th>50</th>\n",
       "      <td>50</td>\n",
       "      <td>Bob Feerick</td>\n",
       "      <td>190.0</td>\n",
       "      <td>86.0</td>\n",
       "      <td>Santa Clara University</td>\n",
       "      <td>1920.0</td>\n",
       "      <td>San Francisco</td>\n",
       "      <td>California</td>\n",
       "    </tr>\n",
       "  </tbody>\n",
       "</table>\n",
       "</div>"
      ],
      "text/plain": [
       "    Unnamed: 0        Player  height  weight                        collage  \\\n",
       "22          22  Bill Calhoun   190.0    81.0  City College of San Francisco   \n",
       "50          50   Bob Feerick   190.0    86.0         Santa Clara University   \n",
       "\n",
       "      born     birth_city birth_state  \n",
       "22  1927.0  San Francisco  California  \n",
       "50  1920.0  San Francisco  California  "
      ]
     },
     "execution_count": 63,
     "metadata": {},
     "output_type": "execute_result"
    }
   ],
   "source": [
    "df[From_California].head(2)"
   ]
  },
  {
   "cell_type": "code",
   "execution_count": 65,
   "metadata": {},
   "outputs": [
    {
     "data": {
      "text/html": [
       "<div>\n",
       "<style scoped>\n",
       "    .dataframe tbody tr th:only-of-type {\n",
       "        vertical-align: middle;\n",
       "    }\n",
       "\n",
       "    .dataframe tbody tr th {\n",
       "        vertical-align: top;\n",
       "    }\n",
       "\n",
       "    .dataframe thead th {\n",
       "        text-align: right;\n",
       "    }\n",
       "</style>\n",
       "<table border=\"1\" class=\"dataframe\">\n",
       "  <thead>\n",
       "    <tr style=\"text-align: right;\">\n",
       "      <th></th>\n",
       "      <th>Unnamed: 0</th>\n",
       "      <th>Player</th>\n",
       "      <th>height</th>\n",
       "      <th>weight</th>\n",
       "      <th>collage</th>\n",
       "      <th>born</th>\n",
       "      <th>birth_city</th>\n",
       "      <th>birth_state</th>\n",
       "    </tr>\n",
       "  </thead>\n",
       "  <tbody>\n",
       "    <tr>\n",
       "      <th>2217</th>\n",
       "      <td>2217</td>\n",
       "      <td>Harold Miner</td>\n",
       "      <td>196.0</td>\n",
       "      <td>95.0</td>\n",
       "      <td>University of Southern California</td>\n",
       "      <td>1971.0</td>\n",
       "      <td>Inglewood</td>\n",
       "      <td>California</td>\n",
       "    </tr>\n",
       "    <tr>\n",
       "      <th>2220</th>\n",
       "      <td>2220</td>\n",
       "      <td>Tracy Murray</td>\n",
       "      <td>201.0</td>\n",
       "      <td>102.0</td>\n",
       "      <td>University of California, Los Angeles</td>\n",
       "      <td>1971.0</td>\n",
       "      <td>Los Angeles</td>\n",
       "      <td>California</td>\n",
       "    </tr>\n",
       "    <tr>\n",
       "      <th>2222</th>\n",
       "      <td>2222</td>\n",
       "      <td>Shaquille O'Neal*</td>\n",
       "      <td>216.0</td>\n",
       "      <td>147.0</td>\n",
       "      <td>Louisiana State University</td>\n",
       "      <td>1972.0</td>\n",
       "      <td>Newark</td>\n",
       "      <td>New Jersey</td>\n",
       "    </tr>\n",
       "    <tr>\n",
       "      <th>2246</th>\n",
       "      <td>2246</td>\n",
       "      <td>Vin Baker</td>\n",
       "      <td>211.0</td>\n",
       "      <td>105.0</td>\n",
       "      <td>University of Hartford</td>\n",
       "      <td>1971.0</td>\n",
       "      <td>Lake Wales</td>\n",
       "      <td>Florida</td>\n",
       "    </tr>\n",
       "    <tr>\n",
       "      <th>2248</th>\n",
       "      <td>2248</td>\n",
       "      <td>Shawn Bradley</td>\n",
       "      <td>229.0</td>\n",
       "      <td>106.0</td>\n",
       "      <td>Brigham Young University</td>\n",
       "      <td>1972.0</td>\n",
       "      <td>Landstuhl</td>\n",
       "      <td>Germany</td>\n",
       "    </tr>\n",
       "    <tr>\n",
       "      <th>...</th>\n",
       "      <td>...</td>\n",
       "      <td>...</td>\n",
       "      <td>...</td>\n",
       "      <td>...</td>\n",
       "      <td>...</td>\n",
       "      <td>...</td>\n",
       "      <td>...</td>\n",
       "      <td>...</td>\n",
       "    </tr>\n",
       "    <tr>\n",
       "      <th>3916</th>\n",
       "      <td>3916</td>\n",
       "      <td>Isaiah Whitehead</td>\n",
       "      <td>193.0</td>\n",
       "      <td>96.0</td>\n",
       "      <td>Seton Hall University</td>\n",
       "      <td>1995.0</td>\n",
       "      <td>Brooklyn</td>\n",
       "      <td>New York</td>\n",
       "    </tr>\n",
       "    <tr>\n",
       "      <th>3918</th>\n",
       "      <td>3918</td>\n",
       "      <td>Kyle Wiltjer</td>\n",
       "      <td>208.0</td>\n",
       "      <td>108.0</td>\n",
       "      <td>Gonzaga University</td>\n",
       "      <td>1992.0</td>\n",
       "      <td>Portland</td>\n",
       "      <td>Oregon</td>\n",
       "    </tr>\n",
       "    <tr>\n",
       "      <th>3919</th>\n",
       "      <td>3919</td>\n",
       "      <td>Stephen Zimmerman</td>\n",
       "      <td>213.0</td>\n",
       "      <td>108.0</td>\n",
       "      <td>University of Nevada, Las Vegas</td>\n",
       "      <td>1996.0</td>\n",
       "      <td>Hendersonville</td>\n",
       "      <td>Tennessee</td>\n",
       "    </tr>\n",
       "    <tr>\n",
       "      <th>3920</th>\n",
       "      <td>3920</td>\n",
       "      <td>Paul Zipser</td>\n",
       "      <td>203.0</td>\n",
       "      <td>97.0</td>\n",
       "      <td>NaN</td>\n",
       "      <td>1994.0</td>\n",
       "      <td>Heidelberg</td>\n",
       "      <td>Germany</td>\n",
       "    </tr>\n",
       "    <tr>\n",
       "      <th>3921</th>\n",
       "      <td>3921</td>\n",
       "      <td>Ivica Zubac</td>\n",
       "      <td>216.0</td>\n",
       "      <td>120.0</td>\n",
       "      <td>NaN</td>\n",
       "      <td>1997.0</td>\n",
       "      <td>Mostar</td>\n",
       "      <td>Bosnia and Herzegovina</td>\n",
       "    </tr>\n",
       "  </tbody>\n",
       "</table>\n",
       "<p>1487 rows × 8 columns</p>\n",
       "</div>"
      ],
      "text/plain": [
       "      Unnamed: 0             Player  height  weight  \\\n",
       "2217        2217       Harold Miner   196.0    95.0   \n",
       "2220        2220       Tracy Murray   201.0   102.0   \n",
       "2222        2222  Shaquille O'Neal*   216.0   147.0   \n",
       "2246        2246          Vin Baker   211.0   105.0   \n",
       "2248        2248      Shawn Bradley   229.0   106.0   \n",
       "...          ...                ...     ...     ...   \n",
       "3916        3916   Isaiah Whitehead   193.0    96.0   \n",
       "3918        3918       Kyle Wiltjer   208.0   108.0   \n",
       "3919        3919  Stephen Zimmerman   213.0   108.0   \n",
       "3920        3920        Paul Zipser   203.0    97.0   \n",
       "3921        3921        Ivica Zubac   216.0   120.0   \n",
       "\n",
       "                                    collage    born      birth_city  \\\n",
       "2217      University of Southern California  1971.0       Inglewood   \n",
       "2220  University of California, Los Angeles  1971.0     Los Angeles   \n",
       "2222             Louisiana State University  1972.0          Newark   \n",
       "2246                 University of Hartford  1971.0      Lake Wales   \n",
       "2248               Brigham Young University  1972.0       Landstuhl   \n",
       "...                                     ...     ...             ...   \n",
       "3916                  Seton Hall University  1995.0        Brooklyn   \n",
       "3918                     Gonzaga University  1992.0        Portland   \n",
       "3919        University of Nevada, Las Vegas  1996.0  Hendersonville   \n",
       "3920                                    NaN  1994.0      Heidelberg   \n",
       "3921                                    NaN  1997.0          Mostar   \n",
       "\n",
       "                 birth_state  \n",
       "2217              California  \n",
       "2220              California  \n",
       "2222              New Jersey  \n",
       "2246                 Florida  \n",
       "2248                 Germany  \n",
       "...                      ...  \n",
       "3916                New York  \n",
       "3918                  Oregon  \n",
       "3919               Tennessee  \n",
       "3920                 Germany  \n",
       "3921  Bosnia and Herzegovina  \n",
       "\n",
       "[1487 rows x 8 columns]"
      ]
     },
     "execution_count": 65,
     "metadata": {},
     "output_type": "execute_result"
    }
   ],
   "source": [
    "after_1970 = df['born']>1970\n",
    "\n",
    "df[after_1970]"
   ]
  },
  {
   "cell_type": "code",
   "execution_count": null,
   "metadata": {},
   "outputs": [],
   "source": []
  },
  {
   "cell_type": "code",
   "execution_count": null,
   "metadata": {},
   "outputs": [],
   "source": []
  },
  {
   "cell_type": "markdown",
   "metadata": {},
   "source": [
    "## 9.7 Tabela dinâmica (Tratando carteira de ações)\n",
    "\n",
    "\n",
    "\n",
    "- pivot_table(values=None, index=None, columns=None, aggfunc='mean', fill_value=None, margins=False, dropna=True, margins_name='All', observed=False)"
   ]
  },
  {
   "cell_type": "code",
   "execution_count": 2,
   "metadata": {},
   "outputs": [],
   "source": [
    "# A ser preenchido pelo aluno"
   ]
  },
  {
   "cell_type": "code",
   "execution_count": null,
   "metadata": {},
   "outputs": [],
   "source": []
  },
  {
   "cell_type": "code",
   "execution_count": null,
   "metadata": {},
   "outputs": [],
   "source": []
  },
  {
   "cell_type": "markdown",
   "metadata": {},
   "source": [
    "## 9.8 Visualização de gráficos com Pandas\n",
    "\n",
    "\n",
    "Nesta seção veremos:\n",
    "\n",
    "- df.plot(x='x',y='y')\n",
    "- df.plot.bar(x='x',y='y')\n",
    "- df.plot.pie(subplots=True ou y='y')\n",
    "- df.plot.scatter(x='x',y='y')\n",
    "\n",
    "\n",
    "Acesse: https://pandas.pydata.org/docs/user_guide/visualization.html#visualization-hist"
   ]
  },
  {
   "cell_type": "code",
   "execution_count": 3,
   "metadata": {},
   "outputs": [],
   "source": [
    "# A ser preenchido pelo aluno"
   ]
  },
  {
   "cell_type": "code",
   "execution_count": null,
   "metadata": {},
   "outputs": [],
   "source": []
  },
  {
   "cell_type": "markdown",
   "metadata": {},
   "source": [
    "## 9.9 Tratando dados de intinerários (Exemplo prático 2)"
   ]
  },
  {
   "cell_type": "markdown",
   "metadata": {},
   "source": [
    "Dados horários de intinerários, pede-se:\n",
    "- Encontre e filtre as razões sociais que se repetem duas vezes;\n",
    "- Encontre quais delas possuem intervalos em menos de uma hora.\n",
    "\n",
    "https://dados.antt.gov.br/dataset/gerenciamento-de-autorizacoes\n",
    "\n",
    "Uso do método **.isin** e da função **pd.to_datetime**"
   ]
  },
  {
   "cell_type": "code",
   "execution_count": 4,
   "metadata": {},
   "outputs": [],
   "source": [
    "# A ser preenchido pelo aluno"
   ]
  },
  {
   "cell_type": "code",
   "execution_count": null,
   "metadata": {},
   "outputs": [],
   "source": []
  },
  {
   "cell_type": "code",
   "execution_count": null,
   "metadata": {},
   "outputs": [],
   "source": []
  },
  {
   "cell_type": "code",
   "execution_count": null,
   "metadata": {},
   "outputs": [],
   "source": []
  },
  {
   "cell_type": "markdown",
   "metadata": {},
   "source": [
    "## 9.10 - Preparando os dados"
   ]
  },
  {
   "cell_type": "markdown",
   "metadata": {},
   "source": [
    "#### Alguns métodos para DataFrames\n",
    "\n",
    "\n",
    "| Métodos aplicados ao DataFrame | Descrição |\n",
    "| :-- | :-- |\n",
    "| .drop(labels=None, axis=0, index=None, columns=None, level=None, inplace=False, errors='raise') | Remove uma série de dados especificada |\n",
    "| .isnull(obj)/.notnull(obj) | cria uma série de booleanos |\n",
    "| .dropna(axis=0, how='any', thresh=None, subset=None, inplace=False) | Deleta linha (axis=0) ou coluna (axis=1) com célula(s) nula(s) |\n",
    "| .fillna(value=None, method=None, axis=None, inplace=False, limit=None, downcast=None) | Substitui o valor nulo por um valor determinado |\n",
    "| .duplicated(subset=None, keep='first') | retorna um booleano com valores duplicados |\n",
    "| .drop_duplicates(subset=None, keep='first', inplace=False, ignore_index=False) | deleta linhas com valores duplicados. Pode selecionar uma determinada coluna usando subset |\n",
    "\n",
    "\n",
    "Atenção, esses métodos não modificam o DataFrame"
   ]
  },
  {
   "cell_type": "code",
   "execution_count": 5,
   "metadata": {},
   "outputs": [],
   "source": [
    "# A ser preenchido pelo aluno"
   ]
  },
  {
   "cell_type": "markdown",
   "metadata": {},
   "source": [
    "## 9.11 Multi índices (ex. com pyNastran)\n",
    "\n",
    "Objetos multi índices:\n",
    "\n",
    "MultiIndex.from_tuples(tuples, sortorder=None, names=None)\n",
    "\n",
    "MultiIndex.from_arrays(arrays, sortorder=None, names=<object object>)\n",
    "    \n",
    "MultiIndex.from_frame(df, sortorder=None, names=None)"
   ]
  },
  {
   "cell_type": "code",
   "execution_count": 2,
   "metadata": {},
   "outputs": [
    {
     "data": {
      "text/plain": [
       "array([[0, 1],\n",
       "       [2, 3],\n",
       "       [4, 5],\n",
       "       [6, 7],\n",
       "       [8, 9]])"
      ]
     },
     "execution_count": 2,
     "metadata": {},
     "output_type": "execute_result"
    }
   ],
   "source": [
    "import numpy as np\n",
    "\n",
    "a_arr = np.arange(10).reshape(5,2)\n",
    "a_arr"
   ]
  },
  {
   "cell_type": "code",
   "execution_count": 14,
   "metadata": {},
   "outputs": [
    {
     "data": {
      "text/plain": [
       "pandas.core.indexes.multi.MultiIndex"
      ]
     },
     "execution_count": 14,
     "metadata": {},
     "output_type": "execute_result"
    }
   ],
   "source": [
    "a_index = pd.MultiIndex.from_tuples([('A',1),('A',2),('B',1),('B',2),('B',3)],names=['first','second'])\n",
    "type(a_index)"
   ]
  },
  {
   "cell_type": "code",
   "execution_count": 15,
   "metadata": {},
   "outputs": [
    {
     "data": {
      "text/html": [
       "<div>\n",
       "<style scoped>\n",
       "    .dataframe tbody tr th:only-of-type {\n",
       "        vertical-align: middle;\n",
       "    }\n",
       "\n",
       "    .dataframe tbody tr th {\n",
       "        vertical-align: top;\n",
       "    }\n",
       "\n",
       "    .dataframe thead th {\n",
       "        text-align: right;\n",
       "    }\n",
       "</style>\n",
       "<table border=\"1\" class=\"dataframe\">\n",
       "  <thead>\n",
       "    <tr style=\"text-align: right;\">\n",
       "      <th></th>\n",
       "      <th></th>\n",
       "      <th>0</th>\n",
       "      <th>1</th>\n",
       "    </tr>\n",
       "    <tr>\n",
       "      <th>first</th>\n",
       "      <th>second</th>\n",
       "      <th></th>\n",
       "      <th></th>\n",
       "    </tr>\n",
       "  </thead>\n",
       "  <tbody>\n",
       "    <tr>\n",
       "      <th rowspan=\"2\" valign=\"top\">A</th>\n",
       "      <th>1</th>\n",
       "      <td>0</td>\n",
       "      <td>1</td>\n",
       "    </tr>\n",
       "    <tr>\n",
       "      <th>2</th>\n",
       "      <td>2</td>\n",
       "      <td>3</td>\n",
       "    </tr>\n",
       "    <tr>\n",
       "      <th rowspan=\"3\" valign=\"top\">B</th>\n",
       "      <th>1</th>\n",
       "      <td>4</td>\n",
       "      <td>5</td>\n",
       "    </tr>\n",
       "    <tr>\n",
       "      <th>2</th>\n",
       "      <td>6</td>\n",
       "      <td>7</td>\n",
       "    </tr>\n",
       "    <tr>\n",
       "      <th>3</th>\n",
       "      <td>8</td>\n",
       "      <td>9</td>\n",
       "    </tr>\n",
       "  </tbody>\n",
       "</table>\n",
       "</div>"
      ],
      "text/plain": [
       "              0  1\n",
       "first second      \n",
       "A     1       0  1\n",
       "      2       2  3\n",
       "B     1       4  5\n",
       "      2       6  7\n",
       "      3       8  9"
      ]
     },
     "execution_count": 15,
     "metadata": {},
     "output_type": "execute_result"
    }
   ],
   "source": [
    "import pandas as pd\n",
    "\n",
    "a_df = pd.DataFrame(a_arr,index=a_index)\n",
    "a_df"
   ]
  },
  {
   "cell_type": "code",
   "execution_count": 33,
   "metadata": {},
   "outputs": [
    {
     "data": {
      "text/plain": [
       "second\n",
       "1    1\n",
       "2    3\n",
       "Name: 1, dtype: int32"
      ]
     },
     "execution_count": 33,
     "metadata": {},
     "output_type": "execute_result"
    }
   ],
   "source": [
    "a_df[1]['A']"
   ]
  },
  {
   "cell_type": "code",
   "execution_count": null,
   "metadata": {},
   "outputs": [],
   "source": []
  },
  {
   "cell_type": "code",
   "execution_count": 119,
   "metadata": {},
   "outputs": [],
   "source": [
    "## OP2"
   ]
  },
  {
   "cell_type": "code",
   "execution_count": 120,
   "metadata": {},
   "outputs": [],
   "source": [
    "from pyNastran.op2.op2 import OP2\n",
    "op2 = OP2()"
   ]
  },
  {
   "cell_type": "code",
   "execution_count": 121,
   "metadata": {},
   "outputs": [
    {
     "data": {
      "text/html": [
       "<text style=color:blue>DEBUG:   op2.py:542                   combine=True\n",
       "</text>"
      ],
      "text/plain": [
       "<IPython.core.display.HTML object>"
      ]
     },
     "metadata": {},
     "output_type": "display_data"
    },
    {
     "data": {
      "text/html": [
       "<text style=color:blue>DEBUG:   op2.py:543                   -------- reading op2 with read_mode=1 (array sizing) --------\n",
       "</text>"
      ],
      "text/plain": [
       "<IPython.core.display.HTML object>"
      ]
     },
     "metadata": {},
     "output_type": "display_data"
    },
    {
     "data": {
      "text/html": [
       "<text style=color:green>INFO:    op2_scalar.py:1556           op2_filename = 'D:/DESKTOP-2020/PROJETOS_PESSOAIS/Python/1-Python para Engenheiros e Cientistas/Aulas editadas/Secao-9/model-001.op2'\n",
       "</text>"
      ],
      "text/plain": [
       "<IPython.core.display.HTML object>"
      ]
     },
     "metadata": {},
     "output_type": "display_data"
    },
    {
     "data": {
      "text/html": [
       "<text style=color:blue>DEBUG:   op2_reader.py:270            mode = 'optistruct'\n",
       "</text>"
      ],
      "text/plain": [
       "<IPython.core.display.HTML object>"
      ]
     },
     "metadata": {},
     "output_type": "display_data"
    },
    {
     "data": {
      "text/html": [
       "<text style=color:blue>DEBUG:   op2_scalar.py:1735             table_name=b'OUGV1'\n",
       "</text>"
      ],
      "text/plain": [
       "<IPython.core.display.HTML object>"
      ]
     },
     "metadata": {},
     "output_type": "display_data"
    },
    {
     "data": {
      "text/html": [
       "<text style=color:blue>DEBUG:   op2_scalar.py:1735             table_name=b'OES1X'\n",
       "</text>"
      ],
      "text/plain": [
       "<IPython.core.display.HTML object>"
      ]
     },
     "metadata": {},
     "output_type": "display_data"
    },
    {
     "data": {
      "text/html": [
       "<text style=color:blue>DEBUG:   op2.py:562                   -------- reading op2 with read_mode=2 (array filling) --------\n",
       "</text>"
      ],
      "text/plain": [
       "<IPython.core.display.HTML object>"
      ]
     },
     "metadata": {},
     "output_type": "display_data"
    },
    {
     "data": {
      "text/html": [
       "<text style=color:blue>DEBUG:   op2_reader.py:270            mode = 'optistruct'\n",
       "</text>"
      ],
      "text/plain": [
       "<IPython.core.display.HTML object>"
      ]
     },
     "metadata": {},
     "output_type": "display_data"
    },
    {
     "data": {
      "text/html": [
       "<text style=color:blue>DEBUG:   op2_scalar.py:1735             table_name=b'OUGV1'\n",
       "</text>"
      ],
      "text/plain": [
       "<IPython.core.display.HTML object>"
      ]
     },
     "metadata": {},
     "output_type": "display_data"
    },
    {
     "data": {
      "text/html": [
       "<text style=color:blue>DEBUG:   op2_scalar.py:1735             table_name=b'OES1X'\n",
       "</text>"
      ],
      "text/plain": [
       "<IPython.core.display.HTML object>"
      ]
     },
     "metadata": {},
     "output_type": "display_data"
    },
    {
     "data": {
      "text/html": [
       "<text style=color:blue>DEBUG:   op2.py:859                   combine_results\n",
       "</text>"
      ],
      "text/plain": [
       "<IPython.core.display.HTML object>"
      ]
     },
     "metadata": {},
     "output_type": "display_data"
    },
    {
     "data": {
      "text/html": [
       "<text style=color:blue>DEBUG:   op2.py:575                   finished reading op2\n",
       "</text>"
      ],
      "text/plain": [
       "<IPython.core.display.HTML object>"
      ]
     },
     "metadata": {},
     "output_type": "display_data"
    }
   ],
   "source": [
    "path = 'D:/DESKTOP-2020/PROJETOS_PESSOAIS/Python/1-Python para Engenheiros e Cientistas/Aulas editadas/Secao-9/model-001.op2'\n",
    "op2.read_op2(path)"
   ]
  },
  {
   "cell_type": "code",
   "execution_count": 123,
   "metadata": {},
   "outputs": [
    {
     "name": "stdout",
     "output_type": "stream",
     "text": [
      "displacements[1]\n",
      "  isubcase = 1\n",
      "  type=RealDisplacementArray nnodes=858, table_name=OUGV1\n",
      "  data: [t1, t2, t3, r1, r2, r3] shape=[1, 858, 6] dtype=float32\n",
      "  node_gridtype.shape = (858, 2)\n",
      "  sort1\n",
      "  lsdvmns = [1]\n",
      "\n",
      "ctria3_stress[1]\n",
      "  type=RealPlateStressArray nelements=4 nnodes_per_element=1 nlayers=2 ntotal=8\n",
      "  data: [1, ntotal, 8] where 8=[fiber_distance, oxx, oyy, txy, angle, omax, omin, von_mises]\n",
      "  element_node.shape = (8, 2)\n",
      "  data.shape=(1, 8, 8)\n",
      "  element type: CTRIA3\n",
      "  s_code: 1\n",
      "  sort1\n",
      "  lsdvmns = [1]\n",
      "\n",
      "cquad4_stress[1]\n",
      "  type=RealPlateStressArray nelements=784 nnodes_per_element=1 nlayers=2 ntotal=1568\n",
      "  data: [1, ntotal, 8] where 8=[fiber_distance, oxx, oyy, txy, angle, omax, omin, von_mises]\n",
      "  element_node.shape = (1568, 2)\n",
      "  data.shape=(1, 1568, 8)\n",
      "  element type: CQUAD4\n",
      "  s_code: 1\n",
      "  sort1\n",
      "  lsdvmns = [1]\n",
      "\n",
      "\n"
     ]
    }
   ],
   "source": [
    "print(op2.get_op2_stats())"
   ]
  },
  {
   "cell_type": "code",
   "execution_count": 124,
   "metadata": {},
   "outputs": [
    {
     "data": {
      "text/html": [
       "<div>\n",
       "<style scoped>\n",
       "    .dataframe tbody tr th:only-of-type {\n",
       "        vertical-align: middle;\n",
       "    }\n",
       "\n",
       "    .dataframe tbody tr th {\n",
       "        vertical-align: top;\n",
       "    }\n",
       "\n",
       "    .dataframe thead th {\n",
       "        text-align: right;\n",
       "    }\n",
       "</style>\n",
       "<table border=\"1\" class=\"dataframe\">\n",
       "  <thead>\n",
       "    <tr style=\"text-align: right;\">\n",
       "      <th></th>\n",
       "      <th></th>\n",
       "      <th></th>\n",
       "      <th>index</th>\n",
       "      <th>fiber_distance</th>\n",
       "      <th>oxx</th>\n",
       "      <th>oyy</th>\n",
       "      <th>txy</th>\n",
       "      <th>angle</th>\n",
       "      <th>omax</th>\n",
       "      <th>omin</th>\n",
       "      <th>von_mises</th>\n",
       "    </tr>\n",
       "    <tr>\n",
       "      <th>ElementID</th>\n",
       "      <th>NodeID</th>\n",
       "      <th>Location</th>\n",
       "      <th></th>\n",
       "      <th></th>\n",
       "      <th></th>\n",
       "      <th></th>\n",
       "      <th></th>\n",
       "      <th></th>\n",
       "      <th></th>\n",
       "      <th></th>\n",
       "      <th></th>\n",
       "    </tr>\n",
       "  </thead>\n",
       "  <tbody>\n",
       "    <tr>\n",
       "      <th rowspan=\"2\" valign=\"top\">1</th>\n",
       "      <th rowspan=\"2\" valign=\"top\">CEN</th>\n",
       "      <th>Top</th>\n",
       "      <td>0</td>\n",
       "      <td>-0.5</td>\n",
       "      <td>0.034607</td>\n",
       "      <td>1.319078</td>\n",
       "      <td>0.194984</td>\n",
       "      <td>81.555817</td>\n",
       "      <td>1.348024</td>\n",
       "      <td>0.005661</td>\n",
       "      <td>1.345202</td>\n",
       "    </tr>\n",
       "    <tr>\n",
       "      <th>Bottom</th>\n",
       "      <td>1</td>\n",
       "      <td>0.5</td>\n",
       "      <td>0.034607</td>\n",
       "      <td>1.319078</td>\n",
       "      <td>0.194984</td>\n",
       "      <td>81.555817</td>\n",
       "      <td>1.348024</td>\n",
       "      <td>0.005661</td>\n",
       "      <td>1.345202</td>\n",
       "    </tr>\n",
       "    <tr>\n",
       "      <th rowspan=\"2\" valign=\"top\">3</th>\n",
       "      <th rowspan=\"2\" valign=\"top\">CEN</th>\n",
       "      <th>Top</th>\n",
       "      <td>2</td>\n",
       "      <td>-0.5</td>\n",
       "      <td>2.077029</td>\n",
       "      <td>0.235260</td>\n",
       "      <td>-0.032872</td>\n",
       "      <td>-1.022184</td>\n",
       "      <td>2.077615</td>\n",
       "      <td>0.234674</td>\n",
       "      <td>1.970786</td>\n",
       "    </tr>\n",
       "    <tr>\n",
       "      <th>Bottom</th>\n",
       "      <td>3</td>\n",
       "      <td>0.5</td>\n",
       "      <td>2.077029</td>\n",
       "      <td>0.235260</td>\n",
       "      <td>-0.032872</td>\n",
       "      <td>-1.022184</td>\n",
       "      <td>2.077615</td>\n",
       "      <td>0.234674</td>\n",
       "      <td>1.970786</td>\n",
       "    </tr>\n",
       "    <tr>\n",
       "      <th>4</th>\n",
       "      <th>CEN</th>\n",
       "      <th>Top</th>\n",
       "      <td>4</td>\n",
       "      <td>-0.5</td>\n",
       "      <td>-0.169760</td>\n",
       "      <td>1.211231</td>\n",
       "      <td>0.141299</td>\n",
       "      <td>84.217476</td>\n",
       "      <td>1.225540</td>\n",
       "      <td>-0.184069</td>\n",
       "      <td>1.327183</td>\n",
       "    </tr>\n",
       "    <tr>\n",
       "      <th>...</th>\n",
       "      <th>...</th>\n",
       "      <th>...</th>\n",
       "      <td>...</td>\n",
       "      <td>...</td>\n",
       "      <td>...</td>\n",
       "      <td>...</td>\n",
       "      <td>...</td>\n",
       "      <td>...</td>\n",
       "      <td>...</td>\n",
       "      <td>...</td>\n",
       "      <td>...</td>\n",
       "    </tr>\n",
       "    <tr>\n",
       "      <th>786</th>\n",
       "      <th>CEN</th>\n",
       "      <th>Bottom</th>\n",
       "      <td>1563</td>\n",
       "      <td>0.5</td>\n",
       "      <td>-0.000088</td>\n",
       "      <td>1.000032</td>\n",
       "      <td>-0.000643</td>\n",
       "      <td>-89.963158</td>\n",
       "      <td>1.000032</td>\n",
       "      <td>-0.000088</td>\n",
       "      <td>1.000077</td>\n",
       "    </tr>\n",
       "    <tr>\n",
       "      <th rowspan=\"2\" valign=\"top\">787</th>\n",
       "      <th rowspan=\"2\" valign=\"top\">CEN</th>\n",
       "      <th>Top</th>\n",
       "      <td>1564</td>\n",
       "      <td>-0.5</td>\n",
       "      <td>0.001810</td>\n",
       "      <td>0.999950</td>\n",
       "      <td>-0.000374</td>\n",
       "      <td>-89.978500</td>\n",
       "      <td>0.999950</td>\n",
       "      <td>0.001810</td>\n",
       "      <td>0.999046</td>\n",
       "    </tr>\n",
       "    <tr>\n",
       "      <th>Bottom</th>\n",
       "      <td>1565</td>\n",
       "      <td>0.5</td>\n",
       "      <td>0.001810</td>\n",
       "      <td>0.999950</td>\n",
       "      <td>-0.000374</td>\n",
       "      <td>-89.978500</td>\n",
       "      <td>0.999950</td>\n",
       "      <td>0.001810</td>\n",
       "      <td>0.999046</td>\n",
       "    </tr>\n",
       "    <tr>\n",
       "      <th rowspan=\"2\" valign=\"top\">788</th>\n",
       "      <th rowspan=\"2\" valign=\"top\">CEN</th>\n",
       "      <th>Top</th>\n",
       "      <td>1566</td>\n",
       "      <td>-0.5</td>\n",
       "      <td>-0.000035</td>\n",
       "      <td>0.999970</td>\n",
       "      <td>-0.000262</td>\n",
       "      <td>-89.984970</td>\n",
       "      <td>0.999970</td>\n",
       "      <td>-0.000035</td>\n",
       "      <td>0.999988</td>\n",
       "    </tr>\n",
       "    <tr>\n",
       "      <th>Bottom</th>\n",
       "      <td>1567</td>\n",
       "      <td>0.5</td>\n",
       "      <td>-0.000035</td>\n",
       "      <td>0.999970</td>\n",
       "      <td>-0.000262</td>\n",
       "      <td>-89.984970</td>\n",
       "      <td>0.999970</td>\n",
       "      <td>-0.000035</td>\n",
       "      <td>0.999988</td>\n",
       "    </tr>\n",
       "  </tbody>\n",
       "</table>\n",
       "<p>1568 rows × 9 columns</p>\n",
       "</div>"
      ],
      "text/plain": [
       "                           index  fiber_distance       oxx       oyy  \\\n",
       "ElementID NodeID Location                                              \n",
       "1         CEN    Top           0            -0.5  0.034607  1.319078   \n",
       "                 Bottom        1             0.5  0.034607  1.319078   \n",
       "3         CEN    Top           2            -0.5  2.077029  0.235260   \n",
       "                 Bottom        3             0.5  2.077029  0.235260   \n",
       "4         CEN    Top           4            -0.5 -0.169760  1.211231   \n",
       "...                          ...             ...       ...       ...   \n",
       "786       CEN    Bottom     1563             0.5 -0.000088  1.000032   \n",
       "787       CEN    Top        1564            -0.5  0.001810  0.999950   \n",
       "                 Bottom     1565             0.5  0.001810  0.999950   \n",
       "788       CEN    Top        1566            -0.5 -0.000035  0.999970   \n",
       "                 Bottom     1567             0.5 -0.000035  0.999970   \n",
       "\n",
       "                                txy      angle      omax      omin  von_mises  \n",
       "ElementID NodeID Location                                                      \n",
       "1         CEN    Top       0.194984  81.555817  1.348024  0.005661   1.345202  \n",
       "                 Bottom    0.194984  81.555817  1.348024  0.005661   1.345202  \n",
       "3         CEN    Top      -0.032872  -1.022184  2.077615  0.234674   1.970786  \n",
       "                 Bottom   -0.032872  -1.022184  2.077615  0.234674   1.970786  \n",
       "4         CEN    Top       0.141299  84.217476  1.225540 -0.184069   1.327183  \n",
       "...                             ...        ...       ...       ...        ...  \n",
       "786       CEN    Bottom   -0.000643 -89.963158  1.000032 -0.000088   1.000077  \n",
       "787       CEN    Top      -0.000374 -89.978500  0.999950  0.001810   0.999046  \n",
       "                 Bottom   -0.000374 -89.978500  0.999950  0.001810   0.999046  \n",
       "788       CEN    Top      -0.000262 -89.984970  0.999970 -0.000035   0.999988  \n",
       "                 Bottom   -0.000262 -89.984970  0.999970 -0.000035   0.999988  \n",
       "\n",
       "[1568 rows x 9 columns]"
      ]
     },
     "execution_count": 124,
     "metadata": {},
     "output_type": "execute_result"
    }
   ],
   "source": [
    "op2.cquad4_stress[1].data_frame"
   ]
  },
  {
   "cell_type": "code",
   "execution_count": 125,
   "metadata": {},
   "outputs": [
    {
     "data": {
      "text/plain": [
       "MultiIndex([(  1, 'CEN',    'Top'),\n",
       "            (  1, 'CEN', 'Bottom'),\n",
       "            (  3, 'CEN',    'Top'),\n",
       "            (  3, 'CEN', 'Bottom'),\n",
       "            (  4, 'CEN',    'Top'),\n",
       "            (  4, 'CEN', 'Bottom'),\n",
       "            (  5, 'CEN',    'Top'),\n",
       "            (  5, 'CEN', 'Bottom'),\n",
       "            (  6, 'CEN',    'Top'),\n",
       "            (  6, 'CEN', 'Bottom'),\n",
       "            ...\n",
       "            (784, 'CEN',    'Top'),\n",
       "            (784, 'CEN', 'Bottom'),\n",
       "            (785, 'CEN',    'Top'),\n",
       "            (785, 'CEN', 'Bottom'),\n",
       "            (786, 'CEN',    'Top'),\n",
       "            (786, 'CEN', 'Bottom'),\n",
       "            (787, 'CEN',    'Top'),\n",
       "            (787, 'CEN', 'Bottom'),\n",
       "            (788, 'CEN',    'Top'),\n",
       "            (788, 'CEN', 'Bottom')],\n",
       "           names=['ElementID', 'NodeID', 'Location'], length=1568)"
      ]
     },
     "execution_count": 125,
     "metadata": {},
     "output_type": "execute_result"
    }
   ],
   "source": [
    "op2.cquad4_stress[1].data_frame.index"
   ]
  },
  {
   "cell_type": "markdown",
   "metadata": {},
   "source": [
    "## 9.12 Regressão linear com statsmodels"
   ]
  },
  {
   "cell_type": "markdown",
   "metadata": {},
   "source": [
    "**Estrutura:**\n",
    "\n",
    "Sejam **X** e **Y** dois arrays, ou Series, ou listas, onde:\n",
    "\n",
    "$$ Y = cte + cX $$\n",
    "\n",
    "\n",
    "\n",
    "```python\n",
    ">>>import statsmodels.api as sm #para importar a biblioteca\n",
    ">>>X = sm.add_constant(X) #adiciona a constante da regressão linear, se desejável\n",
    ">>>est = sm.OLS(Y,X).fit() #gera o objeto de regressão linear baseada em X e Y\n",
    ">>>est.params #retorna os parâmetros da regressão linear\n",
    ">>>print(est.summary()) #imprime um relatório estatístico da regressão linear\n",
    "\n",
    "```\n"
   ]
  },
  {
   "cell_type": "code",
   "execution_count": 1,
   "metadata": {},
   "outputs": [],
   "source": [
    "# A ser preenchida pelo aluno"
   ]
  },
  {
   "cell_type": "markdown",
   "metadata": {},
   "source": [
    "## 9.13 Desafio - regressão linear: correlação com dados reais"
   ]
  },
  {
   "cell_type": "markdown",
   "metadata": {},
   "source": [
    "Faça uma regressão linear com os dados da NBA e encontre a correlação com o peso dos atletas.\n",
    "- Encontre a correlaçao de peso e altura\n",
    "- Encontre a correlação entre idade e altura\n",
    "- Encontre a correlação com multiplas variáveis (peso com altura e idade)\n",
    "\n",
    "\n",
    "Nome do arquivo: file = 'datasets_1358_30676_Players.csv'"
   ]
  },
  {
   "cell_type": "code",
   "execution_count": 2,
   "metadata": {},
   "outputs": [],
   "source": [
    "# A ser preenchida pelo aluno"
   ]
  },
  {
   "cell_type": "code",
   "execution_count": null,
   "metadata": {},
   "outputs": [],
   "source": []
  }
 ],
 "metadata": {
  "kernelspec": {
   "display_name": "Python 3",
   "language": "python",
   "name": "python3"
  },
  "language_info": {
   "codemirror_mode": {
    "name": "ipython",
    "version": 3
   },
   "file_extension": ".py",
   "mimetype": "text/x-python",
   "name": "python",
   "nbconvert_exporter": "python",
   "pygments_lexer": "ipython3",
   "version": "3.8.3"
  }
 },
 "nbformat": 4,
 "nbformat_minor": 4
}
